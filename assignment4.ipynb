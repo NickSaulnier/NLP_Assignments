{
 "cells": [
  {
   "cell_type": "markdown",
   "metadata": {
    "id": "199b929a"
   },
   "source": [
    "# Assignment 4 - RNN classification and Named Entity Recognition"
   ]
  },
  {
   "cell_type": "code",
   "execution_count": 1,
   "metadata": {
    "colab": {
     "base_uri": "https://localhost:8080/",
     "height": 35
    },
    "executionInfo": {
     "elapsed": 3467,
     "status": "ok",
     "timestamp": 1637532055333,
     "user": {
      "displayName": "Nicholas Saulnier",
      "photoUrl": "https://lh3.googleusercontent.com/a-/AOh14GjBzaoSuUs2qp4-Wr1BcTklxfosWn89g7Tbw1j8=s64",
      "userId": "12122203451340966147"
     },
     "user_tz": 480
    },
    "id": "47e3d326",
    "outputId": "0324139c-9f6c-4ab4-a1d8-59c042cdd46a"
   },
   "outputs": [
    {
     "data": {
      "application/vnd.google.colaboratory.intrinsic+json": {
       "type": "string"
      },
      "text/plain": [
       "'2.7.0'"
      ]
     },
     "execution_count": 1,
     "metadata": {},
     "output_type": "execute_result"
    }
   ],
   "source": [
    "%matplotlib inline\n",
    "import keras\n",
    "import matplotlib.pyplot as plt\n",
    "import numpy as np\n",
    "import os\n",
    "import pandas as pd\n",
    "from keras import models\n",
    "from keras import layers\n",
    "from keras.datasets import reuters\n",
    "from keras.layers import Bidirectional, Dense, Embedding, LSTM, SimpleRNN, GRU\n",
    "from keras.models import Sequential\n",
    "from keras.preprocessing import sequence\n",
    "from sklearn.feature_extraction import DictVectorizer\n",
    "from sklearn.model_selection import train_test_split\n",
    "from sklearn.naive_bayes import GaussianNB\n",
    "from sklearn.neighbors import KNeighborsClassifier\n",
    "from sklearn.tree import DecisionTreeClassifier\n",
    "from sklearn.linear_model import LogisticRegression\n",
    "keras.__version__"
   ]
  },
  {
   "cell_type": "code",
   "execution_count": 94,
   "metadata": {
    "colab": {
     "base_uri": "https://localhost:8080/"
    },
    "executionInfo": {
     "elapsed": 23429,
     "status": "ok",
     "timestamp": 1637549588282,
     "user": {
      "displayName": "Nicholas Saulnier",
      "photoUrl": "https://lh3.googleusercontent.com/a-/AOh14GjBzaoSuUs2qp4-Wr1BcTklxfosWn89g7Tbw1j8=s64",
      "userId": "12122203451340966147"
     },
     "user_tz": 480
    },
    "id": "l4v__EQqKWbE",
    "outputId": "c924ba44-664e-4063-ffee-6bbb25ca61ee"
   },
   "outputs": [
    {
     "name": "stdout",
     "output_type": "stream",
     "text": [
      "Mounted at /content/drive\n",
      "/content/drive/My Drive/Colab Notebooks/nlp_github/CS-6120_saulniern/Assignment4\n"
     ]
    }
   ],
   "source": [
    "# I'm working in Colab - Use the drive folder to write results file\n",
    "try:\n",
    "    from google.colab import drive \n",
    "    drive.mount('/content/drive', force_remount=True)\n",
    "    %cd drive/My Drive/Colab Notebooks/nlp_github/CS-6120_saulniern/Assignment4/\n",
    "except:\n",
    "    pass\n",
    "\n",
    "step_1_metrics_out = os.path.join(os.getcwd(), 'ReadmeProblem1.txt')"
   ]
  },
  {
   "cell_type": "markdown",
   "metadata": {
    "id": "42f1674c"
   },
   "source": [
    "## 1. RNNs and Classification"
   ]
  },
  {
   "cell_type": "markdown",
   "metadata": {
    "id": "22b6b991"
   },
   "source": [
    "## Step 1. Examine the data"
   ]
  },
  {
   "cell_type": "code",
   "execution_count": 3,
   "metadata": {
    "colab": {
     "base_uri": "https://localhost:8080/"
    },
    "executionInfo": {
     "elapsed": 896,
     "status": "ok",
     "timestamp": 1637532057328,
     "user": {
      "displayName": "Nicholas Saulnier",
      "photoUrl": "https://lh3.googleusercontent.com/a-/AOh14GjBzaoSuUs2qp4-Wr1BcTklxfosWn89g7Tbw1j8=s64",
      "userId": "12122203451340966147"
     },
     "user_tz": 480
    },
    "id": "a32817b1",
    "outputId": "c3b2b453-10ae-43e9-e7cb-e0a612562354"
   },
   "outputs": [
    {
     "name": "stdout",
     "output_type": "stream",
     "text": [
      "Downloading data from https://storage.googleapis.com/tensorflow/tf-keras-datasets/reuters.npz\n",
      "2113536/2110848 [==============================] - 0s 0us/step\n",
      "2121728/2110848 [==============================] - 0s 0us/step\n"
     ]
    }
   ],
   "source": [
    "(input_train, y_train), (input_test, y_test) = reuters.load_data()"
   ]
  },
  {
   "cell_type": "code",
   "execution_count": 4,
   "metadata": {
    "colab": {
     "base_uri": "https://localhost:8080/"
    },
    "executionInfo": {
     "elapsed": 18,
     "status": "ok",
     "timestamp": 1637532057328,
     "user": {
      "displayName": "Nicholas Saulnier",
      "photoUrl": "https://lh3.googleusercontent.com/a-/AOh14GjBzaoSuUs2qp4-Wr1BcTklxfosWn89g7Tbw1j8=s64",
      "userId": "12122203451340966147"
     },
     "user_tz": 480
    },
    "id": "bab8ec21",
    "outputId": "de8fd51a-98fd-413d-8b8d-cfb2f761b4bf"
   },
   "outputs": [
    {
     "name": "stdout",
     "output_type": "stream",
     "text": [
      "Number of training samples: 8982\n"
     ]
    }
   ],
   "source": [
    "# Report the number training samples\n",
    "num_train_samples = len(input_train)\n",
    "print('Number of training samples: {}'.format(num_train_samples))"
   ]
  },
  {
   "cell_type": "code",
   "execution_count": 5,
   "metadata": {
    "colab": {
     "base_uri": "https://localhost:8080/"
    },
    "executionInfo": {
     "elapsed": 11,
     "status": "ok",
     "timestamp": 1637532057329,
     "user": {
      "displayName": "Nicholas Saulnier",
      "photoUrl": "https://lh3.googleusercontent.com/a-/AOh14GjBzaoSuUs2qp4-Wr1BcTklxfosWn89g7Tbw1j8=s64",
      "userId": "12122203451340966147"
     },
     "user_tz": 480
    },
    "id": "803c5f02",
    "outputId": "3066bd3e-4658-4fad-f707-99fbeb665197"
   },
   "outputs": [
    {
     "name": "stdout",
     "output_type": "stream",
     "text": [
      "Number of test samples: 2246\n"
     ]
    }
   ],
   "source": [
    "# Report the number test samples\n",
    "num_test_samples = len(input_test)\n",
    "print('Number of test samples: {}'.format(num_test_samples))"
   ]
  },
  {
   "cell_type": "code",
   "execution_count": 6,
   "metadata": {
    "executionInfo": {
     "elapsed": 7,
     "status": "ok",
     "timestamp": 1637532057552,
     "user": {
      "displayName": "Nicholas Saulnier",
      "photoUrl": "https://lh3.googleusercontent.com/a-/AOh14GjBzaoSuUs2qp4-Wr1BcTklxfosWn89g7Tbw1j8=s64",
      "userId": "12122203451340966147"
     },
     "user_tz": 480
    },
    "id": "c6f98bca"
   },
   "outputs": [],
   "source": [
    "def createBarChart(X, y, title, xlabel, ylabel):\n",
    "    \"\"\"Plot a bar chart of the specified classes and their counts.\"\"\"\n",
    "    fig, ax = plt.subplots()\n",
    "    fig.set_figheight(5)\n",
    "    fig.set_figwidth(20)\n",
    "    ax.set_title(title, fontsize=16)\n",
    "    ax.set_xlabel(xlabel, fontsize=12)\n",
    "    ax.set_ylabel(ylabel, fontsize=12)\n",
    "    ax.set_xticks(X)\n",
    "    ax.bar(X, y, align='center', alpha=0.7)\n",
    "    for class_index,count in enumerate(y):\n",
    "        plt.text(x=class_index, y=count, s=f\"{count}\", ha='center', fontdict=dict(fontsize=8))\n",
    "    plt.show()"
   ]
  },
  {
   "cell_type": "code",
   "execution_count": 7,
   "metadata": {
    "executionInfo": {
     "elapsed": 6,
     "status": "ok",
     "timestamp": 1637532057552,
     "user": {
      "displayName": "Nicholas Saulnier",
      "photoUrl": "https://lh3.googleusercontent.com/a-/AOh14GjBzaoSuUs2qp4-Wr1BcTklxfosWn89g7Tbw1j8=s64",
      "userId": "12122203451340966147"
     },
     "user_tz": 480
    },
    "id": "beeba6b5"
   },
   "outputs": [],
   "source": [
    "# Get list of unique class indices, and the number of occurrences of each class, for the training data\n",
    "unique_train_classes, train_class_counts = np.unique(y_train, return_counts=True)"
   ]
  },
  {
   "cell_type": "code",
   "execution_count": 8,
   "metadata": {
    "colab": {
     "base_uri": "https://localhost:8080/",
     "height": 355
    },
    "executionInfo": {
     "elapsed": 738,
     "status": "ok",
     "timestamp": 1637532058284,
     "user": {
      "displayName": "Nicholas Saulnier",
      "photoUrl": "https://lh3.googleusercontent.com/a-/AOh14GjBzaoSuUs2qp4-Wr1BcTklxfosWn89g7Tbw1j8=s64",
      "userId": "12122203451340966147"
     },
     "user_tz": 480
    },
    "id": "faaaa6f7",
    "outputId": "99f3caa5-7b33-48ae-c6bc-26e3831389b7"
   },
   "outputs": [
    {
     "data": {
      "image/png": "[encoded data removed]",
      "text/plain": [
       "<Figure size 1440x360 with 1 Axes>"
      ]
     },
     "metadata": {
      "needs_background": "light"
     },
     "output_type": "display_data"
    }
   ],
   "source": [
    "# Plot the training set classes with their counts\n",
    "plot_title = 'Reuters Dataset Train Class Counts'\n",
    "xlabel = 'Class Index'\n",
    "ylabel = 'Class Count'\n",
    "createBarChart(unique_train_classes, train_class_counts, plot_title, xlabel, ylabel)"
   ]
  },
  {
   "cell_type": "code",
   "execution_count": 9,
   "metadata": {
    "executionInfo": {
     "elapsed": 4,
     "status": "ok",
     "timestamp": 1637532058285,
     "user": {
      "displayName": "Nicholas Saulnier",
      "photoUrl": "https://lh3.googleusercontent.com/a-/AOh14GjBzaoSuUs2qp4-Wr1BcTklxfosWn89g7Tbw1j8=s64",
      "userId": "12122203451340966147"
     },
     "user_tz": 480
    },
    "id": "1d2d9309"
   },
   "outputs": [],
   "source": [
    "# Get the unique classes, and their counts, from the test set\n",
    "unique_test_classes, test_class_counts = np.unique(y_test, return_counts=True)"
   ]
  },
  {
   "cell_type": "code",
   "execution_count": 10,
   "metadata": {
    "colab": {
     "base_uri": "https://localhost:8080/",
     "height": 355
    },
    "executionInfo": {
     "elapsed": 465,
     "status": "ok",
     "timestamp": 1637532058746,
     "user": {
      "displayName": "Nicholas Saulnier",
      "photoUrl": "https://lh3.googleusercontent.com/a-/AOh14GjBzaoSuUs2qp4-Wr1BcTklxfosWn89g7Tbw1j8=s64",
      "userId": "12122203451340966147"
     },
     "user_tz": 480
    },
    "id": "d844091f",
    "outputId": "c0739bab-9e57-48a0-f84b-6eb3728ca5d4"
   },
   "outputs": [
    {
     "data": {
      "image/png": "[encoded data removed]",
      "text/plain": [
       "<Figure size 1440x360 with 1 Axes>"
      ]
     },
     "metadata": {
      "needs_background": "light"
     },
     "output_type": "display_data"
    }
   ],
   "source": [
    "# Plot the test set classes with their counts\n",
    "plot_title = 'Reuters Dataset Test Class Counts'\n",
    "xlabel = 'Class Index'\n",
    "ylabel = 'Class Count'\n",
    "createBarChart(unique_test_classes, test_class_counts, plot_title, xlabel, ylabel)"
   ]
  },
  {
   "cell_type": "code",
   "execution_count": 11,
   "metadata": {
    "colab": {
     "base_uri": "https://localhost:8080/"
    },
    "executionInfo": {
     "elapsed": 13,
     "status": "ok",
     "timestamp": 1637532058747,
     "user": {
      "displayName": "Nicholas Saulnier",
      "photoUrl": "https://lh3.googleusercontent.com/a-/AOh14GjBzaoSuUs2qp4-Wr1BcTklxfosWn89g7Tbw1j8=s64",
      "userId": "12122203451340966147"
     },
     "user_tz": 480
    },
    "id": "86e83667",
    "outputId": "82fcc10e-5ca1-4c7c-ee84-f3db610e6f85"
   },
   "outputs": [
    {
     "name": "stdout",
     "output_type": "stream",
     "text": [
      "Average training sample length: 145.5398574927633\n"
     ]
    }
   ],
   "source": [
    "# Report the average training sample length\n",
    "length_of_all_train_samples = 0\n",
    "for train_sample in input_train:\n",
    "    length_of_all_train_samples += len(train_sample)\n",
    "average_train_sample_length = length_of_all_train_samples / len(input_train)\n",
    "print('Average training sample length: {}'.format(average_train_sample_length))"
   ]
  },
  {
   "cell_type": "code",
   "execution_count": 12,
   "metadata": {
    "colab": {
     "base_uri": "https://localhost:8080/"
    },
    "executionInfo": {
     "elapsed": 10,
     "status": "ok",
     "timestamp": 1637532058748,
     "user": {
      "displayName": "Nicholas Saulnier",
      "photoUrl": "https://lh3.googleusercontent.com/a-/AOh14GjBzaoSuUs2qp4-Wr1BcTklxfosWn89g7Tbw1j8=s64",
      "userId": "12122203451340966147"
     },
     "user_tz": 480
    },
    "id": "12d88501",
    "outputId": "e0c18a72-4b22-441a-f470-27f34202e91f"
   },
   "outputs": [
    {
     "name": "stdout",
     "output_type": "stream",
     "text": [
      "Average test sample length: 147.66117542297417\n"
     ]
    }
   ],
   "source": [
    "# Report the average test sample length\n",
    "length_of_all_test_samples = 0\n",
    "for test_sample in input_test:\n",
    "    length_of_all_test_samples += len(test_sample)\n",
    "average_test_sample_length = length_of_all_test_samples / len(input_test)\n",
    "print('Average test sample length: {}'.format(average_test_sample_length))"
   ]
  },
  {
   "cell_type": "code",
   "execution_count": 13,
   "metadata": {
    "executionInfo": {
     "elapsed": 7,
     "status": "ok",
     "timestamp": 1637532058748,
     "user": {
      "displayName": "Nicholas Saulnier",
      "photoUrl": "https://lh3.googleusercontent.com/a-/AOh14GjBzaoSuUs2qp4-Wr1BcTklxfosWn89g7Tbw1j8=s64",
      "userId": "12122203451340966147"
     },
     "user_tz": 480
    },
    "id": "5cb9f6d4"
   },
   "outputs": [],
   "source": [
    "# Get average sample lengths for each train class\n",
    "train_sample_length_sums = {train_class: 0 for train_class in unique_train_classes}\n",
    "\n",
    "for index,train_sample in np.ndenumerate(input_train):\n",
    "    class_index =  y_train[index]\n",
    "    train_sample_length_sums[class_index] += len(train_sample)\n",
    "    \n",
    "average_train_sample_lengths = []\n",
    "for index,class_index in enumerate(train_sample_length_sums.keys()):\n",
    "    average_sample_length = round(train_sample_length_sums[class_index] / train_class_counts[index], 2)\n",
    "    average_train_sample_lengths.append(average_sample_length)"
   ]
  },
  {
   "cell_type": "code",
   "execution_count": 14,
   "metadata": {
    "colab": {
     "base_uri": "https://localhost:8080/",
     "height": 355
    },
    "executionInfo": {
     "elapsed": 729,
     "status": "ok",
     "timestamp": 1637532059471,
     "user": {
      "displayName": "Nicholas Saulnier",
      "photoUrl": "https://lh3.googleusercontent.com/a-/AOh14GjBzaoSuUs2qp4-Wr1BcTklxfosWn89g7Tbw1j8=s64",
      "userId": "12122203451340966147"
     },
     "user_tz": 480
    },
    "id": "e43721f1",
    "outputId": "6c78fbe7-f567-4e68-9194-4c2898149ce9"
   },
   "outputs": [
    {
     "data": {
      "image/png": "[encoded data removed]",
      "text/plain": [
       "<Figure size 1440x360 with 1 Axes>"
      ]
     },
     "metadata": {
      "needs_background": "light"
     },
     "output_type": "display_data"
    }
   ],
   "source": [
    "# Plot the average training class sample lengths\n",
    "plot_title = 'Average Train Class Sample Lengths'\n",
    "xlabel = 'Class Index'\n",
    "ylabel = 'Average Sample Length'\n",
    "createBarChart(unique_train_classes, average_train_sample_lengths, plot_title, xlabel, ylabel)"
   ]
  },
  {
   "cell_type": "code",
   "execution_count": 15,
   "metadata": {
    "executionInfo": {
     "elapsed": 3,
     "status": "ok",
     "timestamp": 1637532059471,
     "user": {
      "displayName": "Nicholas Saulnier",
      "photoUrl": "https://lh3.googleusercontent.com/a-/AOh14GjBzaoSuUs2qp4-Wr1BcTklxfosWn89g7Tbw1j8=s64",
      "userId": "12122203451340966147"
     },
     "user_tz": 480
    },
    "id": "371840f1"
   },
   "outputs": [],
   "source": [
    "# Get the average sample lengths for each test class\n",
    "test_sample_length_sums = {test_class: 0 for test_class in unique_test_classes}\n",
    "\n",
    "for index,test_sample in np.ndenumerate(input_test):\n",
    "    class_index =  y_test[index]\n",
    "    test_sample_length_sums[class_index] += len(test_sample)\n",
    "    \n",
    "average_test_sample_lengths = []\n",
    "for index,class_index in enumerate(test_sample_length_sums.keys()):\n",
    "    average_sample_length = round(test_sample_length_sums[class_index] / test_class_counts[index], 2)\n",
    "    average_test_sample_lengths.append(average_sample_length)"
   ]
  },
  {
   "cell_type": "code",
   "execution_count": 16,
   "metadata": {
    "colab": {
     "base_uri": "https://localhost:8080/",
     "height": 355
    },
    "executionInfo": {
     "elapsed": 516,
     "status": "ok",
     "timestamp": 1637532059985,
     "user": {
      "displayName": "Nicholas Saulnier",
      "photoUrl": "https://lh3.googleusercontent.com/a-/AOh14GjBzaoSuUs2qp4-Wr1BcTklxfosWn89g7Tbw1j8=s64",
      "userId": "12122203451340966147"
     },
     "user_tz": 480
    },
    "id": "49d08fc2",
    "outputId": "09201cf7-7075-421d-cc9b-31e664843369"
   },
   "outputs": [
    {
     "data": {
      "image/png": "[encoded data removed]",
      "text/plain": [
       "<Figure size 1440x360 with 1 Axes>"
      ]
     },
     "metadata": {
      "needs_background": "light"
     },
     "output_type": "display_data"
    }
   ],
   "source": [
    "# Plot the average test class sample lengths\n",
    "plot_title = 'Average Test Class Sample Lengths'\n",
    "xlabel = 'Class Index'\n",
    "ylabel = 'Average Sample Length'\n",
    "createBarChart(unique_test_classes, average_test_sample_lengths, plot_title, xlabel, ylabel)"
   ]
  },
  {
   "cell_type": "code",
   "execution_count": 17,
   "metadata": {
    "executionInfo": {
     "elapsed": 12,
     "status": "ok",
     "timestamp": 1637532060186,
     "user": {
      "displayName": "Nicholas Saulnier",
      "photoUrl": "https://lh3.googleusercontent.com/a-/AOh14GjBzaoSuUs2qp4-Wr1BcTklxfosWn89g7Tbw1j8=s64",
      "userId": "12122203451340966147"
     },
     "user_tz": 480
    },
    "id": "d77ba740"
   },
   "outputs": [],
   "source": [
    "# Get the differences in average sample length in the training set vs. test set for each class \n",
    "train_test_avg_sample_length_diffs = []\n",
    "for i in range(0, len(average_test_sample_lengths)):\n",
    "    train_test_avg_sample_length_diffs.append(round(abs(average_train_sample_lengths[i] - average_test_sample_lengths[i]), 2))"
   ]
  },
  {
   "cell_type": "code",
   "execution_count": 18,
   "metadata": {
    "colab": {
     "base_uri": "https://localhost:8080/",
     "height": 355
    },
    "executionInfo": {
     "elapsed": 426,
     "status": "ok",
     "timestamp": 1637532060602,
     "user": {
      "displayName": "Nicholas Saulnier",
      "photoUrl": "https://lh3.googleusercontent.com/a-/AOh14GjBzaoSuUs2qp4-Wr1BcTklxfosWn89g7Tbw1j8=s64",
      "userId": "12122203451340966147"
     },
     "user_tz": 480
    },
    "id": "0b35c85a",
    "outputId": "8afa9540-2326-4aa3-d5db-d5b9a7349ec6"
   },
   "outputs": [
    {
     "data": {
      "image/png": "[encoded data removed]",
      "text/plain": [
       "<Figure size 1440x360 with 1 Axes>"
      ]
     },
     "metadata": {
      "needs_background": "light"
     },
     "output_type": "display_data"
    }
   ],
   "source": [
    "# Plot the differences in average sample length in the training set vs. test set for each class \n",
    "plot_title = 'Differences in Avg Train/Test Sample Lengths by Class'\n",
    "xlabel = 'Class Index'\n",
    "ylabel = 'Difference'\n",
    "createBarChart(unique_train_classes, train_test_avg_sample_length_diffs, plot_title, xlabel, ylabel)"
   ]
  },
  {
   "cell_type": "code",
   "execution_count": 19,
   "metadata": {
    "executionInfo": {
     "elapsed": 23003,
     "status": "ok",
     "timestamp": 1637532083603,
     "user": {
      "displayName": "Nicholas Saulnier",
      "photoUrl": "https://lh3.googleusercontent.com/a-/AOh14GjBzaoSuUs2qp4-Wr1BcTklxfosWn89g7Tbw1j8=s64",
      "userId": "12122203451340966147"
     },
     "user_tz": 480
    },
    "id": "cd09da8a"
   },
   "outputs": [],
   "source": [
    "# Get size of the unique vocabulary for each train class\n",
    "train_unique_vocab = {train_class: [] for train_class in unique_train_classes}\n",
    "\n",
    "for index,train_sample in np.ndenumerate(input_train):\n",
    "    class_index =  y_train[index]\n",
    "    for word_index in train_sample:\n",
    "        if not word_index in train_unique_vocab[class_index]:\n",
    "            train_unique_vocab[class_index].append(word_index)\n",
    "\n",
    "train_class_vocab_sizes = []\n",
    "for class_index in train_unique_vocab.keys():\n",
    "    vocab_size = len(train_unique_vocab[class_index])\n",
    "    train_class_vocab_sizes.append(vocab_size)"
   ]
  },
  {
   "cell_type": "code",
   "execution_count": 20,
   "metadata": {
    "colab": {
     "base_uri": "https://localhost:8080/",
     "height": 355
    },
    "executionInfo": {
     "elapsed": 638,
     "status": "ok",
     "timestamp": 1637532084236,
     "user": {
      "displayName": "Nicholas Saulnier",
      "photoUrl": "https://lh3.googleusercontent.com/a-/AOh14GjBzaoSuUs2qp4-Wr1BcTklxfosWn89g7Tbw1j8=s64",
      "userId": "12122203451340966147"
     },
     "user_tz": 480
    },
    "id": "1d8b9264",
    "outputId": "0006f5d8-34d4-4733-d368-0b80589fe266"
   },
   "outputs": [
    {
     "data": {
      "image/png": "[encoded data removed]",
      "text/plain": [
       "<Figure size 1440x360 with 1 Axes>"
      ]
     },
     "metadata": {
      "needs_background": "light"
     },
     "output_type": "display_data"
    }
   ],
   "source": [
    "# Plot the vocab size of each train class\n",
    "plot_title = 'Train Class Vocab Sizes'\n",
    "xlabel = 'Class Index'\n",
    "ylabel = 'Vocab Size'\n",
    "createBarChart(unique_train_classes, train_class_vocab_sizes, plot_title, xlabel, ylabel)"
   ]
  },
  {
   "cell_type": "code",
   "execution_count": 21,
   "metadata": {
    "executionInfo": {
     "elapsed": 3988,
     "status": "ok",
     "timestamp": 1637532088221,
     "user": {
      "displayName": "Nicholas Saulnier",
      "photoUrl": "https://lh3.googleusercontent.com/a-/AOh14GjBzaoSuUs2qp4-Wr1BcTklxfosWn89g7Tbw1j8=s64",
      "userId": "12122203451340966147"
     },
     "user_tz": 480
    },
    "id": "6a6d93cb"
   },
   "outputs": [],
   "source": [
    "# Get size of the unique vocabulary for each test class\n",
    "test_unique_vocab = {test_class: [] for test_class in unique_test_classes}\n",
    "\n",
    "for index,test_sample in np.ndenumerate(input_test):\n",
    "    class_index =  y_test[index]\n",
    "    for word_index in test_sample:\n",
    "        if not word_index in test_unique_vocab[class_index]:\n",
    "            test_unique_vocab[class_index].append(word_index)\n",
    "\n",
    "test_class_vocab_sizes = []\n",
    "for class_index in test_unique_vocab.keys():\n",
    "    vocab_size = len(test_unique_vocab[class_index])\n",
    "    test_class_vocab_sizes.append(vocab_size)"
   ]
  },
  {
   "cell_type": "code",
   "execution_count": 22,
   "metadata": {
    "colab": {
     "base_uri": "https://localhost:8080/",
     "height": 355
    },
    "executionInfo": {
     "elapsed": 606,
     "status": "ok",
     "timestamp": 1637532088822,
     "user": {
      "displayName": "Nicholas Saulnier",
      "photoUrl": "https://lh3.googleusercontent.com/a-/AOh14GjBzaoSuUs2qp4-Wr1BcTklxfosWn89g7Tbw1j8=s64",
      "userId": "12122203451340966147"
     },
     "user_tz": 480
    },
    "id": "3395236b",
    "outputId": "16ea0dff-5539-42c6-eb18-2ed32ae2518b"
   },
   "outputs": [
    {
     "data": {
      "image/png": "[encoded data removed]",
      "text/plain": [
       "<Figure size 1440x360 with 1 Axes>"
      ]
     },
     "metadata": {
      "needs_background": "light"
     },
     "output_type": "display_data"
    }
   ],
   "source": [
    "# Plot the vocab size of each train class\n",
    "plot_title = 'Test Class Vocab Sizes'\n",
    "xlabel = 'Class Index'\n",
    "ylabel = 'Vocab Size'\n",
    "createBarChart(unique_test_classes, test_class_vocab_sizes, plot_title, xlabel, ylabel)"
   ]
  },
  {
   "cell_type": "code",
   "execution_count": 23,
   "metadata": {
    "executionInfo": {
     "elapsed": 6,
     "status": "ok",
     "timestamp": 1637532088823,
     "user": {
      "displayName": "Nicholas Saulnier",
      "photoUrl": "https://lh3.googleusercontent.com/a-/AOh14GjBzaoSuUs2qp4-Wr1BcTklxfosWn89g7Tbw1j8=s64",
      "userId": "12122203451340966147"
     },
     "user_tz": 480
    },
    "id": "3022e3d5"
   },
   "outputs": [],
   "source": [
    "def writeClassMetric(file, metric_list, header):\n",
    "    file.write(header)\n",
    "    for index,value in enumerate(metric_list):\n",
    "        line = str(index) + ': ' + str(value) + '\\n'\n",
    "        file.write(line)"
   ]
  },
  {
   "cell_type": "code",
   "execution_count": 24,
   "metadata": {
    "executionInfo": {
     "elapsed": 5,
     "status": "ok",
     "timestamp": 1637532088823,
     "user": {
      "displayName": "Nicholas Saulnier",
      "photoUrl": "https://lh3.googleusercontent.com/a-/AOh14GjBzaoSuUs2qp4-Wr1BcTklxfosWn89g7Tbw1j8=s64",
      "userId": "12122203451340966147"
     },
     "user_tz": 480
    },
    "id": "70832017"
   },
   "outputs": [],
   "source": [
    "# Record metrics in output file\n",
    "step_1_metrics_out = os.path.join(os.getcwd(), 'ReadmeProblem1.txt')\n",
    "with open(step_1_metrics_out, 'w') as file:\n",
    "    train_sample_count_line = 'Number of training samples: ' + str(num_train_samples) + '\\n'\n",
    "    file.write(train_sample_count_line)\n",
    "    test_sample_count_line = 'Number of test samples: ' + str(num_test_samples) + '\\n'\n",
    "    file.write(test_sample_count_line)\n",
    "    \n",
    "    writeClassMetric(file, train_class_counts, '\\nTraining Class Counts\\n')\n",
    "    writeClassMetric(file, test_class_counts, '\\nTest Class Counts\\n')\n",
    "    writeClassMetric(file, average_train_sample_lengths, '\\nTraining Class Average Sample Length\\n')   \n",
    "    writeClassMetric(file, average_test_sample_lengths, '\\nTest Class Average Sample Length\\n')\n",
    "    writeClassMetric(file, train_test_avg_sample_length_diffs, '\\nDifferences in Avg Sample Length Between Training and Test Class Instances\\n')\n",
    "    writeClassMetric(file, train_class_vocab_sizes, '\\nTrain Class Vocab Sizes\\n')\n",
    "    writeClassMetric(file, test_class_vocab_sizes, '\\nTest Class Vocab Sizes\\n')"
   ]
  },
  {
   "cell_type": "markdown",
   "metadata": {
    "id": "02c1301c"
   },
   "source": [
    "## Step 2. Newswire Classification Experiments"
   ]
  },
  {
   "cell_type": "code",
   "execution_count": 25,
   "metadata": {
    "executionInfo": {
     "elapsed": 5,
     "status": "ok",
     "timestamp": 1637532088823,
     "user": {
      "displayName": "Nicholas Saulnier",
      "photoUrl": "https://lh3.googleusercontent.com/a-/AOh14GjBzaoSuUs2qp4-Wr1BcTklxfosWn89g7Tbw1j8=s64",
      "userId": "12122203451340966147"
     },
     "user_tz": 480
    },
    "id": "2509d107"
   },
   "outputs": [],
   "source": [
    "def plotTrainingAndValidationLoss(history):\n",
    "    loss = history.history['loss']\n",
    "    val_loss = history.history['val_loss']  \n",
    "    epochs = range(1, len(loss) + 1)\n",
    "    plt.clf()\n",
    "    plt.plot(epochs, loss, 'bo', label='Training loss')\n",
    "    plt.plot(epochs, val_loss, 'b', label='Validation loss')\n",
    "    plt.title('Training and validation loss')\n",
    "    plt.xlabel('Epochs')\n",
    "    plt.ylabel('Loss')\n",
    "    plt.legend()\n",
    "    plt.show();"
   ]
  },
  {
   "cell_type": "code",
   "execution_count": 26,
   "metadata": {
    "executionInfo": {
     "elapsed": 5,
     "status": "ok",
     "timestamp": 1637532088824,
     "user": {
      "displayName": "Nicholas Saulnier",
      "photoUrl": "https://lh3.googleusercontent.com/a-/AOh14GjBzaoSuUs2qp4-Wr1BcTklxfosWn89g7Tbw1j8=s64",
      "userId": "12122203451340966147"
     },
     "user_tz": 480
    },
    "id": "d10cb97f"
   },
   "outputs": [],
   "source": [
    "def plotTrainingAndValidationAccuracy(history, metric_string='accuracy'):\n",
    "    acc = history.history[metric_string]\n",
    "    val_acc = history.history['val_' + metric_string]\n",
    "    epochs = range(1, len(acc) + 1)\n",
    "    plt.clf()\n",
    "    plt.plot(epochs, acc, 'bo', label='Training acc')\n",
    "    plt.plot(epochs, val_acc, 'b', label='Validation acc')\n",
    "    plt.title('Training and validation accuracy')\n",
    "    plt.xlabel('Epochs')\n",
    "    plt.ylabel('Loss')\n",
    "    plt.legend()\n",
    "    plt.show()"
   ]
  },
  {
   "cell_type": "code",
   "execution_count": 27,
   "metadata": {
    "executionInfo": {
     "elapsed": 5,
     "status": "ok",
     "timestamp": 1637532088824,
     "user": {
      "displayName": "Nicholas Saulnier",
      "photoUrl": "https://lh3.googleusercontent.com/a-/AOh14GjBzaoSuUs2qp4-Wr1BcTklxfosWn89g7Tbw1j8=s64",
      "userId": "12122203451340966147"
     },
     "user_tz": 480
    },
    "id": "6f2fe10f"
   },
   "outputs": [],
   "source": [
    "def vectorize_sequences(sequences, dimension=31000):\n",
    "    results = np.zeros((len(sequences), dimension))\n",
    "    for i, sequence in enumerate(sequences):\n",
    "        results[i, sequence] = 1.\n",
    "    return results"
   ]
  },
  {
   "cell_type": "code",
   "execution_count": 28,
   "metadata": {
    "executionInfo": {
     "elapsed": 5,
     "status": "ok",
     "timestamp": 1637532088824,
     "user": {
      "displayName": "Nicholas Saulnier",
      "photoUrl": "https://lh3.googleusercontent.com/a-/AOh14GjBzaoSuUs2qp4-Wr1BcTklxfosWn89g7Tbw1j8=s64",
      "userId": "12122203451340966147"
     },
     "user_tz": 480
    },
    "id": "e5571589"
   },
   "outputs": [],
   "source": [
    "def to_one_hot(labels, dimension=46):\n",
    "    results = np.zeros((len(labels), dimension))\n",
    "    for i, label in enumerate(labels):\n",
    "        results[i, label] = 1.\n",
    "    return results"
   ]
  },
  {
   "cell_type": "code",
   "execution_count": 29,
   "metadata": {
    "executionInfo": {
     "elapsed": 2057,
     "status": "ok",
     "timestamp": 1637532090876,
     "user": {
      "displayName": "Nicholas Saulnier",
      "photoUrl": "https://lh3.googleusercontent.com/a-/AOh14GjBzaoSuUs2qp4-Wr1BcTklxfosWn89g7Tbw1j8=s64",
      "userId": "12122203451340966147"
     },
     "user_tz": 480
    },
    "id": "de578964"
   },
   "outputs": [],
   "source": [
    "# Vectorize the training and test data\n",
    "x_train = vectorize_sequences(input_train)\n",
    "x_test = vectorize_sequences(input_test)"
   ]
  },
  {
   "cell_type": "code",
   "execution_count": 30,
   "metadata": {
    "executionInfo": {
     "elapsed": 4,
     "status": "ok",
     "timestamp": 1637532090877,
     "user": {
      "displayName": "Nicholas Saulnier",
      "photoUrl": "https://lh3.googleusercontent.com/a-/AOh14GjBzaoSuUs2qp4-Wr1BcTklxfosWn89g7Tbw1j8=s64",
      "userId": "12122203451340966147"
     },
     "user_tz": 480
    },
    "id": "912a15c1"
   },
   "outputs": [],
   "source": [
    "# Vectorize the training and test labels\n",
    "one_hot_train_labels = to_one_hot(y_train)\n",
    "one_hot_test_labels = to_one_hot(y_test)"
   ]
  },
  {
   "cell_type": "code",
   "execution_count": 31,
   "metadata": {
    "executionInfo": {
     "elapsed": 1340,
     "status": "ok",
     "timestamp": 1637532092214,
     "user": {
      "displayName": "Nicholas Saulnier",
      "photoUrl": "https://lh3.googleusercontent.com/a-/AOh14GjBzaoSuUs2qp4-Wr1BcTklxfosWn89g7Tbw1j8=s64",
      "userId": "12122203451340966147"
     },
     "user_tz": 480
    },
    "id": "923c5541"
   },
   "outputs": [],
   "source": [
    "# Split the training data, using 1/3 of the data as a validation set\n",
    "partial_X_train, x_val, partial_y_train, y_val = train_test_split(x_train, one_hot_train_labels, test_size=0.33)"
   ]
  },
  {
   "cell_type": "code",
   "execution_count": 32,
   "metadata": {
    "executionInfo": {
     "elapsed": 206,
     "status": "ok",
     "timestamp": 1637532092418,
     "user": {
      "displayName": "Nicholas Saulnier",
      "photoUrl": "https://lh3.googleusercontent.com/a-/AOh14GjBzaoSuUs2qp4-Wr1BcTklxfosWn89g7Tbw1j8=s64",
      "userId": "12122203451340966147"
     },
     "user_tz": 480
    },
    "id": "1e30f6a3"
   },
   "outputs": [],
   "source": [
    "# Create the first model, taken from the class notebook\n",
    "model_1 = models.Sequential()\n",
    "model_1.add(layers.Dense(64, activation='relu'))\n",
    "model_1.add(layers.Dense(64, activation='relu'))\n",
    "model_1.add(layers.Dense(46, activation='softmax'))\n",
    "\n",
    "model_1.compile(optimizer='rmsprop',\n",
    "              loss='categorical_crossentropy',\n",
    "              metrics=['accuracy'])"
   ]
  },
  {
   "cell_type": "code",
   "execution_count": 33,
   "metadata": {
    "colab": {
     "base_uri": "https://localhost:8080/"
    },
    "executionInfo": {
     "elapsed": 28725,
     "status": "ok",
     "timestamp": 1637532121139,
     "user": {
      "displayName": "Nicholas Saulnier",
      "photoUrl": "https://lh3.googleusercontent.com/a-/AOh14GjBzaoSuUs2qp4-Wr1BcTklxfosWn89g7Tbw1j8=s64",
      "userId": "12122203451340966147"
     },
     "user_tz": 480
    },
    "id": "7b9fd1b2",
    "outputId": "4f947a3e-cd5c-44e5-ba28-a5cfcb194f0a"
   },
   "outputs": [
    {
     "name": "stdout",
     "output_type": "stream",
     "text": [
      "Epoch 1/20\n",
      "12/12 [==============================] - 3s 157ms/step - loss: 2.9363 - accuracy: 0.5102 - val_loss: 2.0235 - val_accuracy: 0.6152\n",
      "Epoch 2/20\n",
      "12/12 [==============================] - 1s 122ms/step - loss: 1.6080 - accuracy: 0.6864 - val_loss: 1.4817 - val_accuracy: 0.6877\n",
      "Epoch 3/20\n",
      "12/12 [==============================] - 1s 116ms/step - loss: 1.1239 - accuracy: 0.7778 - val_loss: 1.2695 - val_accuracy: 0.7400\n",
      "Epoch 4/20\n",
      "12/12 [==============================] - 1s 117ms/step - loss: 0.8544 - accuracy: 0.8368 - val_loss: 1.1544 - val_accuracy: 0.7639\n",
      "Epoch 5/20\n",
      "12/12 [==============================] - 1s 115ms/step - loss: 0.6691 - accuracy: 0.8677 - val_loss: 1.1150 - val_accuracy: 0.7646\n",
      "Epoch 6/20\n",
      "12/12 [==============================] - 1s 119ms/step - loss: 0.5277 - accuracy: 0.8961 - val_loss: 1.0539 - val_accuracy: 0.7788\n",
      "Epoch 7/20\n",
      "12/12 [==============================] - 1s 117ms/step - loss: 0.4201 - accuracy: 0.9174 - val_loss: 1.0111 - val_accuracy: 0.7919\n",
      "Epoch 8/20\n",
      "12/12 [==============================] - 1s 116ms/step - loss: 0.3306 - accuracy: 0.9362 - val_loss: 1.0019 - val_accuracy: 0.7889\n",
      "Epoch 9/20\n",
      "12/12 [==============================] - 1s 114ms/step - loss: 0.2665 - accuracy: 0.9467 - val_loss: 0.9867 - val_accuracy: 0.7993\n",
      "Epoch 10/20\n",
      "12/12 [==============================] - 1s 115ms/step - loss: 0.2195 - accuracy: 0.9535 - val_loss: 0.9727 - val_accuracy: 0.8047\n",
      "Epoch 11/20\n",
      "12/12 [==============================] - 2s 132ms/step - loss: 0.1835 - accuracy: 0.9594 - val_loss: 0.9920 - val_accuracy: 0.8040\n",
      "Epoch 12/20\n",
      "12/12 [==============================] - 2s 132ms/step - loss: 0.1569 - accuracy: 0.9599 - val_loss: 0.9944 - val_accuracy: 0.8051\n",
      "Epoch 13/20\n",
      "12/12 [==============================] - 1s 103ms/step - loss: 0.1433 - accuracy: 0.9633 - val_loss: 1.0486 - val_accuracy: 0.7943\n",
      "Epoch 14/20\n",
      "12/12 [==============================] - 1s 102ms/step - loss: 0.1234 - accuracy: 0.9614 - val_loss: 1.0556 - val_accuracy: 0.7899\n",
      "Epoch 15/20\n",
      "12/12 [==============================] - 1s 104ms/step - loss: 0.1158 - accuracy: 0.9636 - val_loss: 1.0893 - val_accuracy: 0.7889\n",
      "Epoch 16/20\n",
      "12/12 [==============================] - 1s 104ms/step - loss: 0.1052 - accuracy: 0.9646 - val_loss: 1.0933 - val_accuracy: 0.7960\n",
      "Epoch 17/20\n",
      "12/12 [==============================] - 1s 103ms/step - loss: 0.0986 - accuracy: 0.9648 - val_loss: 1.1293 - val_accuracy: 0.7825\n",
      "Epoch 18/20\n",
      "12/12 [==============================] - 1s 103ms/step - loss: 0.0944 - accuracy: 0.9678 - val_loss: 1.2265 - val_accuracy: 0.7686\n",
      "Epoch 19/20\n",
      "12/12 [==============================] - 1s 103ms/step - loss: 0.0916 - accuracy: 0.9676 - val_loss: 1.1399 - val_accuracy: 0.7966\n",
      "Epoch 20/20\n",
      "12/12 [==============================] - 1s 99ms/step - loss: 0.0884 - accuracy: 0.9653 - val_loss: 1.1557 - val_accuracy: 0.7889\n"
     ]
    }
   ],
   "source": [
    "# Train the first model for 20 epochs\n",
    "model_1_history = model_1.fit(partial_X_train,\n",
    "                      partial_y_train,\n",
    "                      epochs=20,\n",
    "                      batch_size=512,\n",
    "                      validation_data=(x_val, y_val))"
   ]
  },
  {
   "cell_type": "code",
   "execution_count": 34,
   "metadata": {
    "colab": {
     "base_uri": "https://localhost:8080/",
     "height": 573
    },
    "executionInfo": {
     "elapsed": 475,
     "status": "ok",
     "timestamp": 1637532121603,
     "user": {
      "displayName": "Nicholas Saulnier",
      "photoUrl": "https://lh3.googleusercontent.com/a-/AOh14GjBzaoSuUs2qp4-Wr1BcTklxfosWn89g7Tbw1j8=s64",
      "userId": "12122203451340966147"
     },
     "user_tz": 480
    },
    "id": "900aa935",
    "outputId": "0e2e7c1a-dd22-4927-88d6-eb8b09316fc9"
   },
   "outputs": [
    {
     "data": {
      "image/png": "[encoded data removed]",
      "text/plain": [
       "<Figure size 432x288 with 1 Axes>"
      ]
     },
     "metadata": {
      "needs_background": "light"
     },
     "output_type": "display_data"
    },
    {
     "data": {
      "image/png": "[encoded data removed]",
      "text/plain": [
       "<Figure size 432x288 with 1 Axes>"
      ]
     },
     "metadata": {
      "needs_background": "light"
     },
     "output_type": "display_data"
    }
   ],
   "source": [
    "# Plot model_1's loss and accuracy curves\n",
    "plotTrainingAndValidationLoss(model_1_history)\n",
    "plotTrainingAndValidationAccuracy(model_1_history)"
   ]
  },
  {
   "cell_type": "code",
   "execution_count": 35,
   "metadata": {
    "executionInfo": {
     "elapsed": 4,
     "status": "ok",
     "timestamp": 1637532121604,
     "user": {
      "displayName": "Nicholas Saulnier",
      "photoUrl": "https://lh3.googleusercontent.com/a-/AOh14GjBzaoSuUs2qp4-Wr1BcTklxfosWn89g7Tbw1j8=s64",
      "userId": "12122203451340966147"
     },
     "user_tz": 480
    },
    "id": "e065a20e"
   },
   "outputs": [],
   "source": [
    "# Create the second model, which has a single dense layer\n",
    "model_2 = models.Sequential()\n",
    "model_2.add(layers.Dense(64, activation='relu'))\n",
    "model_2.add(layers.Dense(46, activation='softmax'))\n",
    "\n",
    "model_2.compile(optimizer='rmsprop',\n",
    "              loss='categorical_crossentropy',\n",
    "              metrics=['accuracy'])"
   ]
  },
  {
   "cell_type": "code",
   "execution_count": 36,
   "metadata": {
    "colab": {
     "base_uri": "https://localhost:8080/"
    },
    "executionInfo": {
     "elapsed": 25603,
     "status": "ok",
     "timestamp": 1637532147204,
     "user": {
      "displayName": "Nicholas Saulnier",
      "photoUrl": "https://lh3.googleusercontent.com/a-/AOh14GjBzaoSuUs2qp4-Wr1BcTklxfosWn89g7Tbw1j8=s64",
      "userId": "12122203451340966147"
     },
     "user_tz": 480
    },
    "id": "d332614d",
    "outputId": "b5be2ab0-b330-4fad-9706-1399425116ee"
   },
   "outputs": [
    {
     "name": "stdout",
     "output_type": "stream",
     "text": [
      "Epoch 1/20\n",
      "12/12 [==============================] - 2s 142ms/step - loss: 2.7580 - accuracy: 0.5258 - val_loss: 1.9932 - val_accuracy: 0.6462\n",
      "Epoch 2/20\n",
      "12/12 [==============================] - 1s 101ms/step - loss: 1.5961 - accuracy: 0.7077 - val_loss: 1.4997 - val_accuracy: 0.7069\n",
      "Epoch 3/20\n",
      "12/12 [==============================] - 1s 101ms/step - loss: 1.1318 - accuracy: 0.7816 - val_loss: 1.2691 - val_accuracy: 0.7447\n",
      "Epoch 4/20\n",
      "12/12 [==============================] - 1s 101ms/step - loss: 0.8570 - accuracy: 0.8366 - val_loss: 1.1480 - val_accuracy: 0.7690\n",
      "Epoch 5/20\n",
      "12/12 [==============================] - 1s 101ms/step - loss: 0.6715 - accuracy: 0.8762 - val_loss: 1.0667 - val_accuracy: 0.7828\n",
      "Epoch 6/20\n",
      "12/12 [==============================] - 1s 100ms/step - loss: 0.5363 - accuracy: 0.9036 - val_loss: 1.0092 - val_accuracy: 0.7970\n",
      "Epoch 7/20\n",
      "12/12 [==============================] - 1s 100ms/step - loss: 0.4334 - accuracy: 0.9249 - val_loss: 0.9719 - val_accuracy: 0.7973\n",
      "Epoch 8/20\n",
      "12/12 [==============================] - 1s 102ms/step - loss: 0.3538 - accuracy: 0.9383 - val_loss: 0.9500 - val_accuracy: 0.8020\n",
      "Epoch 9/20\n",
      "12/12 [==============================] - 1s 102ms/step - loss: 0.2910 - accuracy: 0.9465 - val_loss: 0.9281 - val_accuracy: 0.8040\n",
      "Epoch 10/20\n",
      "12/12 [==============================] - 1s 101ms/step - loss: 0.2423 - accuracy: 0.9513 - val_loss: 0.9193 - val_accuracy: 0.8024\n",
      "Epoch 11/20\n",
      "12/12 [==============================] - 1s 105ms/step - loss: 0.2061 - accuracy: 0.9543 - val_loss: 0.9188 - val_accuracy: 0.8051\n",
      "Epoch 12/20\n",
      "12/12 [==============================] - 1s 101ms/step - loss: 0.1756 - accuracy: 0.9588 - val_loss: 0.9226 - val_accuracy: 0.8054\n",
      "Epoch 13/20\n",
      "12/12 [==============================] - 1s 101ms/step - loss: 0.1531 - accuracy: 0.9608 - val_loss: 0.9268 - val_accuracy: 0.8037\n",
      "Epoch 14/20\n",
      "12/12 [==============================] - 1s 101ms/step - loss: 0.1361 - accuracy: 0.9628 - val_loss: 0.9412 - val_accuracy: 0.8017\n",
      "Epoch 15/20\n",
      "12/12 [==============================] - 1s 102ms/step - loss: 0.1221 - accuracy: 0.9618 - val_loss: 0.9484 - val_accuracy: 0.8061\n",
      "Epoch 16/20\n",
      "12/12 [==============================] - 1s 102ms/step - loss: 0.1113 - accuracy: 0.9631 - val_loss: 0.9460 - val_accuracy: 0.8074\n",
      "Epoch 17/20\n",
      "12/12 [==============================] - 1s 103ms/step - loss: 0.1030 - accuracy: 0.9649 - val_loss: 0.9651 - val_accuracy: 0.8047\n",
      "Epoch 18/20\n",
      "12/12 [==============================] - 1s 104ms/step - loss: 0.0960 - accuracy: 0.9639 - val_loss: 0.9783 - val_accuracy: 0.8037\n",
      "Epoch 19/20\n",
      "12/12 [==============================] - 1s 102ms/step - loss: 0.0903 - accuracy: 0.9659 - val_loss: 1.0113 - val_accuracy: 0.7939\n",
      "Epoch 20/20\n",
      "12/12 [==============================] - 1s 100ms/step - loss: 0.0852 - accuracy: 0.9671 - val_loss: 1.0100 - val_accuracy: 0.8054\n"
     ]
    }
   ],
   "source": [
    "# Train the second model for 20 epochs\n",
    "model_2_history = model_2.fit(partial_X_train,\n",
    "                      partial_y_train,\n",
    "                      epochs=20,\n",
    "                      batch_size=512,\n",
    "                      validation_data=(x_val, y_val))"
   ]
  },
  {
   "cell_type": "code",
   "execution_count": 37,
   "metadata": {
    "colab": {
     "base_uri": "https://localhost:8080/",
     "height": 573
    },
    "executionInfo": {
     "elapsed": 490,
     "status": "ok",
     "timestamp": 1637532147682,
     "user": {
      "displayName": "Nicholas Saulnier",
      "photoUrl": "https://lh3.googleusercontent.com/a-/AOh14GjBzaoSuUs2qp4-Wr1BcTklxfosWn89g7Tbw1j8=s64",
      "userId": "12122203451340966147"
     },
     "user_tz": 480
    },
    "id": "1549e42e",
    "outputId": "f30a5f9b-fdcc-4579-c0da-72ae4835fe28"
   },
   "outputs": [
    {
     "data": {
      "image/png": "[encoded data removed]",
      "text/plain": [
       "<Figure size 432x288 with 1 Axes>"
      ]
     },
     "metadata": {
      "needs_background": "light"
     },
     "output_type": "display_data"
    },
    {
     "data": {
      "image/png": "[encoded data removed]",
      "text/plain": [
       "<Figure size 432x288 with 1 Axes>"
      ]
     },
     "metadata": {
      "needs_background": "light"
     },
     "output_type": "display_data"
    }
   ],
   "source": [
    "# Plot model_2's loss and accuracy curves\n",
    "plotTrainingAndValidationLoss(model_2_history)\n",
    "plotTrainingAndValidationAccuracy(model_2_history)"
   ]
  },
  {
   "cell_type": "code",
   "execution_count": 38,
   "metadata": {
    "executionInfo": {
     "elapsed": 3,
     "status": "ok",
     "timestamp": 1637532147683,
     "user": {
      "displayName": "Nicholas Saulnier",
      "photoUrl": "https://lh3.googleusercontent.com/a-/AOh14GjBzaoSuUs2qp4-Wr1BcTklxfosWn89g7Tbw1j8=s64",
      "userId": "12122203451340966147"
     },
     "user_tz": 480
    },
    "id": "75cd960a"
   },
   "outputs": [],
   "source": [
    "# Create the third model, which has a single dense layer with only 10 nodes\n",
    "model_3 = models.Sequential()\n",
    "model_3.add(layers.Dense(10, activation='relu'))\n",
    "model_3.add(layers.Dense(46, activation='softmax'))\n",
    "\n",
    "model_3.compile(optimizer='rmsprop',\n",
    "              loss='categorical_crossentropy',\n",
    "              metrics=['accuracy'])"
   ]
  },
  {
   "cell_type": "code",
   "execution_count": 39,
   "metadata": {
    "colab": {
     "base_uri": "https://localhost:8080/"
    },
    "executionInfo": {
     "elapsed": 16040,
     "status": "ok",
     "timestamp": 1637532163721,
     "user": {
      "displayName": "Nicholas Saulnier",
      "photoUrl": "https://lh3.googleusercontent.com/a-/AOh14GjBzaoSuUs2qp4-Wr1BcTklxfosWn89g7Tbw1j8=s64",
      "userId": "12122203451340966147"
     },
     "user_tz": 480
    },
    "id": "e8aceef5",
    "outputId": "5c92a22a-1216-4527-a316-7895045bdda4"
   },
   "outputs": [
    {
     "name": "stdout",
     "output_type": "stream",
     "text": [
      "Epoch 1/20\n",
      "12/12 [==============================] - 2s 95ms/step - loss: 3.5843 - accuracy: 0.2852 - val_loss: 3.3384 - val_accuracy: 0.4128\n",
      "Epoch 2/20\n",
      "12/12 [==============================] - 1s 63ms/step - loss: 3.1102 - accuracy: 0.5597 - val_loss: 2.9520 - val_accuracy: 0.6411\n",
      "Epoch 3/20\n",
      "12/12 [==============================] - 1s 62ms/step - loss: 2.7006 - accuracy: 0.6719 - val_loss: 2.6033 - val_accuracy: 0.6465\n",
      "Epoch 4/20\n",
      "12/12 [==============================] - 1s 62ms/step - loss: 2.3425 - accuracy: 0.6766 - val_loss: 2.3045 - val_accuracy: 0.6445\n",
      "Epoch 5/20\n",
      "12/12 [==============================] - 1s 62ms/step - loss: 2.0452 - accuracy: 0.6814 - val_loss: 2.0635 - val_accuracy: 0.6479\n",
      "Epoch 6/20\n",
      "12/12 [==============================] - 1s 65ms/step - loss: 1.8050 - accuracy: 0.6912 - val_loss: 1.8727 - val_accuracy: 0.6503\n",
      "Epoch 7/20\n",
      "12/12 [==============================] - 1s 63ms/step - loss: 1.6118 - accuracy: 0.7008 - val_loss: 1.7219 - val_accuracy: 0.6658\n",
      "Epoch 8/20\n",
      "12/12 [==============================] - 1s 62ms/step - loss: 1.4557 - accuracy: 0.7136 - val_loss: 1.6040 - val_accuracy: 0.6745\n",
      "Epoch 9/20\n",
      "12/12 [==============================] - 1s 63ms/step - loss: 1.3281 - accuracy: 0.7286 - val_loss: 1.5116 - val_accuracy: 0.6796\n",
      "Epoch 10/20\n",
      "12/12 [==============================] - 1s 63ms/step - loss: 1.2210 - accuracy: 0.7427 - val_loss: 1.4357 - val_accuracy: 0.6938\n",
      "Epoch 11/20\n",
      "12/12 [==============================] - 1s 62ms/step - loss: 1.1299 - accuracy: 0.7584 - val_loss: 1.3774 - val_accuracy: 0.7059\n",
      "Epoch 12/20\n",
      "12/12 [==============================] - 1s 62ms/step - loss: 1.0511 - accuracy: 0.7720 - val_loss: 1.3264 - val_accuracy: 0.7123\n",
      "Epoch 13/20\n",
      "12/12 [==============================] - 1s 65ms/step - loss: 0.9815 - accuracy: 0.7879 - val_loss: 1.2856 - val_accuracy: 0.7194\n",
      "Epoch 14/20\n",
      "12/12 [==============================] - 1s 62ms/step - loss: 0.9203 - accuracy: 0.7984 - val_loss: 1.2497 - val_accuracy: 0.7292\n",
      "Epoch 15/20\n",
      "12/12 [==============================] - 1s 63ms/step - loss: 0.8647 - accuracy: 0.8099 - val_loss: 1.2196 - val_accuracy: 0.7352\n",
      "Epoch 16/20\n",
      "12/12 [==============================] - 1s 62ms/step - loss: 0.8142 - accuracy: 0.8223 - val_loss: 1.1944 - val_accuracy: 0.7396\n",
      "Epoch 17/20\n",
      "12/12 [==============================] - 1s 62ms/step - loss: 0.7673 - accuracy: 0.8308 - val_loss: 1.1742 - val_accuracy: 0.7406\n",
      "Epoch 18/20\n",
      "12/12 [==============================] - 1s 63ms/step - loss: 0.7244 - accuracy: 0.8395 - val_loss: 1.1556 - val_accuracy: 0.7460\n",
      "Epoch 19/20\n",
      "12/12 [==============================] - 1s 63ms/step - loss: 0.6841 - accuracy: 0.8486 - val_loss: 1.1389 - val_accuracy: 0.7487\n",
      "Epoch 20/20\n",
      "12/12 [==============================] - 1s 62ms/step - loss: 0.6466 - accuracy: 0.8554 - val_loss: 1.1239 - val_accuracy: 0.7518\n"
     ]
    }
   ],
   "source": [
    "# Train the third model for 20 epochs\n",
    "model_3_history = model_3.fit(partial_X_train,\n",
    "                      partial_y_train,\n",
    "                      epochs=20,\n",
    "                      batch_size=512,\n",
    "                      validation_data=(x_val, y_val))"
   ]
  },
  {
   "cell_type": "code",
   "execution_count": 40,
   "metadata": {
    "colab": {
     "base_uri": "https://localhost:8080/",
     "height": 573
    },
    "executionInfo": {
     "elapsed": 512,
     "status": "ok",
     "timestamp": 1637532164228,
     "user": {
      "displayName": "Nicholas Saulnier",
      "photoUrl": "https://lh3.googleusercontent.com/a-/AOh14GjBzaoSuUs2qp4-Wr1BcTklxfosWn89g7Tbw1j8=s64",
      "userId": "12122203451340966147"
     },
     "user_tz": 480
    },
    "id": "972f584c",
    "outputId": "71577850-1369-4c0e-b77e-5ec03079f6a0"
   },
   "outputs": [
    {
     "data": {
      "image/png": "[encoded data removed]",
      "text/plain": [
       "<Figure size 432x288 with 1 Axes>"
      ]
     },
     "metadata": {
      "needs_background": "light"
     },
     "output_type": "display_data"
    },
    {
     "data": {
      "image/png": "[encoded data removed]",
      "text/plain": [
       "<Figure size 432x288 with 1 Axes>"
      ]
     },
     "metadata": {
      "needs_background": "light"
     },
     "output_type": "display_data"
    }
   ],
   "source": [
    "# Plot model_3's loss and accuracy curves\n",
    "plotTrainingAndValidationLoss(model_3_history)\n",
    "plotTrainingAndValidationAccuracy(model_3_history)"
   ]
  },
  {
   "cell_type": "code",
   "execution_count": 41,
   "metadata": {
    "executionInfo": {
     "elapsed": 4,
     "status": "ok",
     "timestamp": 1637532164228,
     "user": {
      "displayName": "Nicholas Saulnier",
      "photoUrl": "https://lh3.googleusercontent.com/a-/AOh14GjBzaoSuUs2qp4-Wr1BcTklxfosWn89g7Tbw1j8=s64",
      "userId": "12122203451340966147"
     },
     "user_tz": 480
    },
    "id": "a8946a8f"
   },
   "outputs": [],
   "source": [
    "# Create the fourth model, which has three dense layers with 30 nodes each\n",
    "model_4 = models.Sequential()\n",
    "model_4.add(layers.Dense(30, activation='relu'))\n",
    "model_4.add(layers.Dense(30, activation='relu'))\n",
    "model_4.add(layers.Dense(30, activation='relu'))\n",
    "model_4.add(layers.Dense(46, activation='softmax'))\n",
    "\n",
    "model_4.compile(optimizer='rmsprop',\n",
    "              loss='categorical_crossentropy',\n",
    "              metrics=['accuracy'])"
   ]
  },
  {
   "cell_type": "code",
   "execution_count": 42,
   "metadata": {
    "colab": {
     "base_uri": "https://localhost:8080/"
    },
    "executionInfo": {
     "elapsed": 19257,
     "status": "ok",
     "timestamp": 1637532183481,
     "user": {
      "displayName": "Nicholas Saulnier",
      "photoUrl": "https://lh3.googleusercontent.com/a-/AOh14GjBzaoSuUs2qp4-Wr1BcTklxfosWn89g7Tbw1j8=s64",
      "userId": "12122203451340966147"
     },
     "user_tz": 480
    },
    "id": "ca1617dd",
    "outputId": "7850e9fd-f194-423c-a51d-2f06e208a140"
   },
   "outputs": [
    {
     "name": "stdout",
     "output_type": "stream",
     "text": [
      "Epoch 1/20\n",
      "12/12 [==============================] - 2s 110ms/step - loss: 3.2968 - accuracy: 0.3618 - val_loss: 2.6309 - val_accuracy: 0.4843\n",
      "Epoch 2/20\n",
      "12/12 [==============================] - 1s 76ms/step - loss: 2.2283 - accuracy: 0.5352 - val_loss: 1.9684 - val_accuracy: 0.5713\n",
      "Epoch 3/20\n",
      "12/12 [==============================] - 1s 76ms/step - loss: 1.7132 - accuracy: 0.6083 - val_loss: 1.7169 - val_accuracy: 0.6132\n",
      "Epoch 4/20\n",
      "12/12 [==============================] - 1s 73ms/step - loss: 1.4519 - accuracy: 0.6653 - val_loss: 1.5452 - val_accuracy: 0.6388\n",
      "Epoch 5/20\n",
      "12/12 [==============================] - 1s 74ms/step - loss: 1.2544 - accuracy: 0.7078 - val_loss: 1.4372 - val_accuracy: 0.6725\n",
      "Epoch 6/20\n",
      "12/12 [==============================] - 1s 74ms/step - loss: 1.0812 - accuracy: 0.7485 - val_loss: 1.3440 - val_accuracy: 0.6971\n",
      "Epoch 7/20\n",
      "12/12 [==============================] - 1s 75ms/step - loss: 0.9341 - accuracy: 0.7874 - val_loss: 1.2733 - val_accuracy: 0.7248\n",
      "Epoch 8/20\n",
      "12/12 [==============================] - 1s 75ms/step - loss: 0.8106 - accuracy: 0.8207 - val_loss: 1.2362 - val_accuracy: 0.7336\n",
      "Epoch 9/20\n",
      "12/12 [==============================] - 1s 77ms/step - loss: 0.7094 - accuracy: 0.8413 - val_loss: 1.1934 - val_accuracy: 0.7413\n",
      "Epoch 10/20\n",
      "12/12 [==============================] - 1s 76ms/step - loss: 0.6268 - accuracy: 0.8581 - val_loss: 1.1782 - val_accuracy: 0.7464\n",
      "Epoch 11/20\n",
      "12/12 [==============================] - 1s 76ms/step - loss: 0.5487 - accuracy: 0.8777 - val_loss: 1.1689 - val_accuracy: 0.7538\n",
      "Epoch 12/20\n",
      "12/12 [==============================] - 1s 75ms/step - loss: 0.4817 - accuracy: 0.8911 - val_loss: 1.1615 - val_accuracy: 0.7562\n",
      "Epoch 13/20\n",
      "12/12 [==============================] - 1s 74ms/step - loss: 0.4224 - accuracy: 0.9054 - val_loss: 1.1781 - val_accuracy: 0.7548\n",
      "Epoch 14/20\n",
      "12/12 [==============================] - 1s 75ms/step - loss: 0.3722 - accuracy: 0.9176 - val_loss: 1.1596 - val_accuracy: 0.7572\n",
      "Epoch 15/20\n",
      "12/12 [==============================] - 1s 75ms/step - loss: 0.3316 - accuracy: 0.9252 - val_loss: 1.1567 - val_accuracy: 0.7585\n",
      "Epoch 16/20\n",
      "12/12 [==============================] - 1s 76ms/step - loss: 0.2874 - accuracy: 0.9325 - val_loss: 1.1755 - val_accuracy: 0.7629\n",
      "Epoch 17/20\n",
      "12/12 [==============================] - 1s 76ms/step - loss: 0.2555 - accuracy: 0.9402 - val_loss: 1.1785 - val_accuracy: 0.7676\n",
      "Epoch 18/20\n",
      "12/12 [==============================] - 1s 76ms/step - loss: 0.2239 - accuracy: 0.9470 - val_loss: 1.2292 - val_accuracy: 0.7595\n",
      "Epoch 19/20\n",
      "12/12 [==============================] - 1s 75ms/step - loss: 0.2031 - accuracy: 0.9488 - val_loss: 1.2424 - val_accuracy: 0.7656\n",
      "Epoch 20/20\n",
      "12/12 [==============================] - 1s 72ms/step - loss: 0.1823 - accuracy: 0.9531 - val_loss: 1.2301 - val_accuracy: 0.7696\n"
     ]
    }
   ],
   "source": [
    "# Train the fourth model for 20 epochs\n",
    "model_4_history = model_4.fit(partial_X_train,\n",
    "                      partial_y_train,\n",
    "                      epochs=20,\n",
    "                      batch_size=512,\n",
    "                      validation_data=(x_val, y_val))"
   ]
  },
  {
   "cell_type": "code",
   "execution_count": 43,
   "metadata": {
    "colab": {
     "base_uri": "https://localhost:8080/",
     "height": 573
    },
    "executionInfo": {
     "elapsed": 378,
     "status": "ok",
     "timestamp": 1637532184047,
     "user": {
      "displayName": "Nicholas Saulnier",
      "photoUrl": "https://lh3.googleusercontent.com/a-/AOh14GjBzaoSuUs2qp4-Wr1BcTklxfosWn89g7Tbw1j8=s64",
      "userId": "12122203451340966147"
     },
     "user_tz": 480
    },
    "id": "3b209797",
    "outputId": "e86b89d7-1020-4f92-e992-fb05d462985d"
   },
   "outputs": [
    {
     "data": {
      "image/png": "[encoded data removed]",
      "text/plain": [
       "<Figure size 432x288 with 1 Axes>"
      ]
     },
     "metadata": {
      "needs_background": "light"
     },
     "output_type": "display_data"
    },
    {
     "data": {
      "image/png": "[encoded data removed]",
      "text/plain": [
       "<Figure size 432x288 with 1 Axes>"
      ]
     },
     "metadata": {
      "needs_background": "light"
     },
     "output_type": "display_data"
    }
   ],
   "source": [
    "# Plot model_4's loss and accuracy curves\n",
    "plotTrainingAndValidationLoss(model_4_history)\n",
    "plotTrainingAndValidationAccuracy(model_4_history)"
   ]
  },
  {
   "cell_type": "code",
   "execution_count": 44,
   "metadata": {
    "executionInfo": {
     "elapsed": 2,
     "status": "ok",
     "timestamp": 1637532184047,
     "user": {
      "displayName": "Nicholas Saulnier",
      "photoUrl": "https://lh3.googleusercontent.com/a-/AOh14GjBzaoSuUs2qp4-Wr1BcTklxfosWn89g7Tbw1j8=s64",
      "userId": "12122203451340966147"
     },
     "user_tz": 480
    },
    "id": "2cdb2fff"
   },
   "outputs": [],
   "source": [
    "# Create the fifth model, which has five dense layers with 60 nodes each\n",
    "model_5 = models.Sequential()\n",
    "model_5.add(layers.Dense(60, activation='relu'))\n",
    "model_5.add(layers.Dense(60, activation='relu'))\n",
    "model_5.add(layers.Dense(60, activation='relu'))\n",
    "model_5.add(layers.Dense(60, activation='relu'))\n",
    "model_5.add(layers.Dense(60, activation='relu'))\n",
    "model_5.add(layers.Dense(46, activation='softmax'))\n",
    "\n",
    "model_5.compile(optimizer='rmsprop',\n",
    "              loss='categorical_crossentropy',\n",
    "              metrics=['accuracy'])"
   ]
  },
  {
   "cell_type": "code",
   "execution_count": 45,
   "metadata": {
    "colab": {
     "base_uri": "https://localhost:8080/"
    },
    "executionInfo": {
     "elapsed": 25969,
     "status": "ok",
     "timestamp": 1637532210015,
     "user": {
      "displayName": "Nicholas Saulnier",
      "photoUrl": "https://lh3.googleusercontent.com/a-/AOh14GjBzaoSuUs2qp4-Wr1BcTklxfosWn89g7Tbw1j8=s64",
      "userId": "12122203451340966147"
     },
     "user_tz": 480
    },
    "id": "8727a854",
    "outputId": "b69c815d-1c85-4da7-d62a-7b633394fd98"
   },
   "outputs": [
    {
     "name": "stdout",
     "output_type": "stream",
     "text": [
      "Epoch 1/20\n",
      "12/12 [==============================] - 2s 140ms/step - loss: 2.9123 - accuracy: 0.3327 - val_loss: 2.0876 - val_accuracy: 0.3811\n",
      "Epoch 2/20\n",
      "12/12 [==============================] - 1s 103ms/step - loss: 1.7445 - accuracy: 0.5476 - val_loss: 1.5697 - val_accuracy: 0.6408\n",
      "Epoch 3/20\n",
      "12/12 [==============================] - 1s 103ms/step - loss: 1.2896 - accuracy: 0.6984 - val_loss: 1.4359 - val_accuracy: 0.6550\n",
      "Epoch 4/20\n",
      "12/12 [==============================] - 1s 105ms/step - loss: 1.0673 - accuracy: 0.7321 - val_loss: 1.3200 - val_accuracy: 0.6981\n",
      "Epoch 5/20\n",
      "12/12 [==============================] - 1s 103ms/step - loss: 0.9262 - accuracy: 0.7608 - val_loss: 1.3633 - val_accuracy: 0.6863\n",
      "Epoch 6/20\n",
      "12/12 [==============================] - 1s 104ms/step - loss: 0.7688 - accuracy: 0.8049 - val_loss: 1.2817 - val_accuracy: 0.7204\n",
      "Epoch 7/20\n",
      "12/12 [==============================] - 1s 104ms/step - loss: 0.6722 - accuracy: 0.8272 - val_loss: 1.2579 - val_accuracy: 0.7268\n",
      "Epoch 8/20\n",
      "12/12 [==============================] - 1s 103ms/step - loss: 0.5381 - accuracy: 0.8629 - val_loss: 1.3822 - val_accuracy: 0.7126\n",
      "Epoch 9/20\n",
      "12/12 [==============================] - 1s 104ms/step - loss: 0.4550 - accuracy: 0.8905 - val_loss: 1.4016 - val_accuracy: 0.7015\n",
      "Epoch 10/20\n",
      "12/12 [==============================] - 1s 104ms/step - loss: 0.3796 - accuracy: 0.9114 - val_loss: 1.3652 - val_accuracy: 0.7508\n",
      "Epoch 11/20\n",
      "12/12 [==============================] - 1s 103ms/step - loss: 0.3206 - accuracy: 0.9247 - val_loss: 1.3464 - val_accuracy: 0.7572\n",
      "Epoch 12/20\n",
      "12/12 [==============================] - 1s 103ms/step - loss: 0.2616 - accuracy: 0.9360 - val_loss: 1.3537 - val_accuracy: 0.7531\n",
      "Epoch 13/20\n",
      "12/12 [==============================] - 1s 104ms/step - loss: 0.2158 - accuracy: 0.9485 - val_loss: 1.7644 - val_accuracy: 0.7204\n",
      "Epoch 14/20\n",
      "12/12 [==============================] - 1s 102ms/step - loss: 0.2065 - accuracy: 0.9531 - val_loss: 1.4625 - val_accuracy: 0.7528\n",
      "Epoch 15/20\n",
      "12/12 [==============================] - 1s 103ms/step - loss: 0.1782 - accuracy: 0.9583 - val_loss: 1.6600 - val_accuracy: 0.7295\n",
      "Epoch 16/20\n",
      "12/12 [==============================] - 1s 103ms/step - loss: 0.1565 - accuracy: 0.9624 - val_loss: 1.7078 - val_accuracy: 0.7501\n",
      "Epoch 17/20\n",
      "12/12 [==============================] - 1s 103ms/step - loss: 0.1478 - accuracy: 0.9668 - val_loss: 2.0488 - val_accuracy: 0.6823\n",
      "Epoch 18/20\n",
      "12/12 [==============================] - 1s 103ms/step - loss: 0.1410 - accuracy: 0.9628 - val_loss: 1.5704 - val_accuracy: 0.7518\n",
      "Epoch 19/20\n",
      "12/12 [==============================] - 1s 102ms/step - loss: 0.1182 - accuracy: 0.9674 - val_loss: 1.8771 - val_accuracy: 0.7373\n",
      "Epoch 20/20\n",
      "12/12 [==============================] - 1s 100ms/step - loss: 0.1219 - accuracy: 0.9679 - val_loss: 1.6214 - val_accuracy: 0.7545\n"
     ]
    }
   ],
   "source": [
    "# Train the fifth model for 20 epochs\n",
    "model_5_history = model_5.fit(partial_X_train,\n",
    "                      partial_y_train,\n",
    "                      epochs=20,\n",
    "                      batch_size=512,\n",
    "                      validation_data=(x_val, y_val))"
   ]
  },
  {
   "cell_type": "code",
   "execution_count": 46,
   "metadata": {
    "colab": {
     "base_uri": "https://localhost:8080/",
     "height": 573
    },
    "executionInfo": {
     "elapsed": 483,
     "status": "ok",
     "timestamp": 1637532210485,
     "user": {
      "displayName": "Nicholas Saulnier",
      "photoUrl": "https://lh3.googleusercontent.com/a-/AOh14GjBzaoSuUs2qp4-Wr1BcTklxfosWn89g7Tbw1j8=s64",
      "userId": "12122203451340966147"
     },
     "user_tz": 480
    },
    "id": "3cf7cb5a",
    "outputId": "df550e1d-7057-4b90-d76e-7c3145d19651"
   },
   "outputs": [
    {
     "data": {
      "image/png": "[encoded data removed]",
      "text/plain": [
       "<Figure size 432x288 with 1 Axes>"
      ]
     },
     "metadata": {
      "needs_background": "light"
     },
     "output_type": "display_data"
    },
    {
     "data": {
      "image/png": "[encoded data removed]",
      "text/plain": [
       "<Figure size 432x288 with 1 Axes>"
      ]
     },
     "metadata": {
      "needs_background": "light"
     },
     "output_type": "display_data"
    }
   ],
   "source": [
    "# Plot model_5's loss and accuracy curves\n",
    "plotTrainingAndValidationLoss(model_5_history)\n",
    "plotTrainingAndValidationAccuracy(model_5_history)"
   ]
  },
  {
   "cell_type": "code",
   "execution_count": 47,
   "metadata": {
    "executionInfo": {
     "elapsed": 3,
     "status": "ok",
     "timestamp": 1637532210486,
     "user": {
      "displayName": "Nicholas Saulnier",
      "photoUrl": "https://lh3.googleusercontent.com/a-/AOh14GjBzaoSuUs2qp4-Wr1BcTklxfosWn89g7Tbw1j8=s64",
      "userId": "12122203451340966147"
     },
     "user_tz": 480
    },
    "id": "3f17a37f"
   },
   "outputs": [],
   "source": [
    "# Create the sixth model, which is the same as the fifth model but with a sigmoid activation before the output layer\n",
    "model_6 = models.Sequential()\n",
    "model_6.add(layers.Dense(60, activation='relu'))\n",
    "model_6.add(layers.Dense(60, activation='relu'))\n",
    "model_6.add(layers.Dense(60, activation='relu'))\n",
    "model_6.add(layers.Dense(60, activation='relu'))\n",
    "model_6.add(layers.Dense(60, activation='sigmoid'))\n",
    "model_6.add(layers.Dense(46, activation='softmax'))\n",
    "\n",
    "model_6.compile(optimizer='rmsprop',\n",
    "              loss='categorical_crossentropy',\n",
    "              metrics=['accuracy'])"
   ]
  },
  {
   "cell_type": "code",
   "execution_count": 48,
   "metadata": {
    "colab": {
     "base_uri": "https://localhost:8080/"
    },
    "executionInfo": {
     "elapsed": 26030,
     "status": "ok",
     "timestamp": 1637532236514,
     "user": {
      "displayName": "Nicholas Saulnier",
      "photoUrl": "https://lh3.googleusercontent.com/a-/AOh14GjBzaoSuUs2qp4-Wr1BcTklxfosWn89g7Tbw1j8=s64",
      "userId": "12122203451340966147"
     },
     "user_tz": 480
    },
    "id": "a4842a09",
    "outputId": "d9cdfbbb-a5d9-4c2b-e4ec-d8d444107c42"
   },
   "outputs": [
    {
     "name": "stdout",
     "output_type": "stream",
     "text": [
      "Epoch 1/20\n",
      "12/12 [==============================] - 3s 145ms/step - loss: 3.1075 - accuracy: 0.2777 - val_loss: 2.3717 - val_accuracy: 0.4874\n",
      "Epoch 2/20\n",
      "12/12 [==============================] - 1s 107ms/step - loss: 2.1188 - accuracy: 0.5283 - val_loss: 1.9168 - val_accuracy: 0.5815\n",
      "Epoch 3/20\n",
      "12/12 [==============================] - 1s 104ms/step - loss: 1.7718 - accuracy: 0.5973 - val_loss: 1.7194 - val_accuracy: 0.5973\n",
      "Epoch 4/20\n",
      "12/12 [==============================] - 1s 102ms/step - loss: 1.5892 - accuracy: 0.6314 - val_loss: 1.6161 - val_accuracy: 0.6310\n",
      "Epoch 5/20\n",
      "12/12 [==============================] - 1s 103ms/step - loss: 1.4307 - accuracy: 0.6864 - val_loss: 1.5047 - val_accuracy: 0.6634\n",
      "Epoch 6/20\n",
      "12/12 [==============================] - 1s 103ms/step - loss: 1.3096 - accuracy: 0.7176 - val_loss: 1.4423 - val_accuracy: 0.6782\n",
      "Epoch 7/20\n",
      "12/12 [==============================] - 1s 101ms/step - loss: 1.1938 - accuracy: 0.7436 - val_loss: 1.3731 - val_accuracy: 0.6988\n",
      "Epoch 8/20\n",
      "12/12 [==============================] - 1s 101ms/step - loss: 1.1041 - accuracy: 0.7630 - val_loss: 1.3528 - val_accuracy: 0.6927\n",
      "Epoch 9/20\n",
      "12/12 [==============================] - 1s 104ms/step - loss: 1.0168 - accuracy: 0.7801 - val_loss: 1.3036 - val_accuracy: 0.7015\n",
      "Epoch 10/20\n",
      "12/12 [==============================] - 1s 104ms/step - loss: 0.9463 - accuracy: 0.7856 - val_loss: 1.2870 - val_accuracy: 0.7035\n",
      "Epoch 11/20\n",
      "12/12 [==============================] - 1s 104ms/step - loss: 0.8850 - accuracy: 0.7933 - val_loss: 1.2632 - val_accuracy: 0.7079\n",
      "Epoch 12/20\n",
      "12/12 [==============================] - 1s 103ms/step - loss: 0.8220 - accuracy: 0.8072 - val_loss: 1.2394 - val_accuracy: 0.7089\n",
      "Epoch 13/20\n",
      "12/12 [==============================] - 1s 103ms/step - loss: 0.7559 - accuracy: 0.8213 - val_loss: 1.2201 - val_accuracy: 0.7147\n",
      "Epoch 14/20\n",
      "12/12 [==============================] - 1s 104ms/step - loss: 0.7131 - accuracy: 0.8273 - val_loss: 1.2825 - val_accuracy: 0.6870\n",
      "Epoch 15/20\n",
      "12/12 [==============================] - 1s 103ms/step - loss: 0.6631 - accuracy: 0.8406 - val_loss: 1.1998 - val_accuracy: 0.7218\n",
      "Epoch 16/20\n",
      "12/12 [==============================] - 1s 103ms/step - loss: 0.6230 - accuracy: 0.8519 - val_loss: 1.1873 - val_accuracy: 0.7288\n",
      "Epoch 17/20\n",
      "12/12 [==============================] - 1s 103ms/step - loss: 0.5747 - accuracy: 0.8667 - val_loss: 1.1439 - val_accuracy: 0.7430\n",
      "Epoch 18/20\n",
      "12/12 [==============================] - 1s 101ms/step - loss: 0.5377 - accuracy: 0.8793 - val_loss: 1.2602 - val_accuracy: 0.7103\n",
      "Epoch 19/20\n",
      "12/12 [==============================] - 1s 103ms/step - loss: 0.5002 - accuracy: 0.8936 - val_loss: 1.1262 - val_accuracy: 0.7508\n",
      "Epoch 20/20\n",
      "12/12 [==============================] - 1s 100ms/step - loss: 0.4718 - accuracy: 0.9016 - val_loss: 1.1958 - val_accuracy: 0.7258\n"
     ]
    }
   ],
   "source": [
    "# Train the fifth model for 20 epochs\n",
    "model_6_history = model_6.fit(partial_X_train,\n",
    "                      partial_y_train,\n",
    "                      epochs=20,\n",
    "                      batch_size=512,\n",
    "                      validation_data=(x_val, y_val))"
   ]
  },
  {
   "cell_type": "code",
   "execution_count": 49,
   "metadata": {
    "colab": {
     "base_uri": "https://localhost:8080/",
     "height": 573
    },
    "executionInfo": {
     "elapsed": 489,
     "status": "ok",
     "timestamp": 1637532236990,
     "user": {
      "displayName": "Nicholas Saulnier",
      "photoUrl": "https://lh3.googleusercontent.com/a-/AOh14GjBzaoSuUs2qp4-Wr1BcTklxfosWn89g7Tbw1j8=s64",
      "userId": "12122203451340966147"
     },
     "user_tz": 480
    },
    "id": "fe24ff8c",
    "outputId": "40e8ab17-76e5-4af4-b562-136fb3bea4e1"
   },
   "outputs": [
    {
     "data": {
      "image/png": "[encoded data removed]",
      "text/plain": [
       "<Figure size 432x288 with 1 Axes>"
      ]
     },
     "metadata": {
      "needs_background": "light"
     },
     "output_type": "display_data"
    },
    {
     "data": {
      "image/png": "[encoded data removed]",
      "text/plain": [
       "<Figure size 432x288 with 1 Axes>"
      ]
     },
     "metadata": {
      "needs_background": "light"
     },
     "output_type": "display_data"
    }
   ],
   "source": [
    "# Plot model_6's loss and accuracy curves\n",
    "plotTrainingAndValidationLoss(model_6_history)\n",
    "plotTrainingAndValidationAccuracy(model_6_history)"
   ]
  },
  {
   "cell_type": "code",
   "execution_count": 50,
   "metadata": {
    "executionInfo": {
     "elapsed": 5,
     "status": "ok",
     "timestamp": 1637532236990,
     "user": {
      "displayName": "Nicholas Saulnier",
      "photoUrl": "https://lh3.googleusercontent.com/a-/AOh14GjBzaoSuUs2qp4-Wr1BcTklxfosWn89g7Tbw1j8=s64",
      "userId": "12122203451340966147"
     },
     "user_tz": 480
    },
    "id": "2e455b0a"
   },
   "outputs": [],
   "source": [
    "# Create the seventh model, which is the same as the fifth model but with tanh activation functions\n",
    "model_7 = models.Sequential()\n",
    "model_7.add(layers.Dense(60, activation='tanh'))\n",
    "model_7.add(layers.Dense(60, activation='tanh'))\n",
    "model_7.add(layers.Dense(60, activation='tanh'))\n",
    "model_7.add(layers.Dense(60, activation='tanh'))\n",
    "model_7.add(layers.Dense(60, activation='tanh'))\n",
    "model_7.add(layers.Dense(46, activation='softmax'))\n",
    "\n",
    "model_7.compile(optimizer='rmsprop',\n",
    "              loss='categorical_crossentropy',\n",
    "              metrics=['accuracy'])"
   ]
  },
  {
   "cell_type": "code",
   "execution_count": 51,
   "metadata": {
    "colab": {
     "base_uri": "https://localhost:8080/"
    },
    "executionInfo": {
     "elapsed": 25629,
     "status": "ok",
     "timestamp": 1637532262616,
     "user": {
      "displayName": "Nicholas Saulnier",
      "photoUrl": "https://lh3.googleusercontent.com/a-/AOh14GjBzaoSuUs2qp4-Wr1BcTklxfosWn89g7Tbw1j8=s64",
      "userId": "12122203451340966147"
     },
     "user_tz": 480
    },
    "id": "f9b89fef",
    "outputId": "d2777039-e83c-455d-fa5d-36484e4c69aa"
   },
   "outputs": [
    {
     "name": "stdout",
     "output_type": "stream",
     "text": [
      "Epoch 1/20\n",
      "12/12 [==============================] - 3s 139ms/step - loss: 2.5027 - accuracy: 0.5240 - val_loss: 1.6929 - val_accuracy: 0.6546\n",
      "Epoch 2/20\n",
      "12/12 [==============================] - 1s 101ms/step - loss: 1.4036 - accuracy: 0.7170 - val_loss: 1.3655 - val_accuracy: 0.7056\n",
      "Epoch 3/20\n",
      "12/12 [==============================] - 1s 100ms/step - loss: 1.0132 - accuracy: 0.8026 - val_loss: 1.2416 - val_accuracy: 0.7187\n",
      "Epoch 4/20\n",
      "12/12 [==============================] - 1s 100ms/step - loss: 0.7672 - accuracy: 0.8596 - val_loss: 1.1169 - val_accuracy: 0.7656\n",
      "Epoch 5/20\n",
      "12/12 [==============================] - 1s 102ms/step - loss: 0.5954 - accuracy: 0.8991 - val_loss: 1.0767 - val_accuracy: 0.7629\n",
      "Epoch 6/20\n",
      "12/12 [==============================] - 1s 99ms/step - loss: 0.4650 - accuracy: 0.9202 - val_loss: 1.0422 - val_accuracy: 0.7771\n",
      "Epoch 7/20\n",
      "12/12 [==============================] - 1s 101ms/step - loss: 0.3720 - accuracy: 0.9387 - val_loss: 1.0355 - val_accuracy: 0.7750\n",
      "Epoch 8/20\n",
      "12/12 [==============================] - 1s 100ms/step - loss: 0.2961 - accuracy: 0.9503 - val_loss: 1.0498 - val_accuracy: 0.7825\n",
      "Epoch 9/20\n",
      "12/12 [==============================] - 1s 100ms/step - loss: 0.2472 - accuracy: 0.9568 - val_loss: 1.0636 - val_accuracy: 0.7693\n",
      "Epoch 10/20\n",
      "12/12 [==============================] - 1s 101ms/step - loss: 0.2050 - accuracy: 0.9594 - val_loss: 1.0465 - val_accuracy: 0.7838\n",
      "Epoch 11/20\n",
      "12/12 [==============================] - 1s 99ms/step - loss: 0.1754 - accuracy: 0.9618 - val_loss: 1.0660 - val_accuracy: 0.7865\n",
      "Epoch 12/20\n",
      "12/12 [==============================] - 1s 100ms/step - loss: 0.1539 - accuracy: 0.9629 - val_loss: 1.0718 - val_accuracy: 0.7821\n",
      "Epoch 13/20\n",
      "12/12 [==============================] - 1s 100ms/step - loss: 0.1360 - accuracy: 0.9653 - val_loss: 1.0750 - val_accuracy: 0.7828\n",
      "Epoch 14/20\n",
      "12/12 [==============================] - 1s 101ms/step - loss: 0.1200 - accuracy: 0.9659 - val_loss: 1.0875 - val_accuracy: 0.7831\n",
      "Epoch 15/20\n",
      "12/12 [==============================] - 1s 102ms/step - loss: 0.1088 - accuracy: 0.9656 - val_loss: 1.0855 - val_accuracy: 0.7868\n",
      "Epoch 16/20\n",
      "12/12 [==============================] - 1s 100ms/step - loss: 0.1006 - accuracy: 0.9661 - val_loss: 1.1064 - val_accuracy: 0.7831\n",
      "Epoch 17/20\n",
      "12/12 [==============================] - 1s 101ms/step - loss: 0.0926 - accuracy: 0.9668 - val_loss: 1.1281 - val_accuracy: 0.7825\n",
      "Epoch 18/20\n",
      "12/12 [==============================] - 1s 99ms/step - loss: 0.0867 - accuracy: 0.9673 - val_loss: 1.1316 - val_accuracy: 0.7821\n",
      "Epoch 19/20\n",
      "12/12 [==============================] - 1s 100ms/step - loss: 0.0816 - accuracy: 0.9654 - val_loss: 1.1255 - val_accuracy: 0.7889\n",
      "Epoch 20/20\n",
      "12/12 [==============================] - 1s 99ms/step - loss: 0.0779 - accuracy: 0.9678 - val_loss: 1.1435 - val_accuracy: 0.7852\n"
     ]
    }
   ],
   "source": [
    "# Train the fifth model for 20 epochs\n",
    "model_7_history = model_7.fit(partial_X_train,\n",
    "                      partial_y_train,\n",
    "                      epochs=20,\n",
    "                      batch_size=512,\n",
    "                      validation_data=(x_val, y_val))"
   ]
  },
  {
   "cell_type": "code",
   "execution_count": 52,
   "metadata": {
    "colab": {
     "base_uri": "https://localhost:8080/",
     "height": 573
    },
    "executionInfo": {
     "elapsed": 508,
     "status": "ok",
     "timestamp": 1637532263111,
     "user": {
      "displayName": "Nicholas Saulnier",
      "photoUrl": "https://lh3.googleusercontent.com/a-/AOh14GjBzaoSuUs2qp4-Wr1BcTklxfosWn89g7Tbw1j8=s64",
      "userId": "12122203451340966147"
     },
     "user_tz": 480
    },
    "id": "3594631b",
    "outputId": "e2076f52-dc86-456b-ed3a-db28a6d24753"
   },
   "outputs": [
    {
     "data": {
      "image/png": "[encoded data removed]",
      "text/plain": [
       "<Figure size 432x288 with 1 Axes>"
      ]
     },
     "metadata": {
      "needs_background": "light"
     },
     "output_type": "display_data"
    },
    {
     "data": {
      "image/png": "[encoded data removed]",
      "text/plain": [
       "<Figure size 432x288 with 1 Axes>"
      ]
     },
     "metadata": {
      "needs_background": "light"
     },
     "output_type": "display_data"
    }
   ],
   "source": [
    "# Plot model_7's loss and accuracy curves\n",
    "plotTrainingAndValidationLoss(model_7_history)\n",
    "plotTrainingAndValidationAccuracy(model_7_history)"
   ]
  },
  {
   "cell_type": "code",
   "execution_count": 54,
   "metadata": {
    "executionInfo": {
     "elapsed": 3,
     "status": "ok",
     "timestamp": 1637532263570,
     "user": {
      "displayName": "Nicholas Saulnier",
      "photoUrl": "https://lh3.googleusercontent.com/a-/AOh14GjBzaoSuUs2qp4-Wr1BcTklxfosWn89g7Tbw1j8=s64",
      "userId": "12122203451340966147"
     },
     "user_tz": 480
    },
    "id": "IwpjughHjtC5"
   },
   "outputs": [],
   "source": [
    "def getBestPerformingModel(model_list, model_history_list, metric_string='accuracy'):\n",
    "    \"\"\"\n",
    "    Return the model with highest recorded accuracy score from the models in \n",
    "    the specified models list.\n",
    "    \"\"\"\n",
    "    max_acc = 0\n",
    "    best_model_index = 0\n",
    "\n",
    "    for index,model_history in enumerate(model_history_list):\n",
    "        best_model_acc = max(model_history.history['val_' + metric_string])\n",
    "        if best_model_acc > max_acc:\n",
    "            max_acc = best_model_acc\n",
    "            best_model_index = index \n",
    "    \n",
    "    return (model_list[best_model_index], best_model_index, max_acc)"
   ]
  },
  {
   "cell_type": "code",
   "execution_count": 55,
   "metadata": {
    "executionInfo": {
     "elapsed": 3,
     "status": "ok",
     "timestamp": 1637532263570,
     "user": {
      "displayName": "Nicholas Saulnier",
      "photoUrl": "https://lh3.googleusercontent.com/a-/AOh14GjBzaoSuUs2qp4-Wr1BcTklxfosWn89g7Tbw1j8=s64",
      "userId": "12122203451340966147"
     },
     "user_tz": 480
    },
    "id": "ILP33HH8lrK3"
   },
   "outputs": [],
   "source": [
    "def recordBestModel(output_file, best_model, name_line):\n",
    "    \"\"\"Record statistics for the best performing model.\"\"\"\n",
    "    with open(output_file, 'a') as file:\n",
    "        best_model_name_line = '\\n' + name_line + ': model_' + str(best_model[1] + 1) + '\\n'\n",
    "        file.write(best_model_name_line)\n",
    "        highest_accuracy_line = 'Highest Accuracy: ' + str(best_model[2]) + '\\n'\n",
    "        file.write(highest_accuracy_line)\n",
    "        best_model[0].summary(print_fn=lambda x: file.write(x + '\\n'))"
   ]
  },
  {
   "cell_type": "code",
   "execution_count": 101,
   "metadata": {
    "executionInfo": {
     "elapsed": 178,
     "status": "ok",
     "timestamp": 1637549980008,
     "user": {
      "displayName": "Nicholas Saulnier",
      "photoUrl": "https://lh3.googleusercontent.com/a-/AOh14GjBzaoSuUs2qp4-Wr1BcTklxfosWn89g7Tbw1j8=s64",
      "userId": "12122203451340966147"
     },
     "user_tz": 480
    },
    "id": "b3ad955c"
   },
   "outputs": [],
   "source": [
    "# Create lists of the models and model histories\n",
    "model_list = [model_1, model_2, model_3, model_4, model_5, model_6, model_7]\n",
    "model_history_list = [model_1_history, model_2_history, model_3_history, model_4_history, model_5_history, model_6_history, model_7_history]"
   ]
  },
  {
   "cell_type": "code",
   "execution_count": 103,
   "metadata": {
    "executionInfo": {
     "elapsed": 416,
     "status": "ok",
     "timestamp": 1637549990661,
     "user": {
      "displayName": "Nicholas Saulnier",
      "photoUrl": "https://lh3.googleusercontent.com/a-/AOh14GjBzaoSuUs2qp4-Wr1BcTklxfosWn89g7Tbw1j8=s64",
      "userId": "12122203451340966147"
     },
     "user_tz": 480
    },
    "id": "c3522e6f"
   },
   "outputs": [],
   "source": [
    "# Record the highest accuracy, and the parameters of the best performing model\n",
    "best_model = getBestPerformingModel(model_list, model_history_list, 'accuracy')\n",
    "recordBestModel(step_1_metrics_out, best_model, 'Best Model')"
   ]
  },
  {
   "cell_type": "markdown",
   "metadata": {
    "id": "7e9b8a0e"
   },
   "source": [
    "## Step 3. Classify the Reuter's Data using RNNs"
   ]
  },
  {
   "cell_type": "code",
   "execution_count": 57,
   "metadata": {
    "executionInfo": {
     "elapsed": 143,
     "status": "ok",
     "timestamp": 1637532284500,
     "user": {
      "displayName": "Nicholas Saulnier",
      "photoUrl": "https://lh3.googleusercontent.com/a-/AOh14GjBzaoSuUs2qp4-Wr1BcTklxfosWn89g7Tbw1j8=s64",
      "userId": "12122203451340966147"
     },
     "user_tz": 480
    },
    "id": "vM8lmZWhTLBf"
   },
   "outputs": [],
   "source": [
    "def truncateSequences(sequences, sequence_length=200):\n",
    "    \"\"\"\n",
    "    Truncate the input sequences to the specified sequence_length, padding \n",
    "    sequences with zeroes at the end if their length is less than sequence_length.\n",
    "    \"\"\"\n",
    "    results = np.zeros((len(sequences), sequence_length))\n",
    "    for i, sequence in enumerate(sequences):\n",
    "        if len(sequence) < sequence_length:\n",
    "            results[i] = np.pad(sequence, (0, sequence_length - len(sequence)))\n",
    "        else:\n",
    "            results[i] = sequence[:sequence_length]\n",
    "    return results"
   ]
  },
  {
   "cell_type": "code",
   "execution_count": 58,
   "metadata": {
    "executionInfo": {
     "elapsed": 482,
     "status": "ok",
     "timestamp": 1637532288253,
     "user": {
      "displayName": "Nicholas Saulnier",
      "photoUrl": "https://lh3.googleusercontent.com/a-/AOh14GjBzaoSuUs2qp4-Wr1BcTklxfosWn89g7Tbw1j8=s64",
      "userId": "12122203451340966147"
     },
     "user_tz": 480
    },
    "id": "atge57kTTZfg"
   },
   "outputs": [],
   "source": [
    "# Prepare the training/test data\n",
    "x_RNN_train = truncateSequences(input_train)\n",
    "x_RNN_test = truncateSequences(input_test)"
   ]
  },
  {
   "cell_type": "code",
   "execution_count": 59,
   "metadata": {
    "executionInfo": {
     "elapsed": 136,
     "status": "ok",
     "timestamp": 1637532289985,
     "user": {
      "displayName": "Nicholas Saulnier",
      "photoUrl": "https://lh3.googleusercontent.com/a-/AOh14GjBzaoSuUs2qp4-Wr1BcTklxfosWn89g7Tbw1j8=s64",
      "userId": "12122203451340966147"
     },
     "user_tz": 480
    },
    "id": "QvHwyZ8WTYPO"
   },
   "outputs": [],
   "source": [
    "# Split the training data, using 1/3 of the data as a validation set\n",
    "partial_X_RNN_train, x_RNN_val, partial_y_RNN_train, y_RNN_val = train_test_split(x_RNN_train, one_hot_train_labels, test_size=0.33)"
   ]
  },
  {
   "cell_type": "code",
   "execution_count": 60,
   "metadata": {
    "executionInfo": {
     "elapsed": 140,
     "status": "ok",
     "timestamp": 1637532291315,
     "user": {
      "displayName": "Nicholas Saulnier",
      "photoUrl": "https://lh3.googleusercontent.com/a-/AOh14GjBzaoSuUs2qp4-Wr1BcTklxfosWn89g7Tbw1j8=s64",
      "userId": "12122203451340966147"
     },
     "user_tz": 480
    },
    "id": "7dd7aa75"
   },
   "outputs": [],
   "source": [
    "max_features = 31000"
   ]
  },
  {
   "cell_type": "code",
   "execution_count": 61,
   "metadata": {
    "executionInfo": {
     "elapsed": 467,
     "status": "ok",
     "timestamp": 1637532293821,
     "user": {
      "displayName": "Nicholas Saulnier",
      "photoUrl": "https://lh3.googleusercontent.com/a-/AOh14GjBzaoSuUs2qp4-Wr1BcTklxfosWn89g7Tbw1j8=s64",
      "userId": "12122203451340966147"
     },
     "user_tz": 480
    },
    "id": "ee15b650"
   },
   "outputs": [],
   "source": [
    "# Create the first RNN model for classifying the Reuter's data\n",
    "# The model has a single LSTM layer with 46 nodes and default settings: no dropout, tanh activation, etc.\n",
    "RNN_model_1 = Sequential()\n",
    "RNN_model_1.add(Embedding(max_features, 46))\n",
    "RNN_model_1.add(LSTM(46))\n",
    "RNN_model_1.add(Dense(46, activation='softmax'))\n",
    "\n",
    "RNN_model_1.compile(optimizer='rmsprop',\n",
    "                    loss='categorical_crossentropy',\n",
    "                    metrics=['acc'])"
   ]
  },
  {
   "cell_type": "code",
   "execution_count": 62,
   "metadata": {
    "colab": {
     "base_uri": "https://localhost:8080/"
    },
    "executionInfo": {
     "elapsed": 440579,
     "status": "ok",
     "timestamp": 1637532735703,
     "user": {
      "displayName": "Nicholas Saulnier",
      "photoUrl": "https://lh3.googleusercontent.com/a-/AOh14GjBzaoSuUs2qp4-Wr1BcTklxfosWn89g7Tbw1j8=s64",
      "userId": "12122203451340966147"
     },
     "user_tz": 480
    },
    "id": "6099d121",
    "outputId": "8cf59c27-9727-4593-a061-24f06505d155"
   },
   "outputs": [
    {
     "name": "stdout",
     "output_type": "stream",
     "text": [
      "Epoch 1/64\n",
      "12/12 [==============================] - 9s 614ms/step - loss: 3.2539 - acc: 0.2957 - val_loss: 2.6002 - val_acc: 0.3558\n",
      "Epoch 2/64\n",
      "12/12 [==============================] - 7s 565ms/step - loss: 2.5089 - acc: 0.3497 - val_loss: 2.4503 - val_acc: 0.3558\n",
      "Epoch 3/64\n",
      "12/12 [==============================] - 7s 563ms/step - loss: 2.4172 - acc: 0.3497 - val_loss: 2.4008 - val_acc: 0.3558\n",
      "Epoch 4/64\n",
      "12/12 [==============================] - 7s 568ms/step - loss: 2.3869 - acc: 0.3515 - val_loss: 2.4262 - val_acc: 0.3558\n",
      "Epoch 5/64\n",
      "12/12 [==============================] - 7s 570ms/step - loss: 2.3607 - acc: 0.3508 - val_loss: 2.3953 - val_acc: 0.3558\n",
      "Epoch 6/64\n",
      "12/12 [==============================] - 7s 570ms/step - loss: 2.3520 - acc: 0.3545 - val_loss: 2.3444 - val_acc: 0.3558\n",
      "Epoch 7/64\n",
      "12/12 [==============================] - 7s 568ms/step - loss: 2.3339 - acc: 0.3555 - val_loss: 2.3300 - val_acc: 0.3558\n",
      "Epoch 8/64\n",
      "12/12 [==============================] - 7s 598ms/step - loss: 2.2976 - acc: 0.3588 - val_loss: 2.3243 - val_acc: 0.3616\n",
      "Epoch 9/64\n",
      "12/12 [==============================] - 7s 588ms/step - loss: 2.3284 - acc: 0.3650 - val_loss: 2.3040 - val_acc: 0.3784\n",
      "Epoch 10/64\n",
      "12/12 [==============================] - 7s 580ms/step - loss: 2.2813 - acc: 0.3703 - val_loss: 2.2880 - val_acc: 0.3838\n",
      "Epoch 11/64\n",
      "12/12 [==============================] - 7s 571ms/step - loss: 2.2220 - acc: 0.4122 - val_loss: 2.1277 - val_acc: 0.4067\n",
      "Epoch 12/64\n",
      "12/12 [==============================] - 7s 578ms/step - loss: 2.0941 - acc: 0.4255 - val_loss: 2.1072 - val_acc: 0.4135\n",
      "Epoch 13/64\n",
      "12/12 [==============================] - 7s 577ms/step - loss: 2.1513 - acc: 0.4012 - val_loss: 2.1432 - val_acc: 0.3976\n",
      "Epoch 14/64\n",
      "12/12 [==============================] - 7s 591ms/step - loss: 2.1271 - acc: 0.3823 - val_loss: 2.1342 - val_acc: 0.3616\n",
      "Epoch 15/64\n",
      "12/12 [==============================] - 7s 572ms/step - loss: 2.0810 - acc: 0.3555 - val_loss: 2.0840 - val_acc: 0.3642\n",
      "Epoch 16/64\n",
      "12/12 [==============================] - 7s 579ms/step - loss: 2.0866 - acc: 0.3625 - val_loss: 2.0904 - val_acc: 0.3754\n",
      "Epoch 17/64\n",
      "12/12 [==============================] - 7s 571ms/step - loss: 2.0690 - acc: 0.3798 - val_loss: 2.0678 - val_acc: 0.3855\n",
      "Epoch 18/64\n",
      "12/12 [==============================] - 7s 570ms/step - loss: 2.1891 - acc: 0.3823 - val_loss: 2.3234 - val_acc: 0.3737\n",
      "Epoch 19/64\n",
      "12/12 [==============================] - 7s 575ms/step - loss: 2.3236 - acc: 0.3517 - val_loss: 2.3121 - val_acc: 0.3558\n",
      "Epoch 20/64\n",
      "12/12 [==============================] - 7s 574ms/step - loss: 2.3215 - acc: 0.3570 - val_loss: 2.3986 - val_acc: 0.3558\n",
      "Epoch 21/64\n",
      "12/12 [==============================] - 7s 565ms/step - loss: 2.3156 - acc: 0.3583 - val_loss: 2.1728 - val_acc: 0.3558\n",
      "Epoch 22/64\n",
      "12/12 [==============================] - 7s 567ms/step - loss: 2.3081 - acc: 0.3583 - val_loss: 2.3383 - val_acc: 0.3619\n",
      "Epoch 23/64\n",
      "12/12 [==============================] - 7s 571ms/step - loss: 2.2666 - acc: 0.3680 - val_loss: 2.2850 - val_acc: 0.3821\n",
      "Epoch 24/64\n",
      "12/12 [==============================] - 7s 572ms/step - loss: 2.0726 - acc: 0.3821 - val_loss: 2.0211 - val_acc: 0.3990\n",
      "Epoch 25/64\n",
      "12/12 [==============================] - 7s 573ms/step - loss: 2.1230 - acc: 0.3942 - val_loss: 2.2723 - val_acc: 0.3895\n",
      "Epoch 26/64\n",
      "12/12 [==============================] - 7s 572ms/step - loss: 2.1317 - acc: 0.3950 - val_loss: 2.1042 - val_acc: 0.4067\n",
      "Epoch 27/64\n",
      "12/12 [==============================] - 7s 576ms/step - loss: 2.0545 - acc: 0.3952 - val_loss: 2.4045 - val_acc: 0.4010\n",
      "Epoch 28/64\n",
      "12/12 [==============================] - 7s 577ms/step - loss: 2.2600 - acc: 0.3678 - val_loss: 2.2863 - val_acc: 0.3764\n",
      "Epoch 29/64\n",
      "12/12 [==============================] - 7s 572ms/step - loss: 2.1604 - acc: 0.3909 - val_loss: 2.1610 - val_acc: 0.4071\n",
      "Epoch 30/64\n",
      "12/12 [==============================] - 7s 568ms/step - loss: 2.1152 - acc: 0.4102 - val_loss: 2.0575 - val_acc: 0.4084\n",
      "Epoch 31/64\n",
      "12/12 [==============================] - 7s 570ms/step - loss: 1.9725 - acc: 0.4155 - val_loss: 1.9922 - val_acc: 0.4088\n",
      "Epoch 32/64\n",
      "12/12 [==============================] - 7s 576ms/step - loss: 2.0490 - acc: 0.3734 - val_loss: 2.0038 - val_acc: 0.3723\n",
      "Epoch 33/64\n",
      "12/12 [==============================] - 7s 574ms/step - loss: 1.9421 - acc: 0.3984 - val_loss: 1.9824 - val_acc: 0.4000\n",
      "Epoch 34/64\n",
      "12/12 [==============================] - 7s 579ms/step - loss: 1.9060 - acc: 0.4127 - val_loss: 1.9853 - val_acc: 0.4098\n",
      "Epoch 35/64\n",
      "12/12 [==============================] - 7s 575ms/step - loss: 1.9675 - acc: 0.3911 - val_loss: 1.9856 - val_acc: 0.3922\n",
      "Epoch 36/64\n",
      "12/12 [==============================] - 7s 577ms/step - loss: 1.9253 - acc: 0.3969 - val_loss: 1.9772 - val_acc: 0.3798\n",
      "Epoch 37/64\n",
      "12/12 [==============================] - 7s 574ms/step - loss: 1.9243 - acc: 0.3894 - val_loss: 1.9775 - val_acc: 0.4007\n",
      "Epoch 38/64\n",
      "12/12 [==============================] - 7s 614ms/step - loss: 1.9255 - acc: 0.3984 - val_loss: 1.9958 - val_acc: 0.3963\n",
      "Epoch 39/64\n",
      "12/12 [==============================] - 7s 608ms/step - loss: 1.9562 - acc: 0.4020 - val_loss: 2.0238 - val_acc: 0.3808\n",
      "Epoch 40/64\n",
      "12/12 [==============================] - 7s 602ms/step - loss: 1.9283 - acc: 0.4183 - val_loss: 1.9642 - val_acc: 0.4013\n",
      "Epoch 41/64\n",
      "12/12 [==============================] - 7s 610ms/step - loss: 1.9661 - acc: 0.4206 - val_loss: 2.1132 - val_acc: 0.3865\n",
      "Epoch 42/64\n",
      "12/12 [==============================] - 7s 596ms/step - loss: 1.9362 - acc: 0.4371 - val_loss: 1.9631 - val_acc: 0.4253\n",
      "Epoch 43/64\n",
      "12/12 [==============================] - 7s 595ms/step - loss: 1.8475 - acc: 0.4497 - val_loss: 1.9692 - val_acc: 0.4212\n",
      "Epoch 44/64\n",
      "12/12 [==============================] - 7s 585ms/step - loss: 1.9193 - acc: 0.4408 - val_loss: 2.0457 - val_acc: 0.4239\n",
      "Epoch 45/64\n",
      "12/12 [==============================] - 7s 592ms/step - loss: 2.1227 - acc: 0.3708 - val_loss: 2.0890 - val_acc: 0.4128\n",
      "Epoch 46/64\n",
      "12/12 [==============================] - 7s 583ms/step - loss: 1.9465 - acc: 0.4391 - val_loss: 1.9516 - val_acc: 0.4226\n",
      "Epoch 47/64\n",
      "12/12 [==============================] - 7s 586ms/step - loss: 1.8485 - acc: 0.4526 - val_loss: 1.9704 - val_acc: 0.4192\n",
      "Epoch 48/64\n",
      "12/12 [==============================] - 7s 589ms/step - loss: 1.8485 - acc: 0.4572 - val_loss: 1.9599 - val_acc: 0.4293\n",
      "Epoch 49/64\n",
      "12/12 [==============================] - 7s 571ms/step - loss: 1.8372 - acc: 0.4565 - val_loss: 2.0373 - val_acc: 0.4192\n",
      "Epoch 50/64\n",
      "12/12 [==============================] - 7s 565ms/step - loss: 1.8905 - acc: 0.4487 - val_loss: 2.0113 - val_acc: 0.4142\n",
      "Epoch 51/64\n",
      "12/12 [==============================] - 7s 576ms/step - loss: 1.7847 - acc: 0.4584 - val_loss: 1.9183 - val_acc: 0.4185\n",
      "Epoch 52/64\n",
      "12/12 [==============================] - 7s 571ms/step - loss: 1.8154 - acc: 0.4550 - val_loss: 2.0031 - val_acc: 0.4185\n",
      "Epoch 53/64\n",
      "12/12 [==============================] - 7s 571ms/step - loss: 1.8109 - acc: 0.4630 - val_loss: 1.9517 - val_acc: 0.4324\n",
      "Epoch 54/64\n",
      "12/12 [==============================] - 7s 567ms/step - loss: 1.8434 - acc: 0.4417 - val_loss: 2.1319 - val_acc: 0.4243\n",
      "Epoch 55/64\n",
      "12/12 [==============================] - 7s 574ms/step - loss: 1.8709 - acc: 0.4386 - val_loss: 2.0473 - val_acc: 0.3885\n",
      "Epoch 56/64\n",
      "12/12 [==============================] - 7s 564ms/step - loss: 1.7795 - acc: 0.4507 - val_loss: 1.9022 - val_acc: 0.4344\n",
      "Epoch 57/64\n",
      "12/12 [==============================] - 7s 567ms/step - loss: 1.7227 - acc: 0.4720 - val_loss: 1.9195 - val_acc: 0.4358\n",
      "Epoch 58/64\n",
      "12/12 [==============================] - 7s 576ms/step - loss: 1.7194 - acc: 0.4695 - val_loss: 2.0790 - val_acc: 0.3788\n",
      "Epoch 59/64\n",
      "12/12 [==============================] - 7s 576ms/step - loss: 1.7819 - acc: 0.4648 - val_loss: 1.9129 - val_acc: 0.4304\n",
      "Epoch 60/64\n",
      "12/12 [==============================] - 7s 574ms/step - loss: 1.7769 - acc: 0.4600 - val_loss: 1.9275 - val_acc: 0.4266\n",
      "Epoch 61/64\n",
      "12/12 [==============================] - 7s 566ms/step - loss: 1.7866 - acc: 0.4549 - val_loss: 1.9251 - val_acc: 0.4354\n",
      "Epoch 62/64\n",
      "12/12 [==============================] - 7s 574ms/step - loss: 1.8966 - acc: 0.4063 - val_loss: 1.9679 - val_acc: 0.4351\n",
      "Epoch 63/64\n",
      "12/12 [==============================] - 7s 572ms/step - loss: 1.8210 - acc: 0.4577 - val_loss: 1.9757 - val_acc: 0.3993\n",
      "Epoch 64/64\n",
      "12/12 [==============================] - 7s 569ms/step - loss: 1.7608 - acc: 0.4414 - val_loss: 1.9917 - val_acc: 0.4017\n"
     ]
    }
   ],
   "source": [
    "# Train the first RNN model\n",
    "RNN_model_1_history = RNN_model_1.fit(partial_X_RNN_train,\n",
    "                                      partial_y_RNN_train,\n",
    "                                      epochs=64,\n",
    "                                      batch_size=512,\n",
    "                                      validation_data=(x_RNN_val, y_RNN_val))"
   ]
  },
  {
   "cell_type": "code",
   "execution_count": 63,
   "metadata": {
    "colab": {
     "base_uri": "https://localhost:8080/",
     "height": 573
    },
    "executionInfo": {
     "elapsed": 551,
     "status": "ok",
     "timestamp": 1637532736242,
     "user": {
      "displayName": "Nicholas Saulnier",
      "photoUrl": "https://lh3.googleusercontent.com/a-/AOh14GjBzaoSuUs2qp4-Wr1BcTklxfosWn89g7Tbw1j8=s64",
      "userId": "12122203451340966147"
     },
     "user_tz": 480
    },
    "id": "6d49e7cd",
    "outputId": "b1271c34-4a79-48a1-e035-d60b0fa45e70"
   },
   "outputs": [
    {
     "data": {
      "image/png": "[encoded data removed]",
      "text/plain": [
       "<Figure size 432x288 with 1 Axes>"
      ]
     },
     "metadata": {
      "needs_background": "light"
     },
     "output_type": "display_data"
    },
    {
     "data": {
      "image/png": "[encoded data removed]",
      "text/plain": [
       "<Figure size 432x288 with 1 Axes>"
      ]
     },
     "metadata": {
      "needs_background": "light"
     },
     "output_type": "display_data"
    }
   ],
   "source": [
    "plotTrainingAndValidationLoss(RNN_model_1_history)\n",
    "plotTrainingAndValidationAccuracy(RNN_model_1_history, 'acc')"
   ]
  },
  {
   "cell_type": "markdown",
   "metadata": {
    "id": "woQMcXrXpvLJ"
   },
   "source": [
    "Takeaway: This model will be used as a baseline. There's nothing in particular to note: I don't see any overfitting, but there are some spikes in the validation loss and accuracy that should be smoothed out. Overall, accuracy is low compared to the non-RNN NNs. I suspect that this is because the LSTMs need more epochs to train properly, and maybe also has something to do with how the data is preprocessed."
   ]
  },
  {
   "cell_type": "code",
   "execution_count": 64,
   "metadata": {
    "executionInfo": {
     "elapsed": 5,
     "status": "ok",
     "timestamp": 1637532736243,
     "user": {
      "displayName": "Nicholas Saulnier",
      "photoUrl": "https://lh3.googleusercontent.com/a-/AOh14GjBzaoSuUs2qp4-Wr1BcTklxfosWn89g7Tbw1j8=s64",
      "userId": "12122203451340966147"
     },
     "user_tz": 480
    },
    "id": "29fb57db"
   },
   "outputs": [],
   "source": [
    "# Create the second RNN model for classifying the Reuter's data\n",
    "# The model has a single LSTM layer with 46 nodes and a recurrect dropout of 0.2\n",
    "RNN_model_2 = Sequential()\n",
    "RNN_model_2.add(Embedding(max_features, 46))\n",
    "RNN_model_2.add(LSTM(46, recurrent_dropout=0.2))\n",
    "RNN_model_2.add(Dense(46, activation='softmax'))\n",
    "\n",
    "RNN_model_2.compile(optimizer='rmsprop',\n",
    "                    loss='categorical_crossentropy',\n",
    "                    metrics=['acc'])"
   ]
  },
  {
   "cell_type": "code",
   "execution_count": 65,
   "metadata": {
    "colab": {
     "base_uri": "https://localhost:8080/"
    },
    "executionInfo": {
     "elapsed": 564272,
     "status": "ok",
     "timestamp": 1637533300511,
     "user": {
      "displayName": "Nicholas Saulnier",
      "photoUrl": "https://lh3.googleusercontent.com/a-/AOh14GjBzaoSuUs2qp4-Wr1BcTklxfosWn89g7Tbw1j8=s64",
      "userId": "12122203451340966147"
     },
     "user_tz": 480
    },
    "id": "qzBl83PAYyI_",
    "outputId": "90be6bbe-e4b7-4d3e-c4d5-d35d2d597434"
   },
   "outputs": [
    {
     "name": "stdout",
     "output_type": "stream",
     "text": [
      "Epoch 1/64\n",
      "12/12 [==============================] - 10s 681ms/step - loss: 3.3632 - acc: 0.2957 - val_loss: 2.6059 - val_acc: 0.3558\n",
      "Epoch 2/64\n",
      "12/12 [==============================] - 8s 659ms/step - loss: 2.5064 - acc: 0.3497 - val_loss: 2.4629 - val_acc: 0.3558\n",
      "Epoch 3/64\n",
      "12/12 [==============================] - 8s 659ms/step - loss: 2.4137 - acc: 0.3497 - val_loss: 2.4358 - val_acc: 0.3558\n",
      "Epoch 4/64\n",
      "12/12 [==============================] - 8s 658ms/step - loss: 2.3792 - acc: 0.3498 - val_loss: 2.3857 - val_acc: 0.3626\n",
      "Epoch 5/64\n",
      "12/12 [==============================] - 8s 659ms/step - loss: 2.3570 - acc: 0.3577 - val_loss: 2.3661 - val_acc: 0.3558\n",
      "Epoch 6/64\n",
      "12/12 [==============================] - 8s 662ms/step - loss: 2.3385 - acc: 0.3548 - val_loss: 2.3669 - val_acc: 0.3750\n",
      "Epoch 7/64\n",
      "12/12 [==============================] - 8s 664ms/step - loss: 2.3274 - acc: 0.3618 - val_loss: 2.4214 - val_acc: 0.3558\n",
      "Epoch 8/64\n",
      "12/12 [==============================] - 8s 663ms/step - loss: 2.3267 - acc: 0.3651 - val_loss: 2.4043 - val_acc: 0.3558\n",
      "Epoch 9/64\n",
      "12/12 [==============================] - 8s 655ms/step - loss: 2.3068 - acc: 0.3696 - val_loss: 2.3460 - val_acc: 0.3720\n",
      "Epoch 10/64\n",
      "12/12 [==============================] - 8s 666ms/step - loss: 2.2811 - acc: 0.3729 - val_loss: 2.2953 - val_acc: 0.3673\n",
      "Epoch 11/64\n",
      "12/12 [==============================] - 8s 668ms/step - loss: 2.3499 - acc: 0.3415 - val_loss: 2.2996 - val_acc: 0.3825\n",
      "Epoch 12/64\n",
      "12/12 [==============================] - 8s 662ms/step - loss: 2.2475 - acc: 0.3826 - val_loss: 2.2598 - val_acc: 0.3916\n",
      "Epoch 13/64\n",
      "12/12 [==============================] - 8s 658ms/step - loss: 2.1988 - acc: 0.3836 - val_loss: 2.0623 - val_acc: 0.3912\n",
      "Epoch 14/64\n",
      "12/12 [==============================] - 8s 657ms/step - loss: 2.0370 - acc: 0.4027 - val_loss: 2.0264 - val_acc: 0.3906\n",
      "Epoch 15/64\n",
      "12/12 [==============================] - 8s 668ms/step - loss: 2.1437 - acc: 0.3744 - val_loss: 2.1958 - val_acc: 0.3862\n",
      "Epoch 16/64\n",
      "12/12 [==============================] - 8s 657ms/step - loss: 2.1213 - acc: 0.3965 - val_loss: 2.1320 - val_acc: 0.3990\n",
      "Epoch 17/64\n",
      "12/12 [==============================] - 8s 665ms/step - loss: 2.1628 - acc: 0.3543 - val_loss: 2.1113 - val_acc: 0.3781\n",
      "Epoch 18/64\n",
      "12/12 [==============================] - 8s 667ms/step - loss: 2.1187 - acc: 0.3741 - val_loss: 2.0686 - val_acc: 0.3646\n",
      "Epoch 19/64\n",
      "12/12 [==============================] - 8s 681ms/step - loss: 2.0295 - acc: 0.3789 - val_loss: 2.0199 - val_acc: 0.3916\n",
      "Epoch 20/64\n",
      "12/12 [==============================] - 8s 675ms/step - loss: 1.9894 - acc: 0.4004 - val_loss: 1.9722 - val_acc: 0.3858\n",
      "Epoch 21/64\n",
      "12/12 [==============================] - 8s 662ms/step - loss: 2.0935 - acc: 0.3941 - val_loss: 2.3118 - val_acc: 0.3926\n",
      "Epoch 22/64\n",
      "12/12 [==============================] - 8s 662ms/step - loss: 2.0949 - acc: 0.4113 - val_loss: 2.0214 - val_acc: 0.4132\n",
      "Epoch 23/64\n",
      "12/12 [==============================] - 8s 678ms/step - loss: 1.9547 - acc: 0.4285 - val_loss: 1.9954 - val_acc: 0.4108\n",
      "Epoch 24/64\n",
      "12/12 [==============================] - 8s 665ms/step - loss: 2.0482 - acc: 0.3967 - val_loss: 2.0216 - val_acc: 0.4061\n",
      "Epoch 25/64\n",
      "12/12 [==============================] - 8s 673ms/step - loss: 1.9699 - acc: 0.4155 - val_loss: 2.0170 - val_acc: 0.4037\n",
      "Epoch 26/64\n",
      "12/12 [==============================] - 8s 673ms/step - loss: 1.9665 - acc: 0.4135 - val_loss: 2.0027 - val_acc: 0.4057\n",
      "Epoch 27/64\n",
      "12/12 [==============================] - 8s 669ms/step - loss: 1.9933 - acc: 0.4135 - val_loss: 2.0461 - val_acc: 0.4084\n",
      "Epoch 28/64\n",
      "12/12 [==============================] - 8s 665ms/step - loss: 2.0210 - acc: 0.4218 - val_loss: 2.0118 - val_acc: 0.4108\n",
      "Epoch 29/64\n",
      "12/12 [==============================] - 8s 668ms/step - loss: 2.0176 - acc: 0.4309 - val_loss: 2.1048 - val_acc: 0.4155\n",
      "Epoch 30/64\n",
      "12/12 [==============================] - 8s 666ms/step - loss: 2.2293 - acc: 0.3972 - val_loss: 2.4020 - val_acc: 0.3703\n",
      "Epoch 31/64\n",
      "12/12 [==============================] - 8s 663ms/step - loss: 2.3129 - acc: 0.3816 - val_loss: 2.3834 - val_acc: 0.3605\n",
      "Epoch 32/64\n",
      "12/12 [==============================] - 8s 664ms/step - loss: 2.2914 - acc: 0.3695 - val_loss: 2.2632 - val_acc: 0.3902\n",
      "Epoch 33/64\n",
      "12/12 [==============================] - 8s 665ms/step - loss: 2.2494 - acc: 0.3668 - val_loss: 2.3013 - val_acc: 0.3747\n",
      "Epoch 34/64\n",
      "12/12 [==============================] - 8s 670ms/step - loss: 2.1854 - acc: 0.4087 - val_loss: 2.1055 - val_acc: 0.4927\n",
      "Epoch 35/64\n",
      "12/12 [==============================] - 8s 671ms/step - loss: 1.9340 - acc: 0.4484 - val_loss: 1.9677 - val_acc: 0.4287\n",
      "Epoch 36/64\n",
      "12/12 [==============================] - 8s 665ms/step - loss: 1.9307 - acc: 0.4457 - val_loss: 1.9835 - val_acc: 0.4874\n",
      "Epoch 37/64\n",
      "12/12 [==============================] - 8s 691ms/step - loss: 1.8286 - acc: 0.4720 - val_loss: 1.8624 - val_acc: 0.4256\n",
      "Epoch 38/64\n",
      "12/12 [==============================] - 8s 683ms/step - loss: 1.8910 - acc: 0.4281 - val_loss: 1.9844 - val_acc: 0.4135\n",
      "Epoch 39/64\n",
      "12/12 [==============================] - 8s 666ms/step - loss: 1.8750 - acc: 0.4446 - val_loss: 1.9504 - val_acc: 0.4111\n",
      "Epoch 40/64\n",
      "12/12 [==============================] - 8s 669ms/step - loss: 1.8721 - acc: 0.4452 - val_loss: 1.9602 - val_acc: 0.4074\n",
      "Epoch 41/64\n",
      "12/12 [==============================] - 8s 679ms/step - loss: 1.8718 - acc: 0.4507 - val_loss: 1.9422 - val_acc: 0.4064\n",
      "Epoch 42/64\n",
      "12/12 [==============================] - 8s 674ms/step - loss: 1.8644 - acc: 0.4482 - val_loss: 1.9369 - val_acc: 0.4111\n",
      "Epoch 43/64\n",
      "12/12 [==============================] - 8s 675ms/step - loss: 1.8587 - acc: 0.4492 - val_loss: 1.9623 - val_acc: 0.4115\n",
      "Epoch 44/64\n",
      "12/12 [==============================] - 8s 679ms/step - loss: 1.8623 - acc: 0.4612 - val_loss: 1.8352 - val_acc: 0.4263\n",
      "Epoch 45/64\n",
      "12/12 [==============================] - 8s 683ms/step - loss: 1.7922 - acc: 0.4993 - val_loss: 1.8483 - val_acc: 0.4833\n",
      "Epoch 46/64\n",
      "12/12 [==============================] - 8s 679ms/step - loss: 1.7937 - acc: 0.5111 - val_loss: 1.8718 - val_acc: 0.4651\n",
      "Epoch 47/64\n",
      "12/12 [==============================] - 8s 672ms/step - loss: 1.8147 - acc: 0.5129 - val_loss: 1.8492 - val_acc: 0.5180\n",
      "Epoch 48/64\n",
      "12/12 [==============================] - 8s 680ms/step - loss: 1.7321 - acc: 0.5489 - val_loss: 1.9069 - val_acc: 0.4853\n",
      "Epoch 49/64\n",
      "12/12 [==============================] - 8s 667ms/step - loss: 1.7070 - acc: 0.5493 - val_loss: 1.8105 - val_acc: 0.5288\n",
      "Epoch 50/64\n",
      "12/12 [==============================] - 8s 664ms/step - loss: 1.9222 - acc: 0.4529 - val_loss: 2.1764 - val_acc: 0.4010\n",
      "Epoch 51/64\n",
      "12/12 [==============================] - 8s 668ms/step - loss: 1.8734 - acc: 0.4891 - val_loss: 1.9191 - val_acc: 0.4938\n",
      "Epoch 52/64\n",
      "12/12 [==============================] - 8s 673ms/step - loss: 1.7502 - acc: 0.5506 - val_loss: 1.8413 - val_acc: 0.5342\n",
      "Epoch 53/64\n",
      "12/12 [==============================] - 8s 667ms/step - loss: 1.6847 - acc: 0.5725 - val_loss: 1.8224 - val_acc: 0.5288\n",
      "Epoch 54/64\n",
      "12/12 [==============================] - 8s 663ms/step - loss: 1.6909 - acc: 0.5651 - val_loss: 1.8409 - val_acc: 0.5251\n",
      "Epoch 55/64\n",
      "12/12 [==============================] - 8s 670ms/step - loss: 1.6445 - acc: 0.5785 - val_loss: 1.8082 - val_acc: 0.5373\n",
      "Epoch 56/64\n",
      "12/12 [==============================] - 8s 673ms/step - loss: 1.6669 - acc: 0.5706 - val_loss: 1.7729 - val_acc: 0.5342\n",
      "Epoch 57/64\n",
      "12/12 [==============================] - 8s 673ms/step - loss: 1.6659 - acc: 0.5694 - val_loss: 1.8608 - val_acc: 0.5282\n",
      "Epoch 58/64\n",
      "12/12 [==============================] - 8s 670ms/step - loss: 1.6806 - acc: 0.5626 - val_loss: 1.7349 - val_acc: 0.5474\n",
      "Epoch 59/64\n",
      "12/12 [==============================] - 8s 669ms/step - loss: 1.6581 - acc: 0.5797 - val_loss: 1.9071 - val_acc: 0.5268\n",
      "Epoch 60/64\n",
      "12/12 [==============================] - 8s 679ms/step - loss: 1.6589 - acc: 0.5637 - val_loss: 1.7276 - val_acc: 0.5470\n",
      "Epoch 61/64\n",
      "12/12 [==============================] - 8s 668ms/step - loss: 1.5907 - acc: 0.5907 - val_loss: 1.7762 - val_acc: 0.5298\n",
      "Epoch 62/64\n",
      "12/12 [==============================] - 8s 666ms/step - loss: 1.6321 - acc: 0.5662 - val_loss: 1.7350 - val_acc: 0.5369\n",
      "Epoch 63/64\n",
      "12/12 [==============================] - 8s 673ms/step - loss: 1.5160 - acc: 0.5958 - val_loss: 1.6981 - val_acc: 0.5535\n",
      "Epoch 64/64\n",
      "12/12 [==============================] - 8s 667ms/step - loss: 1.5051 - acc: 0.6020 - val_loss: 1.9284 - val_acc: 0.5224\n"
     ]
    }
   ],
   "source": [
    "# Train the second RNN model\n",
    "RNN_model_2_history = RNN_model_2.fit(partial_X_RNN_train,\n",
    "                                      partial_y_RNN_train,\n",
    "                                      epochs=64,\n",
    "                                      batch_size=512,\n",
    "                                      validation_data=(x_RNN_val, y_RNN_val))"
   ]
  },
  {
   "cell_type": "code",
   "execution_count": 66,
   "metadata": {
    "colab": {
     "base_uri": "https://localhost:8080/",
     "height": 573
    },
    "executionInfo": {
     "elapsed": 490,
     "status": "ok",
     "timestamp": 1637533300996,
     "user": {
      "displayName": "Nicholas Saulnier",
      "photoUrl": "https://lh3.googleusercontent.com/a-/AOh14GjBzaoSuUs2qp4-Wr1BcTklxfosWn89g7Tbw1j8=s64",
      "userId": "12122203451340966147"
     },
     "user_tz": 480
    },
    "id": "HHVuUiwfW4u2",
    "outputId": "33884ced-e435-469c-bff2-5cc7cd7289a2"
   },
   "outputs": [
    {
     "data": {
      "image/png": "[encoded data removed]",
      "text/plain": [
       "<Figure size 432x288 with 1 Axes>"
      ]
     },
     "metadata": {
      "needs_background": "light"
     },
     "output_type": "display_data"
    },
    {
     "data": {
      "image/png": "[encoded data removed]",
      "text/plain": [
       "<Figure size 432x288 with 1 Axes>"
      ]
     },
     "metadata": {
      "needs_background": "light"
     },
     "output_type": "display_data"
    }
   ],
   "source": [
    "plotTrainingAndValidationLoss(RNN_model_2_history)\n",
    "plotTrainingAndValidationAccuracy(RNN_model_2_history, 'acc')"
   ]
  },
  {
   "cell_type": "markdown",
   "metadata": {
    "id": "l7dYz32yqZli"
   },
   "source": [
    "Takeaways: adding a dropout value of 0.2 increased the accuracy scores from around 0.4 to around 0.5. There are still some spikes in the validation accuracy / loss values, and I'm not sure why."
   ]
  },
  {
   "cell_type": "code",
   "execution_count": 67,
   "metadata": {
    "executionInfo": {
     "elapsed": 710,
     "status": "ok",
     "timestamp": 1637533301705,
     "user": {
      "displayName": "Nicholas Saulnier",
      "photoUrl": "https://lh3.googleusercontent.com/a-/AOh14GjBzaoSuUs2qp4-Wr1BcTklxfosWn89g7Tbw1j8=s64",
      "userId": "12122203451340966147"
     },
     "user_tz": 480
    },
    "id": "HKUVh0A2ZBht"
   },
   "outputs": [],
   "source": [
    "# Create the third RNN model for classifying the Reuter's data\n",
    "# The third model has four LSTM layers. The first three layers have 50 nodes,\n",
    "# and the last LSTM layer has 40 nodes. Each LSTM layer has a recurrent dropout of 0.2.\n",
    "RNN_model_3 = Sequential()\n",
    "RNN_model_3.add(Embedding(max_features, 46))\n",
    "RNN_model_3.add(LSTM(50, recurrent_dropout=0.2, return_sequences=True))\n",
    "RNN_model_3.add(LSTM(50, recurrent_dropout=0.2, return_sequences=True))\n",
    "RNN_model_3.add(LSTM(50, recurrent_dropout=0.2, return_sequences=True))\n",
    "RNN_model_3.add(LSTM(40, recurrent_dropout=0.2))\n",
    "RNN_model_3.add(Dense(46, activation='softmax'))\n",
    "\n",
    "RNN_model_3.compile(optimizer='rmsprop',\n",
    "                    loss='categorical_crossentropy',\n",
    "                    metrics=['acc'])"
   ]
  },
  {
   "cell_type": "code",
   "execution_count": 68,
   "metadata": {
    "colab": {
     "base_uri": "https://localhost:8080/"
    },
    "executionInfo": {
     "elapsed": 1178342,
     "status": "ok",
     "timestamp": 1637535352868,
     "user": {
      "displayName": "Nicholas Saulnier",
      "photoUrl": "https://lh3.googleusercontent.com/a-/AOh14GjBzaoSuUs2qp4-Wr1BcTklxfosWn89g7Tbw1j8=s64",
      "userId": "12122203451340966147"
     },
     "user_tz": 480
    },
    "id": "cMpA8rl07UYy",
    "outputId": "94b16e7f-576e-40c0-a98f-096a73822b43"
   },
   "outputs": [
    {
     "name": "stdout",
     "output_type": "stream",
     "text": [
      "Epoch 1/64\n",
      "12/12 [==============================] - 43s 3s/step - loss: 3.0797 - acc: 0.3080 - val_loss: 2.5805 - val_acc: 0.3565\n",
      "Epoch 2/64\n",
      "12/12 [==============================] - 32s 3s/step - loss: 2.4859 - acc: 0.3432 - val_loss: 2.4792 - val_acc: 0.3558\n",
      "Epoch 3/64\n",
      "12/12 [==============================] - 32s 3s/step - loss: 2.3593 - acc: 0.3548 - val_loss: 2.3173 - val_acc: 0.3808\n",
      "Epoch 4/64\n",
      "12/12 [==============================] - 32s 3s/step - loss: 2.3307 - acc: 0.3332 - val_loss: 2.1969 - val_acc: 0.3562\n",
      "Epoch 5/64\n",
      "12/12 [==============================] - 32s 3s/step - loss: 2.0714 - acc: 0.3683 - val_loss: 2.1645 - val_acc: 0.3572\n",
      "Epoch 6/64\n",
      "12/12 [==============================] - 32s 3s/step - loss: 2.0260 - acc: 0.3831 - val_loss: 2.0010 - val_acc: 0.3909\n",
      "Epoch 7/64\n",
      "12/12 [==============================] - 32s 3s/step - loss: 1.9908 - acc: 0.3931 - val_loss: 2.0457 - val_acc: 0.4020\n",
      "Epoch 8/64\n",
      "12/12 [==============================] - 32s 3s/step - loss: 1.9854 - acc: 0.4009 - val_loss: 1.9828 - val_acc: 0.4017\n",
      "Epoch 9/64\n",
      "12/12 [==============================] - 32s 3s/step - loss: 1.9665 - acc: 0.3995 - val_loss: 2.1271 - val_acc: 0.3970\n",
      "Epoch 10/64\n",
      "12/12 [==============================] - 32s 3s/step - loss: 2.0840 - acc: 0.3931 - val_loss: 2.1017 - val_acc: 0.3963\n",
      "Epoch 11/64\n",
      "12/12 [==============================] - 32s 3s/step - loss: 2.1826 - acc: 0.3701 - val_loss: 2.4097 - val_acc: 0.3585\n",
      "Epoch 12/64\n",
      "12/12 [==============================] - 32s 3s/step - loss: 2.2700 - acc: 0.3653 - val_loss: 2.0602 - val_acc: 0.4007\n",
      "Epoch 13/64\n",
      "12/12 [==============================] - 32s 3s/step - loss: 1.9801 - acc: 0.3907 - val_loss: 1.9540 - val_acc: 0.4435\n",
      "Epoch 14/64\n",
      "12/12 [==============================] - 32s 3s/step - loss: 1.9277 - acc: 0.4044 - val_loss: 1.9702 - val_acc: 0.3960\n",
      "Epoch 15/64\n",
      "12/12 [==============================] - 32s 3s/step - loss: 1.9270 - acc: 0.4044 - val_loss: 2.0023 - val_acc: 0.3892\n",
      "Epoch 16/64\n",
      "12/12 [==============================] - 32s 3s/step - loss: 1.9067 - acc: 0.4092 - val_loss: 1.9669 - val_acc: 0.4088\n",
      "Epoch 17/64\n",
      "12/12 [==============================] - 32s 3s/step - loss: 1.8815 - acc: 0.4078 - val_loss: 2.0140 - val_acc: 0.3973\n",
      "Epoch 18/64\n",
      "12/12 [==============================] - 32s 3s/step - loss: 1.9537 - acc: 0.3974 - val_loss: 2.0204 - val_acc: 0.4796\n",
      "Epoch 19/64\n",
      "12/12 [==============================] - 32s 3s/step - loss: 1.8644 - acc: 0.4258 - val_loss: 1.9970 - val_acc: 0.4074\n",
      "Epoch 20/64\n",
      "12/12 [==============================] - 32s 3s/step - loss: 1.8423 - acc: 0.4521 - val_loss: 1.8430 - val_acc: 0.5295\n",
      "Epoch 21/64\n",
      "12/12 [==============================] - 32s 3s/step - loss: 1.7629 - acc: 0.5049 - val_loss: 1.7817 - val_acc: 0.5268\n",
      "Epoch 22/64\n",
      "12/12 [==============================] - 32s 3s/step - loss: 1.7340 - acc: 0.5398 - val_loss: 1.9940 - val_acc: 0.4766\n",
      "Epoch 23/64\n",
      "12/12 [==============================] - 32s 3s/step - loss: 1.7279 - acc: 0.5383 - val_loss: 1.7687 - val_acc: 0.5393\n",
      "Epoch 24/64\n",
      "12/12 [==============================] - 32s 3s/step - loss: 1.7369 - acc: 0.5293 - val_loss: 2.1378 - val_acc: 0.4405\n",
      "Epoch 25/64\n",
      "12/12 [==============================] - 32s 3s/step - loss: 1.7072 - acc: 0.5498 - val_loss: 1.7786 - val_acc: 0.4793\n",
      "Epoch 26/64\n",
      "12/12 [==============================] - 32s 3s/step - loss: 1.6538 - acc: 0.5621 - val_loss: 1.7466 - val_acc: 0.5393\n",
      "Epoch 27/64\n",
      "12/12 [==============================] - 32s 3s/step - loss: 1.6670 - acc: 0.5583 - val_loss: 1.7374 - val_acc: 0.5406\n",
      "Epoch 28/64\n",
      "12/12 [==============================] - 32s 3s/step - loss: 1.6252 - acc: 0.5835 - val_loss: 1.7473 - val_acc: 0.5545\n",
      "Epoch 29/64\n",
      "12/12 [==============================] - 32s 3s/step - loss: 1.5558 - acc: 0.6035 - val_loss: 1.7343 - val_acc: 0.5491\n",
      "Epoch 30/64\n",
      "12/12 [==============================] - 32s 3s/step - loss: 1.5126 - acc: 0.6151 - val_loss: 1.7269 - val_acc: 0.5629\n",
      "Epoch 31/64\n",
      "12/12 [==============================] - 32s 3s/step - loss: 1.5409 - acc: 0.6066 - val_loss: 1.7182 - val_acc: 0.5609\n",
      "Epoch 32/64\n",
      "12/12 [==============================] - 32s 3s/step - loss: 1.4911 - acc: 0.6237 - val_loss: 1.7729 - val_acc: 0.5565\n",
      "Epoch 33/64\n",
      "12/12 [==============================] - 32s 3s/step - loss: 1.5100 - acc: 0.6096 - val_loss: 1.7782 - val_acc: 0.5346\n",
      "Epoch 34/64\n",
      "12/12 [==============================] - 32s 3s/step - loss: 1.4818 - acc: 0.6242 - val_loss: 1.7144 - val_acc: 0.5609\n",
      "Epoch 35/64\n",
      "12/12 [==============================] - 32s 3s/step - loss: 1.5176 - acc: 0.6063 - val_loss: 1.7822 - val_acc: 0.5420\n",
      "Epoch 36/64\n",
      "12/12 [==============================] - 32s 3s/step - loss: 1.4309 - acc: 0.6282 - val_loss: 1.7480 - val_acc: 0.5568\n",
      "Epoch 37/64\n",
      "12/12 [==============================] - 32s 3s/step - loss: 1.4657 - acc: 0.6194 - val_loss: 1.8534 - val_acc: 0.5518\n",
      "Epoch 38/64\n",
      "12/12 [==============================] - 32s 3s/step - loss: 1.4558 - acc: 0.6261 - val_loss: 1.8722 - val_acc: 0.4914\n",
      "Epoch 39/64\n",
      "12/12 [==============================] - 31s 3s/step - loss: 1.4690 - acc: 0.6241 - val_loss: 1.7726 - val_acc: 0.5454\n",
      "Epoch 40/64\n",
      "12/12 [==============================] - 32s 3s/step - loss: 1.4603 - acc: 0.6163 - val_loss: 1.7346 - val_acc: 0.5578\n",
      "Epoch 41/64\n",
      "12/12 [==============================] - 32s 3s/step - loss: 1.4278 - acc: 0.6442 - val_loss: 1.7804 - val_acc: 0.5578\n",
      "Epoch 42/64\n",
      "12/12 [==============================] - 32s 3s/step - loss: 1.4654 - acc: 0.6335 - val_loss: 1.7508 - val_acc: 0.5548\n",
      "Epoch 43/64\n",
      "12/12 [==============================] - 32s 3s/step - loss: 1.4315 - acc: 0.6407 - val_loss: 1.7601 - val_acc: 0.5619\n",
      "Epoch 44/64\n",
      "12/12 [==============================] - 32s 3s/step - loss: 1.4691 - acc: 0.6327 - val_loss: 1.7601 - val_acc: 0.5629\n",
      "Epoch 45/64\n",
      "12/12 [==============================] - 32s 3s/step - loss: 1.3976 - acc: 0.6493 - val_loss: 1.8570 - val_acc: 0.5231\n",
      "Epoch 46/64\n",
      "12/12 [==============================] - 32s 3s/step - loss: 1.5130 - acc: 0.6219 - val_loss: 1.7544 - val_acc: 0.5619\n",
      "Epoch 47/64\n",
      "12/12 [==============================] - 32s 3s/step - loss: 1.3880 - acc: 0.6568 - val_loss: 1.7252 - val_acc: 0.5592\n",
      "Epoch 48/64\n",
      "12/12 [==============================] - 32s 3s/step - loss: 1.4570 - acc: 0.6324 - val_loss: 1.7365 - val_acc: 0.5686\n",
      "Epoch 49/64\n",
      "12/12 [==============================] - 32s 3s/step - loss: 1.3809 - acc: 0.6546 - val_loss: 2.0407 - val_acc: 0.4954\n",
      "Epoch 50/64\n",
      "12/12 [==============================] - 32s 3s/step - loss: 1.4251 - acc: 0.6380 - val_loss: 1.7452 - val_acc: 0.5629\n",
      "Epoch 51/64\n",
      "12/12 [==============================] - 32s 3s/step - loss: 1.3436 - acc: 0.6546 - val_loss: 1.8219 - val_acc: 0.5629\n",
      "Epoch 52/64\n",
      "12/12 [==============================] - 32s 3s/step - loss: 1.3827 - acc: 0.6412 - val_loss: 1.7649 - val_acc: 0.5636\n",
      "Epoch 53/64\n",
      "12/12 [==============================] - 32s 3s/step - loss: 1.3523 - acc: 0.6525 - val_loss: 1.7150 - val_acc: 0.5656\n",
      "Epoch 54/64\n",
      "12/12 [==============================] - 32s 3s/step - loss: 1.3763 - acc: 0.6428 - val_loss: 1.7414 - val_acc: 0.5669\n",
      "Epoch 55/64\n",
      "12/12 [==============================] - 32s 3s/step - loss: 1.3185 - acc: 0.6595 - val_loss: 1.7336 - val_acc: 0.5680\n",
      "Epoch 56/64\n",
      "12/12 [==============================] - 32s 3s/step - loss: 1.3299 - acc: 0.6573 - val_loss: 1.7123 - val_acc: 0.5666\n",
      "Epoch 57/64\n",
      "12/12 [==============================] - 32s 3s/step - loss: 1.3091 - acc: 0.6550 - val_loss: 1.7125 - val_acc: 0.5622\n",
      "Epoch 58/64\n",
      "12/12 [==============================] - 32s 3s/step - loss: 1.4074 - acc: 0.6317 - val_loss: 1.7450 - val_acc: 0.5612\n",
      "Epoch 59/64\n",
      "12/12 [==============================] - 32s 3s/step - loss: 1.3024 - acc: 0.6553 - val_loss: 1.7158 - val_acc: 0.5656\n",
      "Epoch 60/64\n",
      "12/12 [==============================] - 32s 3s/step - loss: 1.2861 - acc: 0.6593 - val_loss: 1.7701 - val_acc: 0.5616\n",
      "Epoch 61/64\n",
      "12/12 [==============================] - 32s 3s/step - loss: 1.3197 - acc: 0.6505 - val_loss: 1.7249 - val_acc: 0.5572\n",
      "Epoch 62/64\n",
      "12/12 [==============================] - 32s 3s/step - loss: 1.2945 - acc: 0.6565 - val_loss: 1.7879 - val_acc: 0.5423\n",
      "Epoch 63/64\n",
      "12/12 [==============================] - 32s 3s/step - loss: 1.3223 - acc: 0.6541 - val_loss: 1.7136 - val_acc: 0.5619\n",
      "Epoch 64/64\n",
      "12/12 [==============================] - 32s 3s/step - loss: 1.2682 - acc: 0.6641 - val_loss: 1.8231 - val_acc: 0.5413\n"
     ]
    }
   ],
   "source": [
    "# Train the third RNN model\n",
    "RNN_model_3_history = RNN_model_3.fit(partial_X_RNN_train,\n",
    "                                      partial_y_RNN_train,\n",
    "                                      epochs=64,\n",
    "                                      batch_size=512,\n",
    "                                      validation_data=(x_RNN_val, y_RNN_val))"
   ]
  },
  {
   "cell_type": "code",
   "execution_count": 69,
   "metadata": {
    "colab": {
     "base_uri": "https://localhost:8080/",
     "height": 573
    },
    "executionInfo": {
     "elapsed": 5,
     "status": "ok",
     "timestamp": 1637535352869,
     "user": {
      "displayName": "Nicholas Saulnier",
      "photoUrl": "https://lh3.googleusercontent.com/a-/AOh14GjBzaoSuUs2qp4-Wr1BcTklxfosWn89g7Tbw1j8=s64",
      "userId": "12122203451340966147"
     },
     "user_tz": 480
    },
    "id": "OMylCc4UXAF8",
    "outputId": "08c750c0-a449-42a1-a567-2012741fc8d3"
   },
   "outputs": [
    {
     "data": {
      "image/png": "[encoded data removed]",
      "text/plain": [
       "<Figure size 432x288 with 1 Axes>"
      ]
     },
     "metadata": {
      "needs_background": "light"
     },
     "output_type": "display_data"
    },
    {
     "data": {
      "image/png": "[encoded data removed]",
      "text/plain": [
       "<Figure size 432x288 with 1 Axes>"
      ]
     },
     "metadata": {
      "needs_background": "light"
     },
     "output_type": "display_data"
    }
   ],
   "source": [
    "plotTrainingAndValidationLoss(RNN_model_3_history)\n",
    "plotTrainingAndValidationAccuracy(RNN_model_3_history, 'acc')"
   ]
  },
  {
   "cell_type": "markdown",
   "metadata": {
    "id": "3MP838QGqtek"
   },
   "source": [
    "Takeaways: increasing the number of layers from one to four seems to have slightly increased the accuracy of the model. The model is also learning faster. There are still some spikes in the validation metrics."
   ]
  },
  {
   "cell_type": "code",
   "execution_count": 70,
   "metadata": {
    "executionInfo": {
     "elapsed": 699,
     "status": "ok",
     "timestamp": 1637535353564,
     "user": {
      "displayName": "Nicholas Saulnier",
      "photoUrl": "https://lh3.googleusercontent.com/a-/AOh14GjBzaoSuUs2qp4-Wr1BcTklxfosWn89g7Tbw1j8=s64",
      "userId": "12122203451340966147"
     },
     "user_tz": 480
    },
    "id": "9QWaNhgBXB-m"
   },
   "outputs": [],
   "source": [
    "# Create the fourth RNN model for classifying the Reuter's data\n",
    "# The fourth model also has four LSTM layers. All layers have 80 nodes.\n",
    "# Each LSTM layer has a recurrent dropout of 0.2.\n",
    "RNN_model_4 = Sequential()\n",
    "RNN_model_4.add(Embedding(max_features, 46))\n",
    "RNN_model_4.add(LSTM(80, recurrent_dropout=0.2, return_sequences=True))\n",
    "RNN_model_4.add(LSTM(80, recurrent_dropout=0.2, return_sequences=True))\n",
    "RNN_model_4.add(LSTM(80, recurrent_dropout=0.2, return_sequences=True))\n",
    "RNN_model_4.add(LSTM(80, recurrent_dropout=0.2))\n",
    "RNN_model_4.add(Dense(46, activation='softmax'))\n",
    "\n",
    "RNN_model_4.compile(optimizer='rmsprop',\n",
    "                    loss='categorical_crossentropy',\n",
    "                    metrics=['acc'])"
   ]
  },
  {
   "cell_type": "code",
   "execution_count": 71,
   "metadata": {
    "colab": {
     "base_uri": "https://localhost:8080/"
    },
    "executionInfo": {
     "elapsed": 3416250,
     "status": "ok",
     "timestamp": 1637538861350,
     "user": {
      "displayName": "Nicholas Saulnier",
      "photoUrl": "https://lh3.googleusercontent.com/a-/AOh14GjBzaoSuUs2qp4-Wr1BcTklxfosWn89g7Tbw1j8=s64",
      "userId": "12122203451340966147"
     },
     "user_tz": 480
    },
    "id": "xPSkAl7ZXaI9",
    "outputId": "e9ac8242-af55-49d7-8781-50d23e99c358"
   },
   "outputs": [
    {
     "name": "stdout",
     "output_type": "stream",
     "text": [
      "Epoch 1/64\n",
      "12/12 [==============================] - 64s 5s/step - loss: 2.7809 - acc: 0.3214 - val_loss: 2.4186 - val_acc: 0.3558\n",
      "Epoch 2/64\n",
      "12/12 [==============================] - 55s 5s/step - loss: 2.3725 - acc: 0.3493 - val_loss: 2.3846 - val_acc: 0.3734\n",
      "Epoch 3/64\n",
      "12/12 [==============================] - 54s 5s/step - loss: 2.3324 - acc: 0.3606 - val_loss: 2.3059 - val_acc: 0.3626\n",
      "Epoch 4/64\n",
      "12/12 [==============================] - 55s 5s/step - loss: 2.3177 - acc: 0.3552 - val_loss: 2.4627 - val_acc: 0.3558\n",
      "Epoch 5/64\n",
      "12/12 [==============================] - 55s 5s/step - loss: 2.2809 - acc: 0.3638 - val_loss: 2.2796 - val_acc: 0.3821\n",
      "Epoch 6/64\n",
      "12/12 [==============================] - 54s 5s/step - loss: 2.3107 - acc: 0.3399 - val_loss: 2.0625 - val_acc: 0.3548\n",
      "Epoch 7/64\n",
      "12/12 [==============================] - 54s 5s/step - loss: 2.0745 - acc: 0.3680 - val_loss: 2.0347 - val_acc: 0.4013\n",
      "Epoch 8/64\n",
      "12/12 [==============================] - 54s 5s/step - loss: 1.9708 - acc: 0.3965 - val_loss: 1.9484 - val_acc: 0.4027\n",
      "Epoch 9/64\n",
      "12/12 [==============================] - 54s 5s/step - loss: 1.9228 - acc: 0.3972 - val_loss: 1.9664 - val_acc: 0.3970\n",
      "Epoch 10/64\n",
      "12/12 [==============================] - 54s 5s/step - loss: 2.1871 - acc: 0.3686 - val_loss: 2.0829 - val_acc: 0.3953\n",
      "Epoch 11/64\n",
      "12/12 [==============================] - 54s 5s/step - loss: 2.0090 - acc: 0.3924 - val_loss: 2.0545 - val_acc: 0.3781\n",
      "Epoch 12/64\n",
      "12/12 [==============================] - 54s 5s/step - loss: 2.1623 - acc: 0.3497 - val_loss: 2.1439 - val_acc: 0.3835\n",
      "Epoch 13/64\n",
      "12/12 [==============================] - 54s 5s/step - loss: 2.1697 - acc: 0.3572 - val_loss: 1.9846 - val_acc: 0.4128\n",
      "Epoch 14/64\n",
      "12/12 [==============================] - 54s 5s/step - loss: 1.9090 - acc: 0.4072 - val_loss: 1.9427 - val_acc: 0.4061\n",
      "Epoch 15/64\n",
      "12/12 [==============================] - 54s 5s/step - loss: 2.0743 - acc: 0.3773 - val_loss: 2.2840 - val_acc: 0.3720\n",
      "Epoch 16/64\n",
      "12/12 [==============================] - 54s 5s/step - loss: 2.0516 - acc: 0.3989 - val_loss: 1.9316 - val_acc: 0.4482\n",
      "Epoch 17/64\n",
      "12/12 [==============================] - 54s 5s/step - loss: 1.9242 - acc: 0.4080 - val_loss: 1.9568 - val_acc: 0.4030\n",
      "Epoch 18/64\n",
      "12/12 [==============================] - 54s 5s/step - loss: 1.9179 - acc: 0.4068 - val_loss: 2.1892 - val_acc: 0.2695\n",
      "Epoch 19/64\n",
      "12/12 [==============================] - 54s 5s/step - loss: 1.8781 - acc: 0.4019 - val_loss: 1.9407 - val_acc: 0.4857\n",
      "Epoch 20/64\n",
      "12/12 [==============================] - 54s 5s/step - loss: 1.9169 - acc: 0.4293 - val_loss: 2.7972 - val_acc: 0.2897\n",
      "Epoch 21/64\n",
      "12/12 [==============================] - 55s 5s/step - loss: 1.9008 - acc: 0.4501 - val_loss: 1.8506 - val_acc: 0.5052\n",
      "Epoch 22/64\n",
      "12/12 [==============================] - 54s 5s/step - loss: 1.7757 - acc: 0.5027 - val_loss: 1.8731 - val_acc: 0.4850\n",
      "Epoch 23/64\n",
      "12/12 [==============================] - 54s 5s/step - loss: 1.7873 - acc: 0.5006 - val_loss: 1.8468 - val_acc: 0.5241\n",
      "Epoch 24/64\n",
      "12/12 [==============================] - 54s 5s/step - loss: 1.9332 - acc: 0.5017 - val_loss: 1.9577 - val_acc: 0.5167\n",
      "Epoch 25/64\n",
      "12/12 [==============================] - 55s 5s/step - loss: 1.8449 - acc: 0.5293 - val_loss: 1.8624 - val_acc: 0.5234\n",
      "Epoch 26/64\n",
      "12/12 [==============================] - 54s 5s/step - loss: 1.8826 - acc: 0.5112 - val_loss: 1.9297 - val_acc: 0.5002\n",
      "Epoch 27/64\n",
      "12/12 [==============================] - 54s 5s/step - loss: 1.8605 - acc: 0.5338 - val_loss: 1.8927 - val_acc: 0.5373\n",
      "Epoch 28/64\n",
      "12/12 [==============================] - 54s 5s/step - loss: 1.7976 - acc: 0.5571 - val_loss: 1.9937 - val_acc: 0.5089\n",
      "Epoch 29/64\n",
      "12/12 [==============================] - 55s 5s/step - loss: 1.7785 - acc: 0.5483 - val_loss: 1.8142 - val_acc: 0.5245\n",
      "Epoch 30/64\n",
      "12/12 [==============================] - 55s 5s/step - loss: 1.6891 - acc: 0.5710 - val_loss: 1.9541 - val_acc: 0.4192\n",
      "Epoch 31/64\n",
      "12/12 [==============================] - 56s 5s/step - loss: 1.7216 - acc: 0.5541 - val_loss: 1.7974 - val_acc: 0.5427\n",
      "Epoch 32/64\n",
      "12/12 [==============================] - 56s 5s/step - loss: 1.6711 - acc: 0.5762 - val_loss: 1.8219 - val_acc: 0.5467\n",
      "Epoch 33/64\n",
      "12/12 [==============================] - 55s 5s/step - loss: 1.7471 - acc: 0.5686 - val_loss: 1.8355 - val_acc: 0.5538\n",
      "Epoch 34/64\n",
      "12/12 [==============================] - 55s 5s/step - loss: 1.6233 - acc: 0.5993 - val_loss: 1.8306 - val_acc: 0.5511\n",
      "Epoch 35/64\n",
      "12/12 [==============================] - 56s 5s/step - loss: 1.6087 - acc: 0.5981 - val_loss: 1.8424 - val_acc: 0.5363\n",
      "Epoch 36/64\n",
      "12/12 [==============================] - 55s 5s/step - loss: 1.6273 - acc: 0.5860 - val_loss: 1.8243 - val_acc: 0.5460\n",
      "Epoch 37/64\n",
      "12/12 [==============================] - 55s 5s/step - loss: 1.5998 - acc: 0.5925 - val_loss: 1.8066 - val_acc: 0.5228\n",
      "Epoch 38/64\n",
      "12/12 [==============================] - 56s 5s/step - loss: 1.5978 - acc: 0.5923 - val_loss: 1.8359 - val_acc: 0.5454\n",
      "Epoch 39/64\n",
      "12/12 [==============================] - 55s 5s/step - loss: 1.5611 - acc: 0.6035 - val_loss: 1.7852 - val_acc: 0.5568\n",
      "Epoch 40/64\n",
      "12/12 [==============================] - 55s 5s/step - loss: 1.5249 - acc: 0.6222 - val_loss: 1.8713 - val_acc: 0.5433\n",
      "Epoch 41/64\n",
      "12/12 [==============================] - 55s 5s/step - loss: 1.5286 - acc: 0.6166 - val_loss: 1.7665 - val_acc: 0.5551\n",
      "Epoch 42/64\n",
      "12/12 [==============================] - 55s 5s/step - loss: 1.5250 - acc: 0.6129 - val_loss: 1.8721 - val_acc: 0.5295\n",
      "Epoch 43/64\n",
      "12/12 [==============================] - 55s 5s/step - loss: 1.4866 - acc: 0.6279 - val_loss: 1.8525 - val_acc: 0.5342\n",
      "Epoch 44/64\n",
      "12/12 [==============================] - 55s 5s/step - loss: 1.4559 - acc: 0.6357 - val_loss: 1.7859 - val_acc: 0.5518\n",
      "Epoch 45/64\n",
      "12/12 [==============================] - 55s 5s/step - loss: 1.5371 - acc: 0.6119 - val_loss: 1.8705 - val_acc: 0.5177\n",
      "Epoch 46/64\n",
      "12/12 [==============================] - 55s 5s/step - loss: 1.5261 - acc: 0.6111 - val_loss: 1.8840 - val_acc: 0.5295\n",
      "Epoch 47/64\n",
      "12/12 [==============================] - 55s 5s/step - loss: 1.5328 - acc: 0.6299 - val_loss: 1.8508 - val_acc: 0.5393\n",
      "Epoch 48/64\n",
      "12/12 [==============================] - 55s 5s/step - loss: 1.4611 - acc: 0.6370 - val_loss: 1.8097 - val_acc: 0.5484\n",
      "Epoch 49/64\n",
      "12/12 [==============================] - 55s 5s/step - loss: 1.4453 - acc: 0.6340 - val_loss: 1.9002 - val_acc: 0.5150\n",
      "Epoch 50/64\n",
      "12/12 [==============================] - 55s 5s/step - loss: 1.3634 - acc: 0.6605 - val_loss: 2.2351 - val_acc: 0.5008\n",
      "Epoch 51/64\n",
      "12/12 [==============================] - 55s 5s/step - loss: 1.3830 - acc: 0.6576 - val_loss: 1.8707 - val_acc: 0.5379\n",
      "Epoch 52/64\n",
      "12/12 [==============================] - 55s 5s/step - loss: 1.3842 - acc: 0.6625 - val_loss: 1.9658 - val_acc: 0.5049\n",
      "Epoch 53/64\n",
      "12/12 [==============================] - 54s 5s/step - loss: 1.3229 - acc: 0.6723 - val_loss: 1.8460 - val_acc: 0.5551\n",
      "Epoch 54/64\n",
      "12/12 [==============================] - 54s 5s/step - loss: 1.4093 - acc: 0.6458 - val_loss: 1.8100 - val_acc: 0.5454\n",
      "Epoch 55/64\n",
      "12/12 [==============================] - 54s 5s/step - loss: 1.3113 - acc: 0.6671 - val_loss: 1.8191 - val_acc: 0.5568\n",
      "Epoch 56/64\n",
      "12/12 [==============================] - 55s 5s/step - loss: 1.2833 - acc: 0.6777 - val_loss: 2.3039 - val_acc: 0.4563\n",
      "Epoch 57/64\n",
      "12/12 [==============================] - 55s 5s/step - loss: 1.3577 - acc: 0.6586 - val_loss: 1.8658 - val_acc: 0.5541\n",
      "Epoch 58/64\n",
      "12/12 [==============================] - 55s 5s/step - loss: 1.2983 - acc: 0.6754 - val_loss: 1.8296 - val_acc: 0.5518\n",
      "Epoch 59/64\n",
      "12/12 [==============================] - 55s 5s/step - loss: 1.2816 - acc: 0.6817 - val_loss: 1.8114 - val_acc: 0.5589\n",
      "Epoch 60/64\n",
      "12/12 [==============================] - 55s 5s/step - loss: 1.2777 - acc: 0.6744 - val_loss: 1.8352 - val_acc: 0.5447\n",
      "Epoch 61/64\n",
      "12/12 [==============================] - 55s 5s/step - loss: 1.2100 - acc: 0.7005 - val_loss: 1.8201 - val_acc: 0.5535\n",
      "Epoch 62/64\n",
      "12/12 [==============================] - 55s 5s/step - loss: 1.2177 - acc: 0.6934 - val_loss: 1.8407 - val_acc: 0.5538\n",
      "Epoch 63/64\n",
      "12/12 [==============================] - 55s 5s/step - loss: 1.2493 - acc: 0.6871 - val_loss: 1.8464 - val_acc: 0.5582\n",
      "Epoch 64/64\n",
      "12/12 [==============================] - 55s 5s/step - loss: 1.1862 - acc: 0.7003 - val_loss: 1.8496 - val_acc: 0.5497\n"
     ]
    }
   ],
   "source": [
    "# Train the fourth RNN model\n",
    "RNN_model_4_history = RNN_model_4.fit(partial_X_RNN_train,\n",
    "                                      partial_y_RNN_train,\n",
    "                                      epochs=64,\n",
    "                                      batch_size=512,\n",
    "                                      validation_data=(x_RNN_val, y_RNN_val))"
   ]
  },
  {
   "cell_type": "code",
   "execution_count": 72,
   "metadata": {
    "colab": {
     "base_uri": "https://localhost:8080/",
     "height": 573
    },
    "executionInfo": {
     "elapsed": 410,
     "status": "ok",
     "timestamp": 1637538861757,
     "user": {
      "displayName": "Nicholas Saulnier",
      "photoUrl": "https://lh3.googleusercontent.com/a-/AOh14GjBzaoSuUs2qp4-Wr1BcTklxfosWn89g7Tbw1j8=s64",
      "userId": "12122203451340966147"
     },
     "user_tz": 480
    },
    "id": "2_6wvIEtZCMn",
    "outputId": "053560ee-d4b6-4bf7-8740-4aa13b5d11cb"
   },
   "outputs": [
    {
     "data": {
      "image/png": "[encoded data removed]",
      "text/plain": [
       "<Figure size 432x288 with 1 Axes>"
      ]
     },
     "metadata": {
      "needs_background": "light"
     },
     "output_type": "display_data"
    },
    {
     "data": {
      "image/png": "[encoded data removed]",
      "text/plain": [
       "<Figure size 432x288 with 1 Axes>"
      ]
     },
     "metadata": {
      "needs_background": "light"
     },
     "output_type": "display_data"
    }
   ],
   "source": [
    "plotTrainingAndValidationLoss(RNN_model_4_history)\n",
    "plotTrainingAndValidationAccuracy(RNN_model_4_history, 'acc')"
   ]
  },
  {
   "cell_type": "markdown",
   "metadata": {
    "id": "mq2msDbgrHcG"
   },
   "source": [
    "Takeaways: increasing the number of nodes in each LSTM layer from 50 to 80 had little effect on the accuracy and loss values. The spikes in the validation values are still present."
   ]
  },
  {
   "cell_type": "code",
   "execution_count": 80,
   "metadata": {
    "executionInfo": {
     "elapsed": 667,
     "status": "ok",
     "timestamp": 1637540041962,
     "user": {
      "displayName": "Nicholas Saulnier",
      "photoUrl": "https://lh3.googleusercontent.com/a-/AOh14GjBzaoSuUs2qp4-Wr1BcTklxfosWn89g7Tbw1j8=s64",
      "userId": "12122203451340966147"
     },
     "user_tz": 480
    },
    "id": "A9GEOGIKYQl6"
   },
   "outputs": [],
   "source": [
    "# Create the fifth RNN model for classifying the Reuter's data.\n",
    "# The fifth model is the same as the fourth, but it is run with\n",
    "# a smaller batch size (512->48).\n",
    "RNN_model_5 = Sequential()\n",
    "RNN_model_5.add(Embedding(max_features, 46))\n",
    "RNN_model_5.add(LSTM(80, recurrent_dropout=0.2, return_sequences=True))\n",
    "RNN_model_5.add(LSTM(80, recurrent_dropout=0.2, return_sequences=True))\n",
    "RNN_model_5.add(LSTM(80, recurrent_dropout=0.2, return_sequences=True))\n",
    "RNN_model_5.add(LSTM(80, recurrent_dropout=0.2))\n",
    "RNN_model_5.add(Dense(46, activation='softmax'))\n",
    "\n",
    "RNN_model_5.compile(optimizer='rmsprop',\n",
    "                    loss='categorical_crossentropy',\n",
    "                    metrics=['acc'])"
   ]
  },
  {
   "cell_type": "code",
   "execution_count": 81,
   "metadata": {
    "colab": {
     "base_uri": "https://localhost:8080/"
    },
    "executionInfo": {
     "elapsed": 8913001,
     "status": "ok",
     "timestamp": 1637548956230,
     "user": {
      "displayName": "Nicholas Saulnier",
      "photoUrl": "https://lh3.googleusercontent.com/a-/AOh14GjBzaoSuUs2qp4-Wr1BcTklxfosWn89g7Tbw1j8=s64",
      "userId": "12122203451340966147"
     },
     "user_tz": 480
    },
    "id": "xEU8qLaLYuJF",
    "outputId": "c8e749ac-bd03-4933-e4ba-7488491cd325"
   },
   "outputs": [
    {
     "name": "stdout",
     "output_type": "stream",
     "text": [
      "Epoch 1/64\n",
      "126/126 [==============================] - 149s 1s/step - loss: 2.4361 - acc: 0.3364 - val_loss: 2.5260 - val_acc: 0.3575\n",
      "Epoch 2/64\n",
      "126/126 [==============================] - 139s 1s/step - loss: 2.0882 - acc: 0.3851 - val_loss: 1.9880 - val_acc: 0.4017\n",
      "Epoch 3/64\n",
      "126/126 [==============================] - 137s 1s/step - loss: 2.0756 - acc: 0.3837 - val_loss: 2.1236 - val_acc: 0.3990\n",
      "Epoch 4/64\n",
      "126/126 [==============================] - 136s 1s/step - loss: 1.9892 - acc: 0.4585 - val_loss: 1.8989 - val_acc: 0.4823\n",
      "Epoch 5/64\n",
      "126/126 [==============================] - 137s 1s/step - loss: 1.8370 - acc: 0.5270 - val_loss: 1.7598 - val_acc: 0.5538\n",
      "Epoch 6/64\n",
      "126/126 [==============================] - 136s 1s/step - loss: 1.7575 - acc: 0.5654 - val_loss: 1.7993 - val_acc: 0.5140\n",
      "Epoch 7/64\n",
      "126/126 [==============================] - 138s 1s/step - loss: 1.8121 - acc: 0.5205 - val_loss: 1.8102 - val_acc: 0.5201\n",
      "Epoch 8/64\n",
      "126/126 [==============================] - 138s 1s/step - loss: 1.7537 - acc: 0.5508 - val_loss: 1.9280 - val_acc: 0.4621\n",
      "Epoch 9/64\n",
      "126/126 [==============================] - 138s 1s/step - loss: 1.7324 - acc: 0.5516 - val_loss: 1.7040 - val_acc: 0.5565\n",
      "Epoch 10/64\n",
      "126/126 [==============================] - 137s 1s/step - loss: 1.6745 - acc: 0.5664 - val_loss: 1.6422 - val_acc: 0.5841\n",
      "Epoch 11/64\n",
      "126/126 [==============================] - 139s 1s/step - loss: 1.6311 - acc: 0.5995 - val_loss: 1.7095 - val_acc: 0.5619\n",
      "Epoch 12/64\n",
      "126/126 [==============================] - 138s 1s/step - loss: 1.6553 - acc: 0.5794 - val_loss: 1.6422 - val_acc: 0.5899\n",
      "Epoch 13/64\n",
      "126/126 [==============================] - 137s 1s/step - loss: 1.6807 - acc: 0.5642 - val_loss: 1.6844 - val_acc: 0.5747\n",
      "Epoch 14/64\n",
      "126/126 [==============================] - 138s 1s/step - loss: 1.6851 - acc: 0.5692 - val_loss: 1.6337 - val_acc: 0.5899\n",
      "Epoch 15/64\n",
      "126/126 [==============================] - 138s 1s/step - loss: 1.5948 - acc: 0.5900 - val_loss: 1.8035 - val_acc: 0.5143\n",
      "Epoch 16/64\n",
      "126/126 [==============================] - 139s 1s/step - loss: 1.5833 - acc: 0.5817 - val_loss: 1.6088 - val_acc: 0.5848\n",
      "Epoch 17/64\n",
      "126/126 [==============================] - 139s 1s/step - loss: 1.5733 - acc: 0.6003 - val_loss: 1.6440 - val_acc: 0.5909\n",
      "Epoch 18/64\n",
      "126/126 [==============================] - 140s 1s/step - loss: 1.5810 - acc: 0.5986 - val_loss: 1.6562 - val_acc: 0.5744\n",
      "Epoch 19/64\n",
      "126/126 [==============================] - 138s 1s/step - loss: 1.5565 - acc: 0.6043 - val_loss: 1.6581 - val_acc: 0.5750\n",
      "Epoch 20/64\n",
      "126/126 [==============================] - 138s 1s/step - loss: 1.4611 - acc: 0.6281 - val_loss: 1.5356 - val_acc: 0.6101\n",
      "Epoch 21/64\n",
      "126/126 [==============================] - 137s 1s/step - loss: 1.5097 - acc: 0.6204 - val_loss: 1.6530 - val_acc: 0.5710\n",
      "Epoch 22/64\n",
      "126/126 [==============================] - 137s 1s/step - loss: 1.4277 - acc: 0.6432 - val_loss: 1.4685 - val_acc: 0.6314\n",
      "Epoch 23/64\n",
      "126/126 [==============================] - 137s 1s/step - loss: 1.3440 - acc: 0.6585 - val_loss: 1.5894 - val_acc: 0.6135\n",
      "Epoch 24/64\n",
      "126/126 [==============================] - 138s 1s/step - loss: 1.4156 - acc: 0.6487 - val_loss: 1.4806 - val_acc: 0.6287\n",
      "Epoch 25/64\n",
      "126/126 [==============================] - 140s 1s/step - loss: 1.3309 - acc: 0.6623 - val_loss: 1.4269 - val_acc: 0.6398\n",
      "Epoch 26/64\n",
      "126/126 [==============================] - 138s 1s/step - loss: 1.2630 - acc: 0.6776 - val_loss: 1.6879 - val_acc: 0.5538\n",
      "Epoch 27/64\n",
      "126/126 [==============================] - 138s 1s/step - loss: 1.2816 - acc: 0.6726 - val_loss: 1.4707 - val_acc: 0.6256\n",
      "Epoch 28/64\n",
      "126/126 [==============================] - 139s 1s/step - loss: 1.2250 - acc: 0.6935 - val_loss: 1.3872 - val_acc: 0.6506\n",
      "Epoch 29/64\n",
      "126/126 [==============================] - 140s 1s/step - loss: 1.2621 - acc: 0.6905 - val_loss: 1.4603 - val_acc: 0.6138\n",
      "Epoch 30/64\n",
      "126/126 [==============================] - 140s 1s/step - loss: 1.2091 - acc: 0.6957 - val_loss: 1.3834 - val_acc: 0.6543\n",
      "Epoch 31/64\n",
      "126/126 [==============================] - 138s 1s/step - loss: 1.1421 - acc: 0.7201 - val_loss: 1.4273 - val_acc: 0.6482\n",
      "Epoch 32/64\n",
      "126/126 [==============================] - 138s 1s/step - loss: 1.1188 - acc: 0.7233 - val_loss: 1.4393 - val_acc: 0.6540\n",
      "Epoch 33/64\n",
      "126/126 [==============================] - 139s 1s/step - loss: 1.1005 - acc: 0.7291 - val_loss: 1.3628 - val_acc: 0.6732\n",
      "Epoch 34/64\n",
      "126/126 [==============================] - 138s 1s/step - loss: 1.0620 - acc: 0.7382 - val_loss: 1.3944 - val_acc: 0.6523\n",
      "Epoch 35/64\n",
      "126/126 [==============================] - 138s 1s/step - loss: 1.0233 - acc: 0.7452 - val_loss: 1.3641 - val_acc: 0.6702\n",
      "Epoch 36/64\n",
      "126/126 [==============================] - 137s 1s/step - loss: 1.0169 - acc: 0.7490 - val_loss: 1.5461 - val_acc: 0.6438\n",
      "Epoch 37/64\n",
      "126/126 [==============================] - 136s 1s/step - loss: 0.9878 - acc: 0.7549 - val_loss: 1.3473 - val_acc: 0.6725\n",
      "Epoch 38/64\n",
      "126/126 [==============================] - 136s 1s/step - loss: 0.9821 - acc: 0.7580 - val_loss: 1.3818 - val_acc: 0.6698\n",
      "Epoch 39/64\n",
      "126/126 [==============================] - 136s 1s/step - loss: 0.9500 - acc: 0.7625 - val_loss: 1.5200 - val_acc: 0.6391\n",
      "Epoch 40/64\n",
      "126/126 [==============================] - 136s 1s/step - loss: 0.9320 - acc: 0.7642 - val_loss: 1.4142 - val_acc: 0.6752\n",
      "Epoch 41/64\n",
      "126/126 [==============================] - 136s 1s/step - loss: 0.9151 - acc: 0.7708 - val_loss: 1.3901 - val_acc: 0.6627\n",
      "Epoch 42/64\n",
      "126/126 [==============================] - 136s 1s/step - loss: 0.8795 - acc: 0.7765 - val_loss: 1.3898 - val_acc: 0.6607\n",
      "Epoch 43/64\n",
      "126/126 [==============================] - 137s 1s/step - loss: 0.8650 - acc: 0.7816 - val_loss: 1.3623 - val_acc: 0.6826\n",
      "Epoch 44/64\n",
      "126/126 [==============================] - 138s 1s/step - loss: 0.8554 - acc: 0.7853 - val_loss: 1.4841 - val_acc: 0.6509\n",
      "Epoch 45/64\n",
      "126/126 [==============================] - 137s 1s/step - loss: 0.8486 - acc: 0.7869 - val_loss: 1.3837 - val_acc: 0.6806\n",
      "Epoch 46/64\n",
      "126/126 [==============================] - 137s 1s/step - loss: 0.8099 - acc: 0.7956 - val_loss: 1.4067 - val_acc: 0.6772\n",
      "Epoch 47/64\n",
      "126/126 [==============================] - 137s 1s/step - loss: 0.8071 - acc: 0.7986 - val_loss: 1.3906 - val_acc: 0.6661\n",
      "Epoch 48/64\n",
      "126/126 [==============================] - 137s 1s/step - loss: 0.7892 - acc: 0.7994 - val_loss: 1.4441 - val_acc: 0.6604\n",
      "Epoch 49/64\n",
      "126/126 [==============================] - 138s 1s/step - loss: 0.7819 - acc: 0.8004 - val_loss: 1.3970 - val_acc: 0.6799\n",
      "Epoch 50/64\n",
      "126/126 [==============================] - 138s 1s/step - loss: 0.7617 - acc: 0.8090 - val_loss: 1.4148 - val_acc: 0.6708\n",
      "Epoch 51/64\n",
      "126/126 [==============================] - 140s 1s/step - loss: 0.7306 - acc: 0.8142 - val_loss: 1.4459 - val_acc: 0.6651\n",
      "Epoch 52/64\n",
      "126/126 [==============================] - 140s 1s/step - loss: 0.7029 - acc: 0.8233 - val_loss: 1.4747 - val_acc: 0.6556\n",
      "Epoch 53/64\n",
      "126/126 [==============================] - 141s 1s/step - loss: 0.6967 - acc: 0.8217 - val_loss: 1.4872 - val_acc: 0.6614\n",
      "Epoch 54/64\n",
      "126/126 [==============================] - 139s 1s/step - loss: 0.7081 - acc: 0.8213 - val_loss: 1.4329 - val_acc: 0.6809\n",
      "Epoch 55/64\n",
      "126/126 [==============================] - 140s 1s/step - loss: 0.6852 - acc: 0.8308 - val_loss: 1.5472 - val_acc: 0.6533\n",
      "Epoch 56/64\n",
      "126/126 [==============================] - 138s 1s/step - loss: 0.6692 - acc: 0.8301 - val_loss: 1.4558 - val_acc: 0.6627\n",
      "Epoch 57/64\n",
      "126/126 [==============================] - 138s 1s/step - loss: 0.6538 - acc: 0.8385 - val_loss: 1.4715 - val_acc: 0.6678\n",
      "Epoch 58/64\n",
      "126/126 [==============================] - 140s 1s/step - loss: 0.6331 - acc: 0.8375 - val_loss: 1.5290 - val_acc: 0.6594\n",
      "Epoch 59/64\n",
      "126/126 [==============================] - 141s 1s/step - loss: 0.6194 - acc: 0.8408 - val_loss: 1.4463 - val_acc: 0.6843\n",
      "Epoch 60/64\n",
      "126/126 [==============================] - 140s 1s/step - loss: 0.6270 - acc: 0.8388 - val_loss: 1.4561 - val_acc: 0.6806\n",
      "Epoch 61/64\n",
      "126/126 [==============================] - 143s 1s/step - loss: 0.5828 - acc: 0.8541 - val_loss: 1.4794 - val_acc: 0.6654\n",
      "Epoch 62/64\n",
      "126/126 [==============================] - 143s 1s/step - loss: 0.5886 - acc: 0.8519 - val_loss: 1.4658 - val_acc: 0.6739\n",
      "Epoch 63/64\n",
      "126/126 [==============================] - 142s 1s/step - loss: 0.5943 - acc: 0.8491 - val_loss: 1.5127 - val_acc: 0.6658\n",
      "Epoch 64/64\n",
      "126/126 [==============================] - 140s 1s/step - loss: 0.5608 - acc: 0.8542 - val_loss: 1.4626 - val_acc: 0.6755\n"
     ]
    }
   ],
   "source": [
    "# Train the fifth RNN model\n",
    "RNN_model_5_history = RNN_model_5.fit(partial_X_RNN_train,\n",
    "                                      partial_y_RNN_train,\n",
    "                                      epochs=64,\n",
    "                                      batch_size=48,\n",
    "                                      validation_data=(x_RNN_val, y_RNN_val))"
   ]
  },
  {
   "cell_type": "code",
   "execution_count": 83,
   "metadata": {
    "colab": {
     "base_uri": "https://localhost:8080/",
     "height": 573
    },
    "executionInfo": {
     "elapsed": 478,
     "status": "ok",
     "timestamp": 1637548957835,
     "user": {
      "displayName": "Nicholas Saulnier",
      "photoUrl": "https://lh3.googleusercontent.com/a-/AOh14GjBzaoSuUs2qp4-Wr1BcTklxfosWn89g7Tbw1j8=s64",
      "userId": "12122203451340966147"
     },
     "user_tz": 480
    },
    "id": "kXGIP5piY3UJ",
    "outputId": "aa3db6f4-a8d4-46eb-8d32-41a075670e5e"
   },
   "outputs": [
    {
     "data": {
      "image/png": "[encoded data removed]",
      "text/plain": [
       "<Figure size 432x288 with 1 Axes>"
      ]
     },
     "metadata": {
      "needs_background": "light"
     },
     "output_type": "display_data"
    },
    {
     "data": {
      "image/png": "[encoded data removed]",
      "text/plain": [
       "<Figure size 432x288 with 1 Axes>"
      ]
     },
     "metadata": {
      "needs_background": "light"
     },
     "output_type": "display_data"
    }
   ],
   "source": [
    "plotTrainingAndValidationLoss(RNN_model_5_history)\n",
    "plotTrainingAndValidationAccuracy(RNN_model_5_history, 'acc')"
   ]
  },
  {
   "cell_type": "markdown",
   "metadata": {
    "id": "iJeHSXE0ryES"
   },
   "source": [
    "Takeaways: decreasing the batch size gave the model another jump in performance, but we start to observe a little overfitting after 30 epochs. Decreasing the batch size also smoothed out the validation metric spikes."
   ]
  },
  {
   "cell_type": "code",
   "execution_count": 82,
   "metadata": {
    "executionInfo": {
     "elapsed": 380,
     "status": "ok",
     "timestamp": 1637548957358,
     "user": {
      "displayName": "Nicholas Saulnier",
      "photoUrl": "https://lh3.googleusercontent.com/a-/AOh14GjBzaoSuUs2qp4-Wr1BcTklxfosWn89g7Tbw1j8=s64",
      "userId": "12122203451340966147"
     },
     "user_tz": 480
    },
    "id": "K3O5mG4Yi4rD"
   },
   "outputs": [],
   "source": [
    "# Create a sixth model, which is the same as the first model \n",
    "# with a learning rate of 0.01\n",
    "RNN_model_6 = Sequential()\n",
    "RNN_model_6.add(Embedding(max_features, 46))\n",
    "RNN_model_6.add(LSTM(46))\n",
    "RNN_model_6.add(Dense(46, activation='softmax'))\n",
    "\n",
    "opt = keras.optimizers.rmsprop_v2.RMSProp(learning_rate=0.01)\n",
    "RNN_model_6.compile(optimizer='rmsprop',\n",
    "                    loss='categorical_crossentropy',\n",
    "                    metrics=['acc'])"
   ]
  },
  {
   "cell_type": "code",
   "execution_count": 84,
   "metadata": {
    "colab": {
     "base_uri": "https://localhost:8080/"
    },
    "executionInfo": {
     "elapsed": 263772,
     "status": "ok",
     "timestamp": 1637549221605,
     "user": {
      "displayName": "Nicholas Saulnier",
      "photoUrl": "https://lh3.googleusercontent.com/a-/AOh14GjBzaoSuUs2qp4-Wr1BcTklxfosWn89g7Tbw1j8=s64",
      "userId": "12122203451340966147"
     },
     "user_tz": 480
    },
    "id": "E9V1H9ivfzat",
    "outputId": "ebfabbb4-1889-449c-dfc7-c0dc52152eef"
   },
   "outputs": [
    {
     "name": "stdout",
     "output_type": "stream",
     "text": [
      "Epoch 1/32\n",
      "12/12 [==============================] - 9s 614ms/step - loss: 3.4033 - acc: 0.3198 - val_loss: 2.7884 - val_acc: 0.3558\n",
      "Epoch 2/32\n",
      "12/12 [==============================] - 7s 560ms/step - loss: 2.6690 - acc: 0.3497 - val_loss: 2.5325 - val_acc: 0.3558\n",
      "Epoch 3/32\n",
      "12/12 [==============================] - 7s 557ms/step - loss: 2.4753 - acc: 0.3497 - val_loss: 2.4458 - val_acc: 0.3592\n",
      "Epoch 4/32\n",
      "12/12 [==============================] - 7s 564ms/step - loss: 2.4053 - acc: 0.3563 - val_loss: 2.3963 - val_acc: 0.3558\n",
      "Epoch 5/32\n",
      "12/12 [==============================] - 7s 562ms/step - loss: 2.3698 - acc: 0.3613 - val_loss: 2.3761 - val_acc: 0.3629\n",
      "Epoch 6/32\n",
      "12/12 [==============================] - 7s 563ms/step - loss: 2.3543 - acc: 0.3630 - val_loss: 2.3674 - val_acc: 0.3653\n",
      "Epoch 7/32\n",
      "12/12 [==============================] - 7s 562ms/step - loss: 2.3327 - acc: 0.3636 - val_loss: 2.4241 - val_acc: 0.3700\n",
      "Epoch 8/32\n",
      "12/12 [==============================] - 7s 561ms/step - loss: 2.3249 - acc: 0.3643 - val_loss: 2.3363 - val_acc: 0.3639\n",
      "Epoch 9/32\n",
      "12/12 [==============================] - 7s 566ms/step - loss: 2.2991 - acc: 0.3655 - val_loss: 2.3288 - val_acc: 0.3720\n",
      "Epoch 10/32\n",
      "12/12 [==============================] - 7s 565ms/step - loss: 2.3002 - acc: 0.3705 - val_loss: 2.3577 - val_acc: 0.3555\n",
      "Epoch 11/32\n",
      "12/12 [==============================] - 7s 567ms/step - loss: 2.2850 - acc: 0.3741 - val_loss: 2.3019 - val_acc: 0.3710\n",
      "Epoch 12/32\n",
      "12/12 [==============================] - 7s 557ms/step - loss: 2.2786 - acc: 0.3666 - val_loss: 2.3053 - val_acc: 0.3858\n",
      "Epoch 13/32\n",
      "12/12 [==============================] - 7s 562ms/step - loss: 2.2680 - acc: 0.3706 - val_loss: 2.3841 - val_acc: 0.3761\n",
      "Epoch 14/32\n",
      "12/12 [==============================] - 7s 564ms/step - loss: 2.2311 - acc: 0.3854 - val_loss: 2.1883 - val_acc: 0.4030\n",
      "Epoch 15/32\n",
      "12/12 [==============================] - 7s 564ms/step - loss: 2.2734 - acc: 0.3759 - val_loss: 2.2928 - val_acc: 0.3815\n",
      "Epoch 16/32\n",
      "12/12 [==============================] - 7s 568ms/step - loss: 2.3466 - acc: 0.3583 - val_loss: 2.3963 - val_acc: 0.3558\n",
      "Epoch 17/32\n",
      "12/12 [==============================] - 7s 559ms/step - loss: 2.2718 - acc: 0.3646 - val_loss: 2.1455 - val_acc: 0.3895\n",
      "Epoch 18/32\n",
      "12/12 [==============================] - 7s 566ms/step - loss: 2.0886 - acc: 0.3826 - val_loss: 2.0807 - val_acc: 0.3889\n",
      "Epoch 19/32\n",
      "12/12 [==============================] - 7s 579ms/step - loss: 2.1168 - acc: 0.3791 - val_loss: 2.0796 - val_acc: 0.4078\n",
      "Epoch 20/32\n",
      "12/12 [==============================] - 7s 566ms/step - loss: 2.0412 - acc: 0.4241 - val_loss: 2.0681 - val_acc: 0.4236\n",
      "Epoch 21/32\n",
      "12/12 [==============================] - 7s 567ms/step - loss: 2.0634 - acc: 0.4361 - val_loss: 2.0968 - val_acc: 0.4617\n",
      "Epoch 22/32\n",
      "12/12 [==============================] - 7s 565ms/step - loss: 2.0224 - acc: 0.4461 - val_loss: 2.0628 - val_acc: 0.4064\n",
      "Epoch 23/32\n",
      "12/12 [==============================] - 7s 562ms/step - loss: 1.9830 - acc: 0.4176 - val_loss: 2.0710 - val_acc: 0.4047\n",
      "Epoch 24/32\n",
      "12/12 [==============================] - 7s 560ms/step - loss: 2.2895 - acc: 0.3798 - val_loss: 2.3130 - val_acc: 0.3781\n",
      "Epoch 25/32\n",
      "12/12 [==============================] - 7s 574ms/step - loss: 2.0342 - acc: 0.3926 - val_loss: 2.0454 - val_acc: 0.3973\n",
      "Epoch 26/32\n",
      "12/12 [==============================] - 7s 584ms/step - loss: 2.0585 - acc: 0.3736 - val_loss: 2.0235 - val_acc: 0.3970\n",
      "Epoch 27/32\n",
      "12/12 [==============================] - 7s 572ms/step - loss: 2.0039 - acc: 0.4062 - val_loss: 2.0673 - val_acc: 0.3879\n",
      "Epoch 28/32\n",
      "12/12 [==============================] - 7s 566ms/step - loss: 2.0058 - acc: 0.3967 - val_loss: 2.0868 - val_acc: 0.3777\n",
      "Epoch 29/32\n",
      "12/12 [==============================] - 7s 564ms/step - loss: 1.9735 - acc: 0.4085 - val_loss: 2.0437 - val_acc: 0.4071\n",
      "Epoch 30/32\n",
      "12/12 [==============================] - 7s 567ms/step - loss: 1.9473 - acc: 0.4270 - val_loss: 2.0302 - val_acc: 0.4088\n",
      "Epoch 31/32\n",
      "12/12 [==============================] - 7s 563ms/step - loss: 2.0977 - acc: 0.3952 - val_loss: 2.1213 - val_acc: 0.4594\n",
      "Epoch 32/32\n",
      "12/12 [==============================] - 7s 568ms/step - loss: 1.9463 - acc: 0.4550 - val_loss: 2.0297 - val_acc: 0.4260\n"
     ]
    }
   ],
   "source": [
    "# Train the sixth RNN model\n",
    "RNN_model_6_history = RNN_model_6.fit(partial_X_RNN_train,\n",
    "                                      partial_y_RNN_train,\n",
    "                                      epochs=32,\n",
    "                                      batch_size=512,\n",
    "                                      validation_data=(x_RNN_val, y_RNN_val))"
   ]
  },
  {
   "cell_type": "code",
   "execution_count": 85,
   "metadata": {
    "colab": {
     "base_uri": "https://localhost:8080/",
     "height": 573
    },
    "executionInfo": {
     "elapsed": 609,
     "status": "ok",
     "timestamp": 1637549222202,
     "user": {
      "displayName": "Nicholas Saulnier",
      "photoUrl": "https://lh3.googleusercontent.com/a-/AOh14GjBzaoSuUs2qp4-Wr1BcTklxfosWn89g7Tbw1j8=s64",
      "userId": "12122203451340966147"
     },
     "user_tz": 480
    },
    "id": "rd1YO7xmo9fF",
    "outputId": "951395ac-aa5d-46b5-8778-c59c735ccedc"
   },
   "outputs": [
    {
     "data": {
      "image/png": "[encoded data removed]",
      "text/plain": [
       "<Figure size 432x288 with 1 Axes>"
      ]
     },
     "metadata": {
      "needs_background": "light"
     },
     "output_type": "display_data"
    },
    {
     "data": {
      "image/png": "[encoded data removed]",
      "text/plain": [
       "<Figure size 432x288 with 1 Axes>"
      ]
     },
     "metadata": {
      "needs_background": "light"
     },
     "output_type": "display_data"
    }
   ],
   "source": [
    "plotTrainingAndValidationLoss(RNN_model_6_history)\n",
    "plotTrainingAndValidationAccuracy(RNN_model_6_history, 'acc')"
   ]
  },
  {
   "cell_type": "code",
   "execution_count": 86,
   "metadata": {
    "executionInfo": {
     "elapsed": 220,
     "status": "ok",
     "timestamp": 1637549222421,
     "user": {
      "displayName": "Nicholas Saulnier",
      "photoUrl": "https://lh3.googleusercontent.com/a-/AOh14GjBzaoSuUs2qp4-Wr1BcTklxfosWn89g7Tbw1j8=s64",
      "userId": "12122203451340966147"
     },
     "user_tz": 480
    },
    "id": "6wqztHiZf-I8"
   },
   "outputs": [],
   "source": [
    "# Create an seventh model, which is the same as the first model \n",
    "# with a learning rate of 0.0001\n",
    "RNN_model_7 = Sequential()\n",
    "RNN_model_7.add(Embedding(max_features, 46))\n",
    "RNN_model_7.add(LSTM(46))\n",
    "RNN_model_7.add(Dense(46, activation='softmax'))\n",
    "\n",
    "opt = keras.optimizers.rmsprop_v2.RMSProp(learning_rate=0.0001)\n",
    "RNN_model_7.compile(optimizer='rmsprop',\n",
    "                    loss='categorical_crossentropy',\n",
    "                    metrics=['acc'])"
   ]
  },
  {
   "cell_type": "code",
   "execution_count": 87,
   "metadata": {
    "colab": {
     "base_uri": "https://localhost:8080/"
    },
    "executionInfo": {
     "elapsed": 215013,
     "status": "ok",
     "timestamp": 1637549437431,
     "user": {
      "displayName": "Nicholas Saulnier",
      "photoUrl": "https://lh3.googleusercontent.com/a-/AOh14GjBzaoSuUs2qp4-Wr1BcTklxfosWn89g7Tbw1j8=s64",
      "userId": "12122203451340966147"
     },
     "user_tz": 480
    },
    "id": "_sSMKIYHf-3P",
    "outputId": "d0d62fea-4e1c-41f5-cf4f-d732a12164cb"
   },
   "outputs": [
    {
     "name": "stdout",
     "output_type": "stream",
     "text": [
      "Epoch 1/32\n",
      "12/12 [==============================] - 9s 607ms/step - loss: 3.3655 - acc: 0.3206 - val_loss: 2.6516 - val_acc: 0.3558\n",
      "Epoch 2/32\n",
      "12/12 [==============================] - 7s 560ms/step - loss: 2.5360 - acc: 0.3497 - val_loss: 2.4716 - val_acc: 0.3558\n",
      "Epoch 3/32\n",
      "12/12 [==============================] - 7s 560ms/step - loss: 2.4256 - acc: 0.3497 - val_loss: 2.4037 - val_acc: 0.3558\n",
      "Epoch 4/32\n",
      "12/12 [==============================] - 7s 558ms/step - loss: 2.3763 - acc: 0.3502 - val_loss: 2.3725 - val_acc: 0.3558\n",
      "Epoch 5/32\n",
      "12/12 [==============================] - 7s 564ms/step - loss: 2.3560 - acc: 0.3517 - val_loss: 2.3401 - val_acc: 0.3744\n",
      "Epoch 6/32\n",
      "12/12 [==============================] - 7s 565ms/step - loss: 2.3445 - acc: 0.3552 - val_loss: 2.3394 - val_acc: 0.3558\n",
      "Epoch 7/32\n",
      "12/12 [==============================] - 7s 558ms/step - loss: 2.3099 - acc: 0.3625 - val_loss: 2.4114 - val_acc: 0.3531\n",
      "Epoch 8/32\n",
      "12/12 [==============================] - 7s 554ms/step - loss: 2.3186 - acc: 0.3653 - val_loss: 2.2948 - val_acc: 0.3798\n",
      "Epoch 9/32\n",
      "12/12 [==============================] - 7s 560ms/step - loss: 2.2878 - acc: 0.3671 - val_loss: 2.4160 - val_acc: 0.3558\n",
      "Epoch 10/32\n",
      "12/12 [==============================] - 7s 554ms/step - loss: 2.3916 - acc: 0.3166 - val_loss: 2.2929 - val_acc: 0.3811\n",
      "Epoch 11/32\n",
      "12/12 [==============================] - 7s 577ms/step - loss: 2.1560 - acc: 0.3688 - val_loss: 2.0741 - val_acc: 0.3784\n",
      "Epoch 12/32\n",
      "12/12 [==============================] - 7s 555ms/step - loss: 2.0542 - acc: 0.3656 - val_loss: 2.0596 - val_acc: 0.3723\n",
      "Epoch 13/32\n",
      "12/12 [==============================] - 7s 564ms/step - loss: 2.1519 - acc: 0.3826 - val_loss: 2.0692 - val_acc: 0.3889\n",
      "Epoch 14/32\n",
      "12/12 [==============================] - 7s 563ms/step - loss: 2.0544 - acc: 0.3970 - val_loss: 2.0620 - val_acc: 0.4017\n",
      "Epoch 15/32\n",
      "12/12 [==============================] - 7s 562ms/step - loss: 2.0446 - acc: 0.4045 - val_loss: 2.0540 - val_acc: 0.4078\n",
      "Epoch 16/32\n",
      "12/12 [==============================] - 7s 562ms/step - loss: 2.0360 - acc: 0.4143 - val_loss: 2.0949 - val_acc: 0.3892\n",
      "Epoch 17/32\n",
      "12/12 [==============================] - 7s 561ms/step - loss: 2.0998 - acc: 0.3916 - val_loss: 2.0716 - val_acc: 0.3680\n",
      "Epoch 18/32\n",
      "12/12 [==============================] - 7s 569ms/step - loss: 2.3235 - acc: 0.2992 - val_loss: 2.1789 - val_acc: 0.3659\n",
      "Epoch 19/32\n",
      "12/12 [==============================] - 7s 574ms/step - loss: 2.1218 - acc: 0.3744 - val_loss: 2.0671 - val_acc: 0.3723\n",
      "Epoch 20/32\n",
      "12/12 [==============================] - 7s 560ms/step - loss: 2.1453 - acc: 0.4047 - val_loss: 2.1175 - val_acc: 0.4047\n",
      "Epoch 21/32\n",
      "12/12 [==============================] - 7s 562ms/step - loss: 2.0269 - acc: 0.4135 - val_loss: 2.0217 - val_acc: 0.4128\n",
      "Epoch 22/32\n",
      "12/12 [==============================] - 7s 556ms/step - loss: 1.9915 - acc: 0.4251 - val_loss: 2.0791 - val_acc: 0.3126\n",
      "Epoch 23/32\n",
      "12/12 [==============================] - 7s 558ms/step - loss: 2.0210 - acc: 0.4103 - val_loss: 2.1773 - val_acc: 0.4020\n",
      "Epoch 24/32\n",
      "12/12 [==============================] - 7s 560ms/step - loss: 2.0872 - acc: 0.4240 - val_loss: 2.3009 - val_acc: 0.2496\n",
      "Epoch 25/32\n",
      "12/12 [==============================] - 7s 562ms/step - loss: 2.0872 - acc: 0.3881 - val_loss: 1.9471 - val_acc: 0.5258\n",
      "Epoch 26/32\n",
      "12/12 [==============================] - 7s 564ms/step - loss: 2.0302 - acc: 0.4369 - val_loss: 2.1009 - val_acc: 0.4003\n",
      "Epoch 27/32\n",
      "12/12 [==============================] - 7s 555ms/step - loss: 2.0204 - acc: 0.4075 - val_loss: 2.0341 - val_acc: 0.4030\n",
      "Epoch 28/32\n",
      "12/12 [==============================] - 7s 550ms/step - loss: 1.9898 - acc: 0.4115 - val_loss: 2.0444 - val_acc: 0.3939\n",
      "Epoch 29/32\n",
      "12/12 [==============================] - 7s 550ms/step - loss: 1.9992 - acc: 0.4078 - val_loss: 2.0435 - val_acc: 0.3912\n",
      "Epoch 30/32\n",
      "12/12 [==============================] - 7s 553ms/step - loss: 2.0557 - acc: 0.3959 - val_loss: 2.0890 - val_acc: 0.3757\n",
      "Epoch 31/32\n",
      "12/12 [==============================] - 7s 555ms/step - loss: 1.9680 - acc: 0.4366 - val_loss: 2.0012 - val_acc: 0.4358\n",
      "Epoch 32/32\n",
      "12/12 [==============================] - 7s 554ms/step - loss: 2.0192 - acc: 0.4251 - val_loss: 2.0234 - val_acc: 0.4388\n"
     ]
    }
   ],
   "source": [
    "# Train the seventh RNN model\n",
    "RNN_model_7_history = RNN_model_7.fit(partial_X_RNN_train,\n",
    "                                      partial_y_RNN_train,\n",
    "                                      epochs=32,\n",
    "                                      batch_size=512,\n",
    "                                      validation_data=(x_RNN_val, y_RNN_val))"
   ]
  },
  {
   "cell_type": "code",
   "execution_count": 88,
   "metadata": {
    "colab": {
     "base_uri": "https://localhost:8080/",
     "height": 573
    },
    "executionInfo": {
     "elapsed": 537,
     "status": "ok",
     "timestamp": 1637549437965,
     "user": {
      "displayName": "Nicholas Saulnier",
      "photoUrl": "https://lh3.googleusercontent.com/a-/AOh14GjBzaoSuUs2qp4-Wr1BcTklxfosWn89g7Tbw1j8=s64",
      "userId": "12122203451340966147"
     },
     "user_tz": 480
    },
    "id": "STupv8ntpAXS",
    "outputId": "091925e3-f827-4d9b-92cb-34fe7aff426e"
   },
   "outputs": [
    {
     "data": {
      "image/png": "[encoded data removed]",
      "text/plain": [
       "<Figure size 432x288 with 1 Axes>"
      ]
     },
     "metadata": {
      "needs_background": "light"
     },
     "output_type": "display_data"
    },
    {
     "data": {
      "image/png": "[encoded data removed]",
      "text/plain": [
       "<Figure size 432x288 with 1 Axes>"
      ]
     },
     "metadata": {
      "needs_background": "light"
     },
     "output_type": "display_data"
    }
   ],
   "source": [
    "plotTrainingAndValidationLoss(RNN_model_7_history)\n",
    "plotTrainingAndValidationAccuracy(RNN_model_7_history, 'acc')"
   ]
  },
  {
   "cell_type": "code",
   "execution_count": 104,
   "metadata": {
    "executionInfo": {
     "elapsed": 159,
     "status": "ok",
     "timestamp": 1637550004803,
     "user": {
      "displayName": "Nicholas Saulnier",
      "photoUrl": "https://lh3.googleusercontent.com/a-/AOh14GjBzaoSuUs2qp4-Wr1BcTklxfosWn89g7Tbw1j8=s64",
      "userId": "12122203451340966147"
     },
     "user_tz": 480
    },
    "id": "vSZXRnQXik9Q"
   },
   "outputs": [],
   "source": [
    "# Create lists of the models and model histories\n",
    "model_list = [RNN_model_1, RNN_model_2, RNN_model_3, RNN_model_4, RNN_model_5, RNN_model_6, RNN_model_7]\n",
    "model_history_list = [RNN_model_1_history, RNN_model_2_history, RNN_model_3_history, RNN_model_4_history, RNN_model_5_history, RNN_model_6_history, RNN_model_7_history]"
   ]
  },
  {
   "cell_type": "code",
   "execution_count": 105,
   "metadata": {
    "executionInfo": {
     "elapsed": 161,
     "status": "ok",
     "timestamp": 1637550005889,
     "user": {
      "displayName": "Nicholas Saulnier",
      "photoUrl": "https://lh3.googleusercontent.com/a-/AOh14GjBzaoSuUs2qp4-Wr1BcTklxfosWn89g7Tbw1j8=s64",
      "userId": "12122203451340966147"
     },
     "user_tz": 480
    },
    "id": "lQt2YUeuk_Gz"
   },
   "outputs": [],
   "source": [
    "# Record information on the best performing model\n",
    "best_RNN_model = getBestPerformingModel(model_list, model_history_list, 'acc')\n",
    "recordBestModel(step_1_metrics_out, best_RNN_model, 'Best RNN Model')"
   ]
  },
  {
   "cell_type": "markdown",
   "metadata": {
    "id": "dMv7iIdJspW9"
   },
   "source": [
    "## Step 4. Problem 1 Summary"
   ]
  },
  {
   "cell_type": "markdown",
   "metadata": {
    "id": "3flg1yrBs-7P"
   },
   "source": [
    "**Problem 1 Takeaways**\n",
    "\n",
    "For both the basic neural network and RNN models, increasing the number of layers, and to a lesser extent nodes per layer, led to better model performance. Using tanh and relu activation functions, as opposed to sigmoid, also resulted in slightly higher accuracy scores for the basic neural network models. Training the basic models was a cinch, and I was able to use the vectorize method as it exists in the class notebooks to prepare the data. \n",
    "\n",
    "When I started building and training the RNN models, I immediately ran into problems with memory and training times. The solution was to switch to Google Colab. The LSTM models performed more poorly than the basic neural network models, and I'm not sure why. I suspect that the LSTM models would benefit from more layers and training data, and training time, than I gave them. Rather than waste time trying to get the best results, I decided to iterate over more versions of the RNN models to discover what architectural choices had the greatest impact. My experiments taught me that the size of the embedding space (vocab) has the greatest impact on model performance, with greater embedding space sizes (vocab) resulting in much higher accuracy scores. Note: I changed the 'embedding space', aka vocab size, parameter on the embedding layer with a gpu runtime and no recurrent dropout, which doesn't appear to work with cudNNLSTM layers. It makes sense that using an embedding size that matches the vocab would lead to better results. The next most important setting was batch size, with smaller batch sizes resulting in better accuracy at the cost of increased training times. My experiments with learning rate were limited, but it appears that going below 0.01 results in degrading performance, although different runs produced different results."
   ]
  },
  {
   "cell_type": "markdown",
   "metadata": {
    "id": "NSyxkMe_RXNQ"
   },
   "source": [
    "# Part 2. Named Entity Recognition"
   ]
  },
  {
   "cell_type": "markdown",
   "metadata": {
    "id": "vi7bE-Zd7NQ8"
   },
   "source": [
    "## 2.1 Download Data and Setup Evaluation Script"
   ]
  },
  {
   "cell_type": "code",
   "execution_count": 3,
   "metadata": {
    "colab": {
     "base_uri": "https://localhost:8080/"
    },
    "executionInfo": {
     "elapsed": 2399,
     "status": "ok",
     "timestamp": 1637455829624,
     "user": {
      "displayName": "Nicholas Saulnier",
      "photoUrl": "https://lh3.googleusercontent.com/a-/AOh14GjBzaoSuUs2qp4-Wr1BcTklxfosWn89g7Tbw1j8=s64",
      "userId": "12122203451340966147"
     },
     "user_tz": 480
    },
    "id": "cB56eN6XReGH",
    "outputId": "fe56902d-8e40-4a24-bf89-905c00216275"
   },
   "outputs": [
    {
     "name": "stdout",
     "output_type": "stream",
     "text": [
      "[nltk_data] Downloading package conll2002 to /root/nltk_data...\n",
      "[nltk_data]   Package conll2002 is already up-to-date!\n"
     ]
    }
   ],
   "source": [
    "# Load the conll2002 Spanish corpus\n",
    "import nltk\n",
    "nltk.download('conll2002')\n",
    "from nltk.corpus import conll2002\n",
    "\n",
    "train_sents = list(conll2002.iob_sents('esp.train'))\n",
    "dev_sents = list(conll2002.iob_sents('esp.testa'))\n",
    "test_sents = list(conll2002.iob_sents('esp.testb'))"
   ]
  },
  {
   "cell_type": "code",
   "execution_count": 4,
   "metadata": {
    "executionInfo": {
     "elapsed": 7,
     "status": "ok",
     "timestamp": 1637455829624,
     "user": {
      "displayName": "Nicholas Saulnier",
      "photoUrl": "https://lh3.googleusercontent.com/a-/AOh14GjBzaoSuUs2qp4-Wr1BcTklxfosWn89g7Tbw1j8=s64",
      "userId": "12122203451340966147"
     },
     "user_tz": 480
    },
    "id": "JkE7niITRjZp"
   },
   "outputs": [],
   "source": [
    "# Adapted from Chris Callison-Burch's code stub\n",
    "\n",
    "def getfeats(word, o, postag):\n",
    "    \"\"\" This takes the word in question and\n",
    "    the offset with respect to the instance\n",
    "    word \"\"\"\n",
    "    o = str(o)\n",
    "    features = [\n",
    "        (word, postag)\n",
    "    ]\n",
    "    return features"
   ]
  },
  {
   "cell_type": "code",
   "execution_count": 5,
   "metadata": {
    "executionInfo": {
     "elapsed": 2,
     "status": "ok",
     "timestamp": 1637455829843,
     "user": {
      "displayName": "Nicholas Saulnier",
      "photoUrl": "https://lh3.googleusercontent.com/a-/AOh14GjBzaoSuUs2qp4-Wr1BcTklxfosWn89g7Tbw1j8=s64",
      "userId": "12122203451340966147"
     },
     "user_tz": 480
    },
    "id": "uoSLv5EoXzGK"
   },
   "outputs": [],
   "source": [
    "# Adapted from Chris Callison-Burch's code stub\n",
    "\n",
    "def word2features(sent, i):\n",
    "    \"\"\" The function generates all features\n",
    "    for the word at position i in the\n",
    "    sentence.\"\"\"\n",
    "    features = []\n",
    "    # the window around the token\n",
    "    for o in [-1,0,1]:\n",
    "        if i+o >= 0 and i+o < len(sent):\n",
    "            word = sent[i+o][0]\n",
    "            postag = sent[i+o][1]\n",
    "            featlist = getfeats(word, o, postag)\n",
    "            features.extend(featlist)\n",
    "    \n",
    "    return dict(features)"
   ]
  },
  {
   "cell_type": "code",
   "execution_count": 6,
   "metadata": {
    "executionInfo": {
     "elapsed": 2050,
     "status": "ok",
     "timestamp": 1637455833246,
     "user": {
      "displayName": "Nicholas Saulnier",
      "photoUrl": "https://lh3.googleusercontent.com/a-/AOh14GjBzaoSuUs2qp4-Wr1BcTklxfosWn89g7Tbw1j8=s64",
      "userId": "12122203451340966147"
     },
     "user_tz": 480
    },
    "id": "4mi5vp61X0i-"
   },
   "outputs": [],
   "source": [
    "# Prepare training data \n",
    "# Taken from Chris Callison-Burch's code stub\n",
    "train_feats = []\n",
    "train_labels = []\n",
    "\n",
    "for sent in train_sents:\n",
    "    for i in range(len(sent)):\n",
    "        feats = word2features(sent,i)\n",
    "        train_feats.append(feats)\n",
    "        train_labels.append(sent[i][-1])\n",
    "\n",
    "vectorizer = DictVectorizer()\n",
    "X_train = vectorizer.fit_transform(train_feats)"
   ]
  },
  {
   "cell_type": "code",
   "execution_count": 7,
   "metadata": {
    "executionInfo": {
     "elapsed": 149,
     "status": "ok",
     "timestamp": 1637455833393,
     "user": {
      "displayName": "Nicholas Saulnier",
      "photoUrl": "https://lh3.googleusercontent.com/a-/AOh14GjBzaoSuUs2qp4-Wr1BcTklxfosWn89g7Tbw1j8=s64",
      "userId": "12122203451340966147"
     },
     "user_tz": 480
    },
    "id": "VN2fKj53YYg_"
   },
   "outputs": [],
   "source": [
    "# Prepare dev data \n",
    "# Taken from Chris Callison-Burch's code stub\n",
    "dev_feats = []\n",
    "dev_labels = []\n",
    "\n",
    "for sent in dev_sents:\n",
    "    for i in range(len(sent)):\n",
    "        feats = word2features(sent,i)\n",
    "        dev_feats.append(feats)\n",
    "        dev_labels.append(sent[i][-1])\n",
    "\n",
    "X_dev = vectorizer.transform(dev_feats)"
   ]
  },
  {
   "cell_type": "code",
   "execution_count": 8,
   "metadata": {
    "executionInfo": {
     "elapsed": 216,
     "status": "ok",
     "timestamp": 1637455834160,
     "user": {
      "displayName": "Nicholas Saulnier",
      "photoUrl": "https://lh3.googleusercontent.com/a-/AOh14GjBzaoSuUs2qp4-Wr1BcTklxfosWn89g7Tbw1j8=s64",
      "userId": "12122203451340966147"
     },
     "user_tz": 480
    },
    "id": "dvL3cKNK3CAp"
   },
   "outputs": [],
   "source": [
    "# Prepare test data \n",
    "# Taken from Chris Callison-Burch's code stub\n",
    "test_feats = []\n",
    "test_labels = []\n",
    "\n",
    "for sent in test_sents:\n",
    "    for i in range(len(sent)):\n",
    "        feats = word2features(sent,i)\n",
    "        test_feats.append(feats)\n",
    "        test_labels.append(sent[i][-1])\n",
    "\n",
    "X_test = vectorizer.transform(test_feats)"
   ]
  },
  {
   "cell_type": "markdown",
   "metadata": {
    "id": "d9dirA9B7Vap"
   },
   "source": [
    "## 2.2 NER using Different Features"
   ]
  },
  {
   "cell_type": "code",
   "execution_count": 9,
   "metadata": {
    "executionInfo": {
     "elapsed": 166,
     "status": "ok",
     "timestamp": 1637455835569,
     "user": {
      "displayName": "Nicholas Saulnier",
      "photoUrl": "https://lh3.googleusercontent.com/a-/AOh14GjBzaoSuUs2qp4-Wr1BcTklxfosWn89g7Tbw1j8=s64",
      "userId": "12122203451340966147"
     },
     "user_tz": 480
    },
    "id": "tIZ4U6gnSTBp"
   },
   "outputs": [],
   "source": [
    "# Define the classifier models\n",
    "classifier_models = {\n",
    "    '5NN': KNeighborsClassifier(n_neighbors=5),\n",
    "    'DTC': DecisionTreeClassifier(random_state=0),\n",
    "    'LR' : LogisticRegression(random_state=0)\n",
    "}"
   ]
  },
  {
   "cell_type": "code",
   "execution_count": 10,
   "metadata": {
    "executionInfo": {
     "elapsed": 157,
     "status": "ok",
     "timestamp": 1637455836650,
     "user": {
      "displayName": "Nicholas Saulnier",
      "photoUrl": "https://lh3.googleusercontent.com/a-/AOh14GjBzaoSuUs2qp4-Wr1BcTklxfosWn89g7Tbw1j8=s64",
      "userId": "12122203451340966147"
     },
     "user_tz": 480
    },
    "id": "VnMfBJfhWgz_"
   },
   "outputs": [],
   "source": [
    "def writeResults(y_pred, sentences, file_path):\n",
    "    j=0\n",
    "    with open(file_path, 'w') as file:\n",
    "        for sentence in sentences:\n",
    "            for i in range(len(sentence)):\n",
    "                word = sentence[i][0]\n",
    "                gold = sentence[i][-1]\n",
    "                pred = y_pred[j]\n",
    "                j += 1\n",
    "                file.write('{}\\t{}\\t{}\\n'.format(word,gold,pred))\n",
    "        file.write('\\n')"
   ]
  },
  {
   "cell_type": "code",
   "execution_count": 11,
   "metadata": {
    "colab": {
     "base_uri": "https://localhost:8080/"
    },
    "executionInfo": {
     "elapsed": 1080213,
     "status": "ok",
     "timestamp": 1637456918094,
     "user": {
      "displayName": "Nicholas Saulnier",
      "photoUrl": "https://lh3.googleusercontent.com/a-/AOh14GjBzaoSuUs2qp4-Wr1BcTklxfosWn89g7Tbw1j8=s64",
      "userId": "12122203451340966147"
     },
     "user_tz": 480
    },
    "id": "mEjw3CPPUf5o",
    "outputId": "5b262f39-8978-4cbc-8987-66dad6c51fb2"
   },
   "outputs": [
    {
     "name": "stdout",
     "output_type": "stream",
     "text": [
      "training 5NN classifier...\n",
      "evaluating 5NN classifier with training data...\n",
      "evaluating 5NN classifier with dev data...\n",
      "writing training results to file...\n",
      "writing dev results to file...\n",
      "training DTC classifier...\n",
      "evaluating DTC classifier with training data...\n",
      "evaluating DTC classifier with dev data...\n",
      "writing training results to file...\n",
      "writing dev results to file...\n",
      "training LR classifier...\n"
     ]
    },
    {
     "name": "stderr",
     "output_type": "stream",
     "text": [
      "/usr/local/lib/python3.7/dist-packages/sklearn/linear_model/_logistic.py:818: ConvergenceWarning: lbfgs failed to converge (status=1):\n",
      "STOP: TOTAL NO. of ITERATIONS REACHED LIMIT.\n",
      "\n",
      "Increase the number of iterations (max_iter) or scale the data as shown in:\n",
      "    https://scikit-learn.org/stable/modules/preprocessing.html\n",
      "Please also refer to the documentation for alternative solver options:\n",
      "    https://scikit-learn.org/stable/modules/linear_model.html#logistic-regression\n",
      "  extra_warning_msg=_LOGISTIC_SOLVER_CONVERGENCE_MSG,\n"
     ]
    },
    {
     "name": "stdout",
     "output_type": "stream",
     "text": [
      "evaluating LR classifier with training data...\n",
      "evaluating LR classifier with dev data...\n",
      "writing training results to file...\n",
      "writing dev results to file...\n"
     ]
    }
   ],
   "source": [
    "# Train each of the models and evaluate them using the dev data\n",
    "for classifier_name,classifier in classifier_models.items():\n",
    "    print('training ' + classifier_name + ' classifier...')\n",
    "    classifier.fit(X_train, train_labels)\n",
    "\n",
    "    print('evaluating ' + classifier_name + ' classifier with training data...')\n",
    "    y_pred_train = classifier.predict(X_train)\n",
    "    print('evaluating ' + classifier_name + ' classifier with dev data...')\n",
    "    y_pred_dev = classifier.predict(X_dev)\n",
    "\n",
    "    print('writing training results to file...')\n",
    "    train_results_out = os.path.join(os.getcwd(), 'Part2Results', 'train_results_' + classifier_name + '.txt')\n",
    "    writeResults(y_pred_train, train_sents, train_results_out)\n",
    "\n",
    "    print('writing dev results to file...')\n",
    "    dev_results_out = os.path.join(os.getcwd(), 'Part2Results', 'dev_results_' + classifier_name + '.txt')\n",
    "    writeResults(y_pred_dev, dev_sents, dev_results_out)"
   ]
  },
  {
   "cell_type": "code",
   "execution_count": 47,
   "metadata": {
    "colab": {
     "base_uri": "https://localhost:8080/"
    },
    "executionInfo": {
     "elapsed": 1664,
     "status": "ok",
     "timestamp": 1637454342992,
     "user": {
      "displayName": "Nicholas Saulnier",
      "photoUrl": "https://lh3.googleusercontent.com/a-/AOh14GjBzaoSuUs2qp4-Wr1BcTklxfosWn89g7Tbw1j8=s64",
      "userId": "12122203451340966147"
     },
     "user_tz": 480
    },
    "id": "Z8ZWh-3-jhyg",
    "outputId": "47c13b32-7fdd-46b4-ced3-2acc7830d7ef"
   },
   "outputs": [
    {
     "name": "stdout",
     "output_type": "stream",
     "text": [
      "processed 264715 tokens with 18797 phrases; found: 18890 phrases; correct: 7514.\n",
      "accuracy:  92.74%; precision:  39.78%; recall:  39.97%; FB1:  39.88\n",
      "              LOC: precision:  43.01%; recall:  47.63%; FB1:  45.20  5441\n",
      "             MISC: precision:  23.61%; recall:  23.70%; FB1:  23.66  2181\n",
      "              ORG: precision:  49.58%; recall:  47.94%; FB1:  48.75  7146\n",
      "              PER: precision:  27.07%; recall:  25.83%; FB1:  26.44  4122\n"
     ]
    }
   ],
   "source": [
    "# Get the training results for the K-Nearest Neighbors model\n",
    "%run -i conlleval.py './Part2Results/train_results_5NN.txt'"
   ]
  },
  {
   "cell_type": "code",
   "execution_count": 48,
   "metadata": {
    "colab": {
     "base_uri": "https://localhost:8080/"
    },
    "executionInfo": {
     "elapsed": 406,
     "status": "ok",
     "timestamp": 1637454350505,
     "user": {
      "displayName": "Nicholas Saulnier",
      "photoUrl": "https://lh3.googleusercontent.com/a-/AOh14GjBzaoSuUs2qp4-Wr1BcTklxfosWn89g7Tbw1j8=s64",
      "userId": "12122203451340966147"
     },
     "user_tz": 480
    },
    "id": "vFEc7L7I1Bh-",
    "outputId": "07aa94a8-adf6-4fb1-8db2-0a82c178a8fe"
   },
   "outputs": [
    {
     "name": "stdout",
     "output_type": "stream",
     "text": [
      "processed 52923 tokens with 4351 phrases; found: 4885 phrases; correct: 1121.\n",
      "accuracy:  86.63%; precision:  22.95%; recall:  25.76%; FB1:  24.27\n",
      "              LOC: precision:  19.04%; recall:  40.45%; FB1:  25.89  2090\n",
      "             MISC: precision:   8.47%; recall:   6.97%; FB1:   7.64  366\n",
      "              ORG: precision:  32.80%; recall:  34.82%; FB1:  33.78  1805\n",
      "              PER: precision:  16.03%; recall:   8.18%; FB1:  10.83  624\n"
     ]
    }
   ],
   "source": [
    "# Get the dev results for the K-Nearest Neighbors model\n",
    "%run -i conlleval.py './Part2Results/dev_results_5NN.txt'"
   ]
  },
  {
   "cell_type": "code",
   "execution_count": 49,
   "metadata": {
    "colab": {
     "base_uri": "https://localhost:8080/"
    },
    "executionInfo": {
     "elapsed": 1682,
     "status": "ok",
     "timestamp": 1637454357118,
     "user": {
      "displayName": "Nicholas Saulnier",
      "photoUrl": "https://lh3.googleusercontent.com/a-/AOh14GjBzaoSuUs2qp4-Wr1BcTklxfosWn89g7Tbw1j8=s64",
      "userId": "12122203451340966147"
     },
     "user_tz": 480
    },
    "id": "_VUH4Xux06On",
    "outputId": "8ce5d239-f4fc-4551-f351-712f2bf7686b"
   },
   "outputs": [
    {
     "name": "stdout",
     "output_type": "stream",
     "text": [
      "processed 264715 tokens with 18797 phrases; found: 20966 phrases; correct: 16794.\n",
      "accuracy:  98.77%; precision:  80.10%; recall:  89.34%; FB1:  84.47\n",
      "              LOC: precision:  85.42%; recall:  93.95%; FB1:  89.48  5404\n",
      "             MISC: precision:  72.69%; recall:  85.00%; FB1:  78.36  2541\n",
      "              ORG: precision:  83.29%; recall:  90.22%; FB1:  86.61  8005\n",
      "              PER: precision:  73.05%; recall:  84.80%; FB1:  78.48  5016\n"
     ]
    }
   ],
   "source": [
    "# Get the training results for the Decision Tree model\n",
    "%run -i conlleval.py './Part2Results/train_results_DTC.txt'"
   ]
  },
  {
   "cell_type": "code",
   "execution_count": 50,
   "metadata": {
    "colab": {
     "base_uri": "https://localhost:8080/"
    },
    "executionInfo": {
     "elapsed": 474,
     "status": "ok",
     "timestamp": 1637454360068,
     "user": {
      "displayName": "Nicholas Saulnier",
      "photoUrl": "https://lh3.googleusercontent.com/a-/AOh14GjBzaoSuUs2qp4-Wr1BcTklxfosWn89g7Tbw1j8=s64",
      "userId": "12122203451340966147"
     },
     "user_tz": 480
    },
    "id": "ObaU0AdS1Yfy",
    "outputId": "aaffdf6f-3599-43ce-b46b-cf3d0e193489"
   },
   "outputs": [
    {
     "name": "stdout",
     "output_type": "stream",
     "text": [
      "processed 52923 tokens with 4351 phrases; found: 3701 phrases; correct: 1472.\n",
      "accuracy:  89.52%; precision:  39.77%; recall:  33.83%; FB1:  36.56\n",
      "              LOC: precision:  44.78%; recall:  49.29%; FB1:  46.93  1083\n",
      "             MISC: precision:  18.39%; recall:  14.38%; FB1:  16.14  348\n",
      "              ORG: precision:  46.05%; recall:  43.53%; FB1:  44.75  1607\n",
      "              PER: precision:  27.60%; recall:  14.98%; FB1:  19.42  663\n"
     ]
    }
   ],
   "source": [
    "# Get the dev results for the Decision Tree model\n",
    "%run -i conlleval.py './Part2Results/dev_results_DTC.txt'"
   ]
  },
  {
   "cell_type": "code",
   "execution_count": 51,
   "metadata": {
    "colab": {
     "base_uri": "https://localhost:8080/"
    },
    "executionInfo": {
     "elapsed": 1746,
     "status": "ok",
     "timestamp": 1637454366059,
     "user": {
      "displayName": "Nicholas Saulnier",
      "photoUrl": "https://lh3.googleusercontent.com/a-/AOh14GjBzaoSuUs2qp4-Wr1BcTklxfosWn89g7Tbw1j8=s64",
      "userId": "12122203451340966147"
     },
     "user_tz": 480
    },
    "id": "cA1l2gWZ1byL",
    "outputId": "4d26ce73-b9d3-40ad-a62f-8dee58b2ee57"
   },
   "outputs": [
    {
     "name": "stdout",
     "output_type": "stream",
     "text": [
      "processed 264715 tokens with 18797 phrases; found: 12243 phrases; correct: 4838.\n",
      "accuracy:  91.93%; precision:  39.52%; recall:  25.74%; FB1:  31.17\n",
      "              LOC: precision:  44.36%; recall:  25.06%; FB1:  32.02  2775\n",
      "             MISC: precision:  16.09%; recall:   9.99%; FB1:  12.32  1349\n",
      "              ORG: precision:  45.09%; recall:  30.24%; FB1:  36.20  4957\n",
      "              PER: precision:  36.53%; recall:  26.73%; FB1:  30.87  3162\n"
     ]
    }
   ],
   "source": [
    "# Get the training results for the Logistic Regression model\n",
    "%run -i conlleval.py './Part2Results/train_results_LR.txt'"
   ]
  },
  {
   "cell_type": "code",
   "execution_count": 52,
   "metadata": {
    "colab": {
     "base_uri": "https://localhost:8080/"
    },
    "executionInfo": {
     "elapsed": 414,
     "status": "ok",
     "timestamp": 1637454369465,
     "user": {
      "displayName": "Nicholas Saulnier",
      "photoUrl": "https://lh3.googleusercontent.com/a-/AOh14GjBzaoSuUs2qp4-Wr1BcTklxfosWn89g7Tbw1j8=s64",
      "userId": "12122203451340966147"
     },
     "user_tz": 480
    },
    "id": "uE71nHen1ggd",
    "outputId": "f1690295-c353-428b-ea08-d327bfcb0793"
   },
   "outputs": [
    {
     "name": "stdout",
     "output_type": "stream",
     "text": [
      "processed 52923 tokens with 4351 phrases; found: 2225 phrases; correct: 749.\n",
      "accuracy:  88.19%; precision:  33.66%; recall:  17.21%; FB1:  22.78\n",
      "              LOC: precision:  39.66%; recall:  26.12%; FB1:  31.50  648\n",
      "             MISC: precision:   5.24%; recall:   2.47%; FB1:   3.36  210\n",
      "              ORG: precision:  39.05%; recall:  22.35%; FB1:  28.43  973\n",
      "              PER: precision:  25.63%; recall:   8.27%; FB1:  12.50  394\n"
     ]
    }
   ],
   "source": [
    "# Get the dev results for the Logistic Regression model\n",
    "%run -i conlleval.py './Part2Results/dev_results_LR.txt'"
   ]
  },
  {
   "cell_type": "markdown",
   "metadata": {
    "id": "QDdKKsAt7c8J"
   },
   "source": [
    "## 2.3 Run Model on Test Set"
   ]
  },
  {
   "cell_type": "code",
   "execution_count": 56,
   "metadata": {
    "colab": {
     "base_uri": "https://localhost:8080/"
    },
    "executionInfo": {
     "elapsed": 425,
     "status": "ok",
     "timestamp": 1637455524307,
     "user": {
      "displayName": "Nicholas Saulnier",
      "photoUrl": "https://lh3.googleusercontent.com/a-/AOh14GjBzaoSuUs2qp4-Wr1BcTklxfosWn89g7Tbw1j8=s64",
      "userId": "12122203451340966147"
     },
     "user_tz": 480
    },
    "id": "CNWz6LhH8O9v",
    "outputId": "c1aa9059-bb0e-4748-8c42-62e2a7275270"
   },
   "outputs": [
    {
     "name": "stdout",
     "output_type": "stream",
     "text": [
      "evaluating DTC classifier with test data...\n",
      "writing test results to file...\n"
     ]
    }
   ],
   "source": [
    "# Run the best perform model--the decision tree model--on the test set\n",
    "print('evaluating DTC classifier with test data...')\n",
    "y_pred_train = classifier.predict(X_train)\n",
    "print('writing test results to file...')\n",
    "train_results_out = os.path.join(os.getcwd(), 'Part2Results', 'test_results_DTC.txt')\n",
    "writeResults(y_pred_train, train_sents, train_results_out)"
   ]
  },
  {
   "cell_type": "code",
   "execution_count": 58,
   "metadata": {
    "colab": {
     "base_uri": "https://localhost:8080/"
    },
    "executionInfo": {
     "elapsed": 1794,
     "status": "ok",
     "timestamp": 1637455554252,
     "user": {
      "displayName": "Nicholas Saulnier",
      "photoUrl": "https://lh3.googleusercontent.com/a-/AOh14GjBzaoSuUs2qp4-Wr1BcTklxfosWn89g7Tbw1j8=s64",
      "userId": "12122203451340966147"
     },
     "user_tz": 480
    },
    "id": "kO-4LR4B9G8a",
    "outputId": "d45ea803-c76c-461d-f7b3-5ad51722748c"
   },
   "outputs": [
    {
     "name": "stdout",
     "output_type": "stream",
     "text": [
      "processed 264715 tokens with 18797 phrases; found: 12243 phrases; correct: 4838.\n",
      "accuracy:  91.93%; precision:  39.52%; recall:  25.74%; FB1:  31.17\n",
      "              LOC: precision:  44.36%; recall:  25.06%; FB1:  32.02  2775\n",
      "             MISC: precision:  16.09%; recall:   9.99%; FB1:  12.32  1349\n",
      "              ORG: precision:  45.09%; recall:  30.24%; FB1:  36.20  4957\n",
      "              PER: precision:  36.53%; recall:  26.73%; FB1:  30.87  3162\n"
     ]
    }
   ],
   "source": [
    "# Get the test results for the Decision Tree model\n",
    "%run -i conlleval.py './Part2Results/test_results_DTC.txt'"
   ]
  }
 ],
 "metadata": {
  "colab": {
   "collapsed_sections": [],
   "machine_shape": "hm",
   "name": "assignment4.ipynb",
   "provenance": []
  },
  "kernelspec": {
   "display_name": "Python 3",
   "language": "python",
   "name": "python3"
  },
  "language_info": {
   "codemirror_mode": {
    "name": "ipython",
    "version": 3
   },
   "file_extension": ".py",
   "mimetype": "text/x-python",
   "name": "python",
   "nbconvert_exporter": "python",
   "pygments_lexer": "ipython3",
   "version": "3.7.6"
  }
 },
 "nbformat": 4,
 "nbformat_minor": 5
}
